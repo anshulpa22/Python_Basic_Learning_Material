{
 "cells": [
  {
   "cell_type": "markdown",
   "id": "60c65431",
   "metadata": {},
   "source": [
    "Enumerate, ZIP, Reversed, sorted, dictionary in loop"
   ]
  },
  {
   "cell_type": "markdown",
   "id": "941fb9b0",
   "metadata": {},
   "source": [
    "Purpose of Enumerate: Enumerate attches an index with a charcter in a string"
   ]
  },
  {
   "cell_type": "code",
   "execution_count": 2,
   "id": "ff13add7",
   "metadata": {},
   "outputs": [
    {
     "data": {
      "text/plain": [
       "[(0, 'e'), (1, 'u'), (2, 'r'), (3, 'o'), (4, 'n')]"
      ]
     },
     "execution_count": 2,
     "metadata": {},
     "output_type": "execute_result"
    }
   ],
   "source": [
    "s = \"euron\"\n",
    "list(enumerate(s))"
   ]
  },
  {
   "cell_type": "code",
   "execution_count": 3,
   "id": "4bf8c70a",
   "metadata": {},
   "outputs": [
    {
     "name": "stdout",
     "output_type": "stream",
     "text": [
      "(0, 'e')\n",
      "(1, 'u')\n",
      "(2, 'r')\n",
      "(3, 'o')\n",
      "(4, 'n')\n"
     ]
    }
   ],
   "source": [
    "for i in enumerate(\"euron\"):\n",
    "    print(i)"
   ]
  },
  {
   "cell_type": "code",
   "execution_count": 4,
   "id": "f0ed6f00",
   "metadata": {},
   "outputs": [
    {
     "name": "stdout",
     "output_type": "stream",
     "text": [
      "0 e\n",
      "1 u\n",
      "2 r\n",
      "3 o\n",
      "4 n\n"
     ]
    }
   ],
   "source": [
    "for index, data in enumerate(\"euron\"):\n",
    "    print(index, data)"
   ]
  },
  {
   "cell_type": "code",
   "execution_count": 6,
   "id": "d875069e",
   "metadata": {},
   "outputs": [
    {
     "name": "stdout",
     "output_type": "stream",
     "text": [
      "0 e\n",
      "1 u\n",
      "R\n",
      "2 r\n",
      "3 o\n",
      "4 n\n"
     ]
    }
   ],
   "source": [
    "s = \"euron\"\n",
    "for index, data in enumerate(s):\n",
    "    if index == 2 :\n",
    "        print(s[2].upper())\n",
    "        \n",
    "    print(index, data)\n",
    "    "
   ]
  },
  {
   "cell_type": "markdown",
   "id": "3cf0163d",
   "metadata": {},
   "source": [
    "ZIP Function: Zip function helps to create a pair of respective values based on indexes in different list"
   ]
  },
  {
   "cell_type": "code",
   "execution_count": 10,
   "id": "c5d18b05",
   "metadata": {},
   "outputs": [
    {
     "data": {
      "text/plain": [
       "<zip at 0x107152a80>"
      ]
     },
     "execution_count": 10,
     "metadata": {},
     "output_type": "execute_result"
    }
   ],
   "source": [
    "l = [2, 3, 4]\n",
    "l2 = [4, 5, 6]\n",
    "l3 = [\"sudh\", \"kumar\", \"euron\"]\n",
    "zip(l,l2)"
   ]
  },
  {
   "cell_type": "code",
   "execution_count": 11,
   "id": "05f298a5",
   "metadata": {},
   "outputs": [
    {
     "data": {
      "text/plain": [
       "[(2, 4), (3, 5), (4, 6)]"
      ]
     },
     "execution_count": 11,
     "metadata": {},
     "output_type": "execute_result"
    }
   ],
   "source": [
    "list(zip(l, l2))"
   ]
  },
  {
   "cell_type": "code",
   "execution_count": 12,
   "id": "890ccea4",
   "metadata": {},
   "outputs": [
    {
     "data": {
      "text/plain": [
       "[(2, 4, 'sudh'), (3, 5, 'kumar'), (4, 6, 'euron')]"
      ]
     },
     "execution_count": 12,
     "metadata": {},
     "output_type": "execute_result"
    }
   ],
   "source": [
    "list(zip(l, l2, l3))"
   ]
  },
  {
   "cell_type": "code",
   "execution_count": 13,
   "id": "09f32256",
   "metadata": {},
   "outputs": [
    {
     "data": {
      "text/plain": [
       "[(2, 4, 'sudh'), (3, 5, 'kumar'), (4, 6, 'euron')]"
      ]
     },
     "execution_count": 13,
     "metadata": {},
     "output_type": "execute_result"
    }
   ],
   "source": [
    "l = [2, 3, 4, 7, 8, 9]\n",
    "l2 = [4, 5, 6]\n",
    "l3 = [\"sudh\", \"kumar\", \"euron\"]\n",
    "list(zip(l,l2,l3))"
   ]
  },
  {
   "cell_type": "markdown",
   "id": "55b09498",
   "metadata": {},
   "source": [
    "Any extra data in any of the list is not taken into considertion by the ZIP function"
   ]
  },
  {
   "cell_type": "markdown",
   "id": "20641c29",
   "metadata": {},
   "source": [
    "Reversed Function"
   ]
  },
  {
   "cell_type": "code",
   "execution_count": 14,
   "id": "f1f1da22",
   "metadata": {},
   "outputs": [
    {
     "data": {
      "text/plain": [
       "['u', 'h', 's', 'n', 'a', 'h', 'd', 'u', 's']"
      ]
     },
     "execution_count": 14,
     "metadata": {},
     "output_type": "execute_result"
    }
   ],
   "source": [
    "list(reversed(\"sudhanshu\"))"
   ]
  },
  {
   "cell_type": "code",
   "execution_count": 15,
   "id": "ce53f7ac",
   "metadata": {},
   "outputs": [
    {
     "data": {
      "text/plain": [
       "[2, 2, 3, 4, 4, 5, 5, 6]"
      ]
     },
     "execution_count": 15,
     "metadata": {},
     "output_type": "execute_result"
    }
   ],
   "source": [
    "sorted([3, 4, 5, 2, 2, 4, 5, 6])"
   ]
  },
  {
   "cell_type": "markdown",
   "id": "db03b206",
   "metadata": {},
   "source": [
    "Sorted by default does this in ascending order. If we enable the paprmeters reverse=True: it does descending orde"
   ]
  },
  {
   "cell_type": "code",
   "execution_count": 16,
   "id": "3c7d514a",
   "metadata": {},
   "outputs": [
    {
     "data": {
      "text/plain": [
       "[6, 5, 5, 4, 4, 3, 2, 2, 1]"
      ]
     },
     "execution_count": 16,
     "metadata": {},
     "output_type": "execute_result"
    }
   ],
   "source": [
    "sorted([1, 3, 4, 5, 2, 2, 4, 5, 6], reverse=True)"
   ]
  },
  {
   "cell_type": "markdown",
   "id": "577ae743",
   "metadata": {},
   "source": [
    "Dictionary"
   ]
  },
  {
   "cell_type": "code",
   "execution_count": 17,
   "id": "eecc19f1",
   "metadata": {},
   "outputs": [],
   "source": [
    "d = {\"name\":\"sudhanshu\", \"email_id\":\"sudhanshu@euron.one\", \"class\":[\"data\", \"dsa\"]}"
   ]
  },
  {
   "cell_type": "code",
   "execution_count": 18,
   "id": "d67e9ec6",
   "metadata": {},
   "outputs": [
    {
     "data": {
      "text/plain": [
       "dict_items([('name', 'sudhanshu'), ('email_id', 'sudhanshu@euron.one'), ('class', ['data', 'dsa'])])"
      ]
     },
     "execution_count": 18,
     "metadata": {},
     "output_type": "execute_result"
    }
   ],
   "source": [
    "d.items()"
   ]
  },
  {
   "cell_type": "code",
   "execution_count": 19,
   "id": "0cc495fa",
   "metadata": {},
   "outputs": [
    {
     "name": "stdout",
     "output_type": "stream",
     "text": [
      "('name', 'sudhanshu')\n",
      "('email_id', 'sudhanshu@euron.one')\n",
      "('class', ['data', 'dsa'])\n"
     ]
    }
   ],
   "source": [
    "for i in d.items():\n",
    "    print(i)"
   ]
  }
 ],
 "metadata": {
  "kernelspec": {
   "display_name": "base",
   "language": "python",
   "name": "python3"
  },
  "language_info": {
   "codemirror_mode": {
    "name": "ipython",
    "version": 3
   },
   "file_extension": ".py",
   "mimetype": "text/x-python",
   "name": "python",
   "nbconvert_exporter": "python",
   "pygments_lexer": "ipython3",
   "version": "3.12.7"
  }
 },
 "nbformat": 4,
 "nbformat_minor": 5
}
