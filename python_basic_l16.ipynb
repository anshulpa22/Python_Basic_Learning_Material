{
 "cells": [
  {
   "cell_type": "markdown",
   "id": "2a5c3f1b",
   "metadata": {},
   "source": [
    "\"CLOSURE\" inside a Python. \n",
    "\n",
    "Closure is a type of entity which is going to rember something for the user. Even if the execution of that entity is finisged, the closure function will be able to remember some of the values."
   ]
  },
  {
   "cell_type": "code",
   "execution_count": 1,
   "id": "28e03f70",
   "metadata": {},
   "outputs": [],
   "source": [
    "def outer():\n",
    "    x = 10\n",
    "    def inner():\n",
    "        print(x)\n",
    "    return inner"
   ]
  },
  {
   "cell_type": "code",
   "execution_count": 2,
   "id": "c25c6290",
   "metadata": {},
   "outputs": [],
   "source": [
    "closure = outer()"
   ]
  },
  {
   "cell_type": "code",
   "execution_count": 3,
   "id": "8e7553dd",
   "metadata": {},
   "outputs": [
    {
     "data": {
      "text/plain": [
       "<function __main__.outer.<locals>.inner()>"
      ]
     },
     "execution_count": 3,
     "metadata": {},
     "output_type": "execute_result"
    }
   ],
   "source": [
    "closure"
   ]
  },
  {
   "cell_type": "code",
   "execution_count": 4,
   "id": "4c29b271",
   "metadata": {},
   "outputs": [
    {
     "name": "stdout",
     "output_type": "stream",
     "text": [
      "10\n"
     ]
    }
   ],
   "source": [
    "closure()"
   ]
  },
  {
   "cell_type": "markdown",
   "id": "ded8c382",
   "metadata": {},
   "source": [
    "whener we are going to create a case of closure we need to make sure that there should be a nested function. In an outer functon something is going to be declared, that our inner function is going to use it. "
   ]
  },
  {
   "cell_type": "code",
   "execution_count": 5,
   "id": "42640620",
   "metadata": {},
   "outputs": [],
   "source": [
    "def outer():\n",
    "    x = 10\n",
    "    def inner():\n",
    "        print(x)\n",
    "    def inner1():\n",
    "        print(x)\n",
    "    def inner2():\n",
    "        print(x)\n",
    "    return inner, inner1, inner2"
   ]
  },
  {
   "cell_type": "code",
   "execution_count": 6,
   "id": "73ac02b6",
   "metadata": {},
   "outputs": [],
   "source": [
    "closure = outer()"
   ]
  },
  {
   "cell_type": "code",
   "execution_count": 7,
   "id": "6e78eaba",
   "metadata": {},
   "outputs": [
    {
     "data": {
      "text/plain": [
       "(<function __main__.outer.<locals>.inner()>,\n",
       " <function __main__.outer.<locals>.inner1()>,\n",
       " <function __main__.outer.<locals>.inner2()>)"
      ]
     },
     "execution_count": 7,
     "metadata": {},
     "output_type": "execute_result"
    }
   ],
   "source": [
    "closure"
   ]
  },
  {
   "cell_type": "code",
   "execution_count": 8,
   "id": "7006c710",
   "metadata": {},
   "outputs": [
    {
     "ename": "TypeError",
     "evalue": "'tuple' object is not callable",
     "output_type": "error",
     "traceback": [
      "\u001b[0;31m---------------------------------------------------------------------------\u001b[0m",
      "\u001b[0;31mTypeError\u001b[0m                                 Traceback (most recent call last)",
      "Cell \u001b[0;32mIn[8], line 1\u001b[0m\n\u001b[0;32m----> 1\u001b[0m closure()\n",
      "\u001b[0;31mTypeError\u001b[0m: 'tuple' object is not callable"
     ]
    }
   ],
   "source": [
    "closure()"
   ]
  },
  {
   "cell_type": "code",
   "execution_count": 10,
   "id": "76eb13b7",
   "metadata": {},
   "outputs": [
    {
     "name": "stdout",
     "output_type": "stream",
     "text": [
      "10\n"
     ]
    }
   ],
   "source": [
    "closure[0]()"
   ]
  },
  {
   "cell_type": "code",
   "execution_count": 11,
   "id": "2c1fca75",
   "metadata": {},
   "outputs": [
    {
     "name": "stdout",
     "output_type": "stream",
     "text": [
      "10\n"
     ]
    }
   ],
   "source": [
    "closure[1]()"
   ]
  },
  {
   "cell_type": "code",
   "execution_count": 12,
   "id": "9f9620f4",
   "metadata": {},
   "outputs": [
    {
     "name": "stdout",
     "output_type": "stream",
     "text": [
      "10\n"
     ]
    }
   ],
   "source": [
    "closure[2]()"
   ]
  },
  {
   "cell_type": "code",
   "execution_count": 13,
   "id": "f913fe7d",
   "metadata": {},
   "outputs": [],
   "source": [
    "def counter():\n",
    "    count = 0\n",
    "    def increment():\n",
    "        nonlocal count\n",
    "        count = count + 1\n",
    "        return count\n",
    "    return increment"
   ]
  },
  {
   "cell_type": "code",
   "execution_count": 14,
   "id": "7de01c88",
   "metadata": {},
   "outputs": [],
   "source": [
    "c = counter()"
   ]
  },
  {
   "cell_type": "code",
   "execution_count": 15,
   "id": "db3f2cc9",
   "metadata": {},
   "outputs": [
    {
     "data": {
      "text/plain": [
       "<function __main__.counter.<locals>.increment()>"
      ]
     },
     "execution_count": 15,
     "metadata": {},
     "output_type": "execute_result"
    }
   ],
   "source": [
    "c"
   ]
  },
  {
   "cell_type": "code",
   "execution_count": 16,
   "id": "8a4224b7",
   "metadata": {},
   "outputs": [
    {
     "data": {
      "text/plain": [
       "1"
      ]
     },
     "execution_count": 16,
     "metadata": {},
     "output_type": "execute_result"
    }
   ],
   "source": [
    "c()"
   ]
  },
  {
   "cell_type": "code",
   "execution_count": 17,
   "id": "d43e94d3",
   "metadata": {},
   "outputs": [
    {
     "data": {
      "text/plain": [
       "2"
      ]
     },
     "execution_count": 17,
     "metadata": {},
     "output_type": "execute_result"
    }
   ],
   "source": [
    "c()"
   ]
  },
  {
   "cell_type": "code",
   "execution_count": 18,
   "id": "b9c6e4fd",
   "metadata": {},
   "outputs": [
    {
     "data": {
      "text/plain": [
       "3"
      ]
     },
     "execution_count": 18,
     "metadata": {},
     "output_type": "execute_result"
    }
   ],
   "source": [
    "c()"
   ]
  },
  {
   "cell_type": "markdown",
   "id": "8a905347",
   "metadata": {},
   "source": [
    "nonlocal definition extends the scope of the associate variable to nearest declartaion and allows that valuer to be updated"
   ]
  },
  {
   "cell_type": "code",
   "execution_count": 19,
   "id": "a3d0307f",
   "metadata": {},
   "outputs": [],
   "source": [
    "def power_of(n):\n",
    "    def power(x):\n",
    "        return x**n\n",
    "    return power"
   ]
  },
  {
   "cell_type": "code",
   "execution_count": 22,
   "id": "f7666c41",
   "metadata": {},
   "outputs": [],
   "source": [
    "square = power_of(2)\n",
    "cube = power_of(3)\n",
    "quad = power_of(4)"
   ]
  },
  {
   "cell_type": "code",
   "execution_count": 23,
   "id": "5ef9eba8",
   "metadata": {},
   "outputs": [
    {
     "data": {
      "text/plain": [
       "16"
      ]
     },
     "execution_count": 23,
     "metadata": {},
     "output_type": "execute_result"
    }
   ],
   "source": [
    "square(4)"
   ]
  },
  {
   "cell_type": "code",
   "execution_count": 24,
   "id": "dbcca479",
   "metadata": {},
   "outputs": [
    {
     "data": {
      "text/plain": [
       "343"
      ]
     },
     "execution_count": 24,
     "metadata": {},
     "output_type": "execute_result"
    }
   ],
   "source": [
    "cube(7)"
   ]
  },
  {
   "cell_type": "code",
   "execution_count": 25,
   "id": "6e0166ca",
   "metadata": {},
   "outputs": [
    {
     "data": {
      "text/plain": [
       "512"
      ]
     },
     "execution_count": 25,
     "metadata": {},
     "output_type": "execute_result"
    }
   ],
   "source": [
    "cube(8)"
   ]
  },
  {
   "cell_type": "code",
   "execution_count": 26,
   "id": "adca505f",
   "metadata": {},
   "outputs": [
    {
     "data": {
      "text/plain": [
       "6561"
      ]
     },
     "execution_count": 26,
     "metadata": {},
     "output_type": "execute_result"
    }
   ],
   "source": [
    "quad(9)"
   ]
  },
  {
   "cell_type": "code",
   "execution_count": null,
   "id": "aa04f99d",
   "metadata": {},
   "outputs": [],
   "source": []
  }
 ],
 "metadata": {
  "kernelspec": {
   "display_name": "base",
   "language": "python",
   "name": "python3"
  },
  "language_info": {
   "codemirror_mode": {
    "name": "ipython",
    "version": 3
   },
   "file_extension": ".py",
   "mimetype": "text/x-python",
   "name": "python",
   "nbconvert_exporter": "python",
   "pygments_lexer": "ipython3",
   "version": "3.12.7"
  }
 },
 "nbformat": 4,
 "nbformat_minor": 5
}
