{
 "cells": [
  {
   "cell_type": "markdown",
   "id": "8e34ea56",
   "metadata": {},
   "source": [
    "Abstraction"
   ]
  },
  {
   "cell_type": "code",
   "execution_count": 2,
   "id": "41c065c9",
   "metadata": {},
   "outputs": [],
   "source": [
    "from abc import ABC, abstractmethod"
   ]
  },
  {
   "cell_type": "code",
   "execution_count": 3,
   "id": "af7b489e",
   "metadata": {},
   "outputs": [],
   "source": [
    "class mentor(ABC):\n",
    "\n",
    "    @abstractmethod\n",
    "    def teach(self):\n",
    "        pass\n",
    "\n",
    "    @abstractmethod\n",
    "    def mentor(self):\n",
    "        pass\n",
    "\n",
    "    @abstractmethod\n",
    "    def course(self):\n",
    "        pass"
   ]
  },
  {
   "cell_type": "code",
   "execution_count": 6,
   "id": "546dd57c",
   "metadata": {},
   "outputs": [],
   "source": [
    "class euronmentor(mentor):\n",
    "    def teach(self):\n",
    "        return \"this will return teaching\"\n",
    "    \n",
    "    def mentor(self):\n",
    "        return \"this will give info on mentor\"\n",
    "    \n",
    "    def course(self):\n",
    "        return \"this will the course info\""
   ]
  },
  {
   "cell_type": "code",
   "execution_count": 7,
   "id": "6af595a1",
   "metadata": {},
   "outputs": [],
   "source": [
    "s = euronmentor()"
   ]
  },
  {
   "cell_type": "code",
   "execution_count": 8,
   "id": "175f5560",
   "metadata": {},
   "outputs": [
    {
     "data": {
      "text/plain": [
       "'this will return teaching'"
      ]
     },
     "execution_count": 8,
     "metadata": {},
     "output_type": "execute_result"
    }
   ],
   "source": [
    "s.teach()"
   ]
  },
  {
   "cell_type": "code",
   "execution_count": 9,
   "id": "55b0760d",
   "metadata": {},
   "outputs": [
    {
     "ename": "NameError",
     "evalue": "name 'm' is not defined",
     "output_type": "error",
     "traceback": [
      "\u001b[0;31m---------------------------------------------------------------------------\u001b[0m",
      "\u001b[0;31mNameError\u001b[0m                                 Traceback (most recent call last)",
      "Cell \u001b[0;32mIn[9], line 1\u001b[0m\n\u001b[0;32m----> 1\u001b[0m m \u001b[38;5;241m-\u001b[39m mentor()\n",
      "\u001b[0;31mNameError\u001b[0m: name 'm' is not defined"
     ]
    }
   ],
   "source": [
    "m - mentor()"
   ]
  },
  {
   "cell_type": "markdown",
   "id": "0b12fd46",
   "metadata": {},
   "source": [
    "We will never be able to create any object/instance/variable of an abstract  base class directly. \n",
    "\n",
    "Only those classes which are inheriting the base abstract class will be able to create an object/variable/instance"
   ]
  },
  {
   "cell_type": "code",
   "execution_count": 10,
   "id": "be234617",
   "metadata": {},
   "outputs": [],
   "source": [
    "class mentor(ABC):\n",
    "\n",
    "    @abstractmethod\n",
    "    def teach(self):\n",
    "        pass\n",
    "\n",
    "    @abstractmethod\n",
    "    def mentor(self):\n",
    "        pass\n",
    "\n",
    "    @abstractmethod\n",
    "    def course(self):\n",
    "        pass\n",
    "\n",
    "    def welcome(self):\n",
    "        return \"welcome to euron\""
   ]
  },
  {
   "cell_type": "code",
   "execution_count": 14,
   "id": "b012248c",
   "metadata": {},
   "outputs": [],
   "source": [
    "class euronmentor(mentor):\n",
    "    def teach(self):\n",
    "        return \"this will return teaching\"\n",
    "    \n",
    "    def mentor(self):\n",
    "        return \"this will give info on mentor\"\n",
    "    \n",
    "    def course(self):\n",
    "        return \"this will the course info\""
   ]
  },
  {
   "cell_type": "code",
   "execution_count": 15,
   "id": "e15c374b",
   "metadata": {},
   "outputs": [
    {
     "ename": "TypeError",
     "evalue": "Can't instantiate abstract class mentor without an implementation for abstract methods 'course', 'mentor', 'teach'",
     "output_type": "error",
     "traceback": [
      "\u001b[0;31m---------------------------------------------------------------------------\u001b[0m",
      "\u001b[0;31mTypeError\u001b[0m                                 Traceback (most recent call last)",
      "Cell \u001b[0;32mIn[15], line 1\u001b[0m\n\u001b[0;32m----> 1\u001b[0m m \u001b[38;5;241m=\u001b[39m mentor()\n",
      "\u001b[0;31mTypeError\u001b[0m: Can't instantiate abstract class mentor without an implementation for abstract methods 'course', 'mentor', 'teach'"
     ]
    }
   ],
   "source": [
    "m = mentor()"
   ]
  },
  {
   "cell_type": "code",
   "execution_count": 16,
   "id": "57d130bb",
   "metadata": {},
   "outputs": [
    {
     "ename": "TypeError",
     "evalue": "mentor.welcome() missing 1 required positional argument: 'self'",
     "output_type": "error",
     "traceback": [
      "\u001b[0;31m---------------------------------------------------------------------------\u001b[0m",
      "\u001b[0;31mTypeError\u001b[0m                                 Traceback (most recent call last)",
      "Cell \u001b[0;32mIn[16], line 1\u001b[0m\n\u001b[0;32m----> 1\u001b[0m mentor\u001b[38;5;241m.\u001b[39mwelcome()\n",
      "\u001b[0;31mTypeError\u001b[0m: mentor.welcome() missing 1 required positional argument: 'self'"
     ]
    }
   ],
   "source": [
    "mentor.welcome()"
   ]
  },
  {
   "cell_type": "code",
   "execution_count": 17,
   "id": "2d0887d0",
   "metadata": {},
   "outputs": [
    {
     "data": {
      "text/plain": [
       "'welcome to euron'"
      ]
     },
     "execution_count": 17,
     "metadata": {},
     "output_type": "execute_result"
    }
   ],
   "source": [
    "m = euronmentor()\n",
    "m.welcome()"
   ]
  }
 ],
 "metadata": {
  "kernelspec": {
   "display_name": "base",
   "language": "python",
   "name": "python3"
  },
  "language_info": {
   "codemirror_mode": {
    "name": "ipython",
    "version": 3
   },
   "file_extension": ".py",
   "mimetype": "text/x-python",
   "name": "python",
   "nbconvert_exporter": "python",
   "pygments_lexer": "ipython3",
   "version": "3.12.7"
  }
 },
 "nbformat": 4,
 "nbformat_minor": 5
}
