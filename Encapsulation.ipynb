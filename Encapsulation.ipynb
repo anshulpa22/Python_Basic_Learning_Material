{
 "cells": [
  {
   "cell_type": "markdown",
   "id": "a328e947",
   "metadata": {},
   "source": [
    "This is about Encapsulation"
   ]
  },
  {
   "cell_type": "code",
   "execution_count": 1,
   "id": "078839a7",
   "metadata": {},
   "outputs": [],
   "source": [
    "class student:\n",
    "    def __init__(self, name):\n",
    "        self.name = name\n"
   ]
  },
  {
   "cell_type": "code",
   "execution_count": 2,
   "id": "9ee32652",
   "metadata": {},
   "outputs": [],
   "source": [
    "s = student(\"anshul\")"
   ]
  },
  {
   "cell_type": "code",
   "execution_count": 3,
   "id": "2e611385",
   "metadata": {},
   "outputs": [
    {
     "data": {
      "text/plain": [
       "'anshul'"
      ]
     },
     "execution_count": 3,
     "metadata": {},
     "output_type": "execute_result"
    }
   ],
   "source": [
    "s.name"
   ]
  },
  {
   "cell_type": "markdown",
   "id": "a6c413d5",
   "metadata": {},
   "source": [
    "Anyone can create an object of student class and use this name variable. This variable is called a public variable that there is no restriction from anybody to use it"
   ]
  },
  {
   "cell_type": "code",
   "execution_count": 4,
   "id": "97551018",
   "metadata": {},
   "outputs": [],
   "source": [
    "class student:\n",
    "    def __init__(self, name):\n",
    "        self._name = name"
   ]
  },
  {
   "cell_type": "code",
   "execution_count": 5,
   "id": "5f4e3eab",
   "metadata": {},
   "outputs": [],
   "source": [
    "s1 = student(\"anshul\")"
   ]
  },
  {
   "cell_type": "code",
   "execution_count": 6,
   "id": "c6b41eee",
   "metadata": {},
   "outputs": [
    {
     "data": {
      "text/plain": [
       "'anshul'"
      ]
     },
     "execution_count": 6,
     "metadata": {},
     "output_type": "execute_result"
    }
   ],
   "source": [
    "s1._name"
   ]
  },
  {
   "cell_type": "markdown",
   "id": "ba7a390b",
   "metadata": {},
   "source": [
    "In Python there is a concept of public abd private protected variable. in python _name is a protected varibale and this is a way to define it"
   ]
  },
  {
   "cell_type": "code",
   "execution_count": 7,
   "id": "895737ff",
   "metadata": {},
   "outputs": [],
   "source": [
    "class student:\n",
    "    def __init__(self, name):\n",
    "        self.__name = name"
   ]
  },
  {
   "cell_type": "code",
   "execution_count": 8,
   "id": "3aa6ce4f",
   "metadata": {},
   "outputs": [],
   "source": [
    "s2 = student(\"anhsul\")"
   ]
  },
  {
   "cell_type": "code",
   "execution_count": 9,
   "id": "0e9a2090",
   "metadata": {},
   "outputs": [
    {
     "ename": "AttributeError",
     "evalue": "'student' object has no attribute '__name'",
     "output_type": "error",
     "traceback": [
      "\u001b[0;31m---------------------------------------------------------------------------\u001b[0m",
      "\u001b[0;31mAttributeError\u001b[0m                            Traceback (most recent call last)",
      "Cell \u001b[0;32mIn[9], line 1\u001b[0m\n\u001b[0;32m----> 1\u001b[0m s2\u001b[38;5;241m.\u001b[39m__name\n",
      "\u001b[0;31mAttributeError\u001b[0m: 'student' object has no attribute '__name'"
     ]
    }
   ],
   "source": [
    "s2.__name"
   ]
  },
  {
   "cell_type": "markdown",
   "id": "adc409ff",
   "metadata": {},
   "source": [
    "If the variable starts with a double underscore: __name, it means that it is a private variable. With double underscore, we will not be able to use it directly. To access this now, we have to also attched the _classname__name. This is also called \"name mangling\"\n"
   ]
  },
  {
   "cell_type": "code",
   "execution_count": 11,
   "id": "594c2f25",
   "metadata": {},
   "outputs": [
    {
     "data": {
      "text/plain": [
       "'anhsul'"
      ]
     },
     "execution_count": 11,
     "metadata": {},
     "output_type": "execute_result"
    }
   ],
   "source": [
    "s2._student__name"
   ]
  },
  {
   "cell_type": "code",
   "execution_count": 13,
   "id": "2ebfc0e9",
   "metadata": {},
   "outputs": [],
   "source": [
    "class student:\n",
    "    def __init__(self, name):\n",
    "        self.__name = name\n",
    "\n",
    "    \n",
    "    def get_name(self):\n",
    "        return self.__name"
   ]
  },
  {
   "cell_type": "code",
   "execution_count": 14,
   "id": "dee8bcb9",
   "metadata": {},
   "outputs": [],
   "source": [
    "s = student(\"anshul\")"
   ]
  },
  {
   "cell_type": "code",
   "execution_count": 15,
   "id": "acb60764",
   "metadata": {},
   "outputs": [
    {
     "data": {
      "text/plain": [
       "'anshul'"
      ]
     },
     "execution_count": 15,
     "metadata": {},
     "output_type": "execute_result"
    }
   ],
   "source": [
    "s.get_name()"
   ]
  }
 ],
 "metadata": {
  "kernelspec": {
   "display_name": "base",
   "language": "python",
   "name": "python3"
  },
  "language_info": {
   "codemirror_mode": {
    "name": "ipython",
    "version": 3
   },
   "file_extension": ".py",
   "mimetype": "text/x-python",
   "name": "python",
   "nbconvert_exporter": "python",
   "pygments_lexer": "ipython3",
   "version": "3.12.7"
  }
 },
 "nbformat": 4,
 "nbformat_minor": 5
}
