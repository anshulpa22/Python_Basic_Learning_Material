{
 "cells": [
  {
   "cell_type": "markdown",
   "id": "de5c8040",
   "metadata": {},
   "source": [
    "File Context Manager"
   ]
  },
  {
   "cell_type": "code",
   "execution_count": null,
   "id": "92725ce7",
   "metadata": {},
   "outputs": [],
   "source": [
    "f = open('test.txt', 'w')\n",
    "f.write(\"this is my test file\")\n",
    "f.close()"
   ]
  },
  {
   "cell_type": "markdown",
   "id": "5d9e0882",
   "metadata": {},
   "source": [
    "Unless and untill we write close, the content will not be writtent into the file. What if we need something from the system itself so that the data can be saved without even calling the close function.\n",
    "\n",
    "It is here that the file context manager come into the picture. See the below exmaple use the \"with\" keyword"
   ]
  },
  {
   "cell_type": "code",
   "execution_count": 1,
   "id": "2633a83e",
   "metadata": {},
   "outputs": [],
   "source": [
    "with open('test.txt','w') as f:\n",
    "    f.write(\"this is a file context manager implementaon\")"
   ]
  },
  {
   "cell_type": "code",
   "execution_count": 5,
   "id": "a8240449",
   "metadata": {},
   "outputs": [
    {
     "name": "stdout",
     "output_type": "stream",
     "text": [
      "this is a file context manager implementaon\n"
     ]
    }
   ],
   "source": [
    "with open('test.txt','r') as f:\n",
    "    print(f.read())"
   ]
  }
 ],
 "metadata": {
  "kernelspec": {
   "display_name": "base",
   "language": "python",
   "name": "python3"
  },
  "language_info": {
   "codemirror_mode": {
    "name": "ipython",
    "version": 3
   },
   "file_extension": ".py",
   "mimetype": "text/x-python",
   "name": "python",
   "nbconvert_exporter": "python",
   "pygments_lexer": "ipython3",
   "version": "3.12.7"
  }
 },
 "nbformat": 4,
 "nbformat_minor": 5
}
