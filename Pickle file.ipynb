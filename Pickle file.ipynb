{
 "cells": [
  {
   "cell_type": "markdown",
   "id": "93b2f181",
   "metadata": {},
   "source": [
    "Pickles files are where we have serial data file. Here we try to wrap the python object or pythonic data into a complete binary format."
   ]
  },
  {
   "cell_type": "code",
   "execution_count": 4,
   "id": "dd2bd4d1",
   "metadata": {},
   "outputs": [],
   "source": [
    "import pickle"
   ]
  },
  {
   "cell_type": "code",
   "execution_count": 9,
   "id": "03177053",
   "metadata": {},
   "outputs": [],
   "source": [
    "data = {\"name\" : \"anshul\", \"address\":\"xyz\"}\n",
    "\n",
    "# The above is a python object and I have to serilaize this object/data into binary"
   ]
  },
  {
   "cell_type": "code",
   "execution_count": 10,
   "id": "22806073",
   "metadata": {},
   "outputs": [],
   "source": [
    "with open('data.pkl', 'wb') as f:\n",
    "    pickle.dump(data, f)"
   ]
  },
  {
   "cell_type": "markdown",
   "id": "5c1392d2",
   "metadata": {},
   "source": [
    "The above method is called serilaization of data"
   ]
  },
  {
   "cell_type": "code",
   "execution_count": 7,
   "id": "57b6e2ea",
   "metadata": {},
   "outputs": [],
   "source": [
    "l = [3,4,5,6,7,8,9]"
   ]
  },
  {
   "cell_type": "code",
   "execution_count": 11,
   "id": "65890de3",
   "metadata": {},
   "outputs": [],
   "source": [
    "with open('data_l.pkl', 'wb') as f:\n",
    "    pickle.dump(data, f)"
   ]
  },
  {
   "cell_type": "code",
   "execution_count": 14,
   "id": "1eba6546",
   "metadata": {},
   "outputs": [
    {
     "name": "stdout",
     "output_type": "stream",
     "text": [
      "{'name': 'anshul', 'address': 'xyz'}\n"
     ]
    }
   ],
   "source": [
    "with open('data.pkl', 'rb') as f:\n",
    "    print(pickle.load(f))"
   ]
  }
 ],
 "metadata": {
  "kernelspec": {
   "display_name": "base",
   "language": "python",
   "name": "python3"
  },
  "language_info": {
   "codemirror_mode": {
    "name": "ipython",
    "version": 3
   },
   "file_extension": ".py",
   "mimetype": "text/x-python",
   "name": "python",
   "nbconvert_exporter": "python",
   "pygments_lexer": "ipython3",
   "version": "3.12.7"
  }
 },
 "nbformat": 4,
 "nbformat_minor": 5
}
