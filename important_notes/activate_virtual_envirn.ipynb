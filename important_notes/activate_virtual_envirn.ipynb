{
 "cells": [
  {
   "cell_type": "markdown",
   "id": "03583e9b",
   "metadata": {},
   "source": [
    "Step1: Create a virtual package: python -m venv env_name\n",
    "\n",
    "Step2: Activate the Environment: 1) go to directory\n",
    "                                 2) source env_name/bin/deactivate\n",
    "                            \n",
    "                            \n",
    "-------------To deactivate the env later: deactivate--------------\n",
    "\n",
    "After activation:\n",
    "\n",
    "1) pip install -r ./requirements.txt\n",
    "\n",
    "\n",
    "Build the package\n",
    "\n",
    "1) pip install build twine\n",
    "\n",
    "2) python -m build\n",
    "\n",
    "Now, we will able to see the \\dist location\n",
    "\n",
    "Now, the things are build on local system. Next is to push it to pipy account. Password: Anshika0303##, username= anshulpa22\n",
    "---------------------------------------------------\n",
    "\n",
    "Push the package into the PiPy repo:\n",
    "\n",
    "1) python -m twine upload dist/*\n",
    "\n"
   ]
  }
 ],
 "metadata": {
  "language_info": {
   "name": "python"
  }
 },
 "nbformat": 4,
 "nbformat_minor": 5
}
