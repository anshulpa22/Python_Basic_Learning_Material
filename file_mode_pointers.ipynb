{
 "cells": [
  {
   "cell_type": "markdown",
   "id": "a0b49ddf",
   "metadata": {},
   "source": [
    "File Mode and Pointers"
   ]
  },
  {
   "cell_type": "code",
   "execution_count": 1,
   "id": "dc0a79a7",
   "metadata": {},
   "outputs": [
    {
     "data": {
      "text/plain": [
       "'i use to write tech\\n anshul is great'"
      ]
     },
     "execution_count": 1,
     "metadata": {},
     "output_type": "execute_result"
    }
   ],
   "source": [
    "open(\"test1.txt\", 'r+').read()"
   ]
  },
  {
   "cell_type": "markdown",
   "id": "6894c3bb",
   "metadata": {},
   "source": [
    "'r+' allows us to both read and write. However, if the file is not there, it will create an error"
   ]
  },
  {
   "cell_type": "code",
   "execution_count": 2,
   "id": "96ccd688",
   "metadata": {},
   "outputs": [
    {
     "data": {
      "text/plain": [
       "'i use to write tech\\n anshul is great'"
      ]
     },
     "execution_count": 2,
     "metadata": {},
     "output_type": "execute_result"
    }
   ],
   "source": [
    "f = open(\"test1.txt\", 'r+')\n",
    "f.read()"
   ]
  },
  {
   "cell_type": "code",
   "execution_count": 3,
   "id": "58791c1a",
   "metadata": {},
   "outputs": [
    {
     "data": {
      "text/plain": [
       "14"
      ]
     },
     "execution_count": 3,
     "metadata": {},
     "output_type": "execute_result"
    }
   ],
   "source": [
    "f.write(\"this is read +\")"
   ]
  },
  {
   "cell_type": "code",
   "execution_count": 4,
   "id": "210e20e8",
   "metadata": {},
   "outputs": [],
   "source": [
    "f.close()"
   ]
  },
  {
   "cell_type": "markdown",
   "id": "ef7da8e9",
   "metadata": {},
   "source": [
    "Here the new data is added at the end of file"
   ]
  },
  {
   "cell_type": "code",
   "execution_count": 5,
   "id": "78961ddc",
   "metadata": {},
   "outputs": [],
   "source": [
    "f = open(\"test1.txt\", 'r+')"
   ]
  },
  {
   "cell_type": "code",
   "execution_count": 6,
   "id": "0aa15c2c",
   "metadata": {},
   "outputs": [
    {
     "data": {
      "text/plain": [
       "38"
      ]
     },
     "execution_count": 6,
     "metadata": {},
     "output_type": "execute_result"
    }
   ],
   "source": [
    "f.write(\"gsgsgsg sghhss shshsjsjsjss sjsjsjjsjs\")"
   ]
  },
  {
   "cell_type": "code",
   "execution_count": 7,
   "id": "be2d06c8",
   "metadata": {},
   "outputs": [],
   "source": [
    "f.close()"
   ]
  },
  {
   "cell_type": "code",
   "execution_count": 8,
   "id": "6e0f9a26",
   "metadata": {},
   "outputs": [],
   "source": [
    "f = open(\"test1.txt\", 'r+')"
   ]
  },
  {
   "cell_type": "code",
   "execution_count": 9,
   "id": "5a3cb730",
   "metadata": {},
   "outputs": [
    {
     "data": {
      "text/plain": [
       "10"
      ]
     },
     "execution_count": 9,
     "metadata": {},
     "output_type": "execute_result"
    }
   ],
   "source": [
    "f.seek(10)"
   ]
  },
  {
   "cell_type": "code",
   "execution_count": 10,
   "id": "47ab31d7",
   "metadata": {},
   "outputs": [
    {
     "data": {
      "text/plain": [
       "'hhss shshsjsjsjss sjsjsjjsjsis is read +'"
      ]
     },
     "execution_count": 10,
     "metadata": {},
     "output_type": "execute_result"
    }
   ],
   "source": [
    "f.read()"
   ]
  },
  {
   "cell_type": "code",
   "execution_count": 11,
   "id": "dcefb647",
   "metadata": {},
   "outputs": [
    {
     "data": {
      "text/plain": [
       "50"
      ]
     },
     "execution_count": 11,
     "metadata": {},
     "output_type": "execute_result"
    }
   ],
   "source": [
    "f.tell()"
   ]
  },
  {
   "cell_type": "code",
   "execution_count": 12,
   "id": "33badd50",
   "metadata": {},
   "outputs": [],
   "source": [
    "f.close()"
   ]
  },
  {
   "cell_type": "code",
   "execution_count": 13,
   "id": "b0c189f6",
   "metadata": {},
   "outputs": [],
   "source": [
    "f = open(\"test1.txt\", 'r+')"
   ]
  },
  {
   "cell_type": "code",
   "execution_count": 14,
   "id": "46f25829",
   "metadata": {},
   "outputs": [
    {
     "data": {
      "text/plain": [
       "10"
      ]
     },
     "execution_count": 14,
     "metadata": {},
     "output_type": "execute_result"
    }
   ],
   "source": [
    "f.seek(10)"
   ]
  },
  {
   "cell_type": "code",
   "execution_count": 15,
   "id": "11fe1c60",
   "metadata": {},
   "outputs": [
    {
     "data": {
      "text/plain": [
       "10"
      ]
     },
     "execution_count": 15,
     "metadata": {},
     "output_type": "execute_result"
    }
   ],
   "source": [
    "f.tell()"
   ]
  },
  {
   "cell_type": "code",
   "execution_count": 17,
   "id": "140f2f48",
   "metadata": {},
   "outputs": [],
   "source": [
    "f = open(\"test6.txt\", 'w+')"
   ]
  },
  {
   "cell_type": "code",
   "execution_count": 18,
   "id": "8171a2a9",
   "metadata": {},
   "outputs": [
    {
     "data": {
      "text/plain": [
       "48"
      ]
     },
     "execution_count": 18,
     "metadata": {},
     "output_type": "execute_result"
    }
   ],
   "source": [
    "f.write(\"this is my another mode which is write plus mode\")"
   ]
  },
  {
   "cell_type": "code",
   "execution_count": 19,
   "id": "e519635f",
   "metadata": {},
   "outputs": [],
   "source": [
    "f.close()"
   ]
  }
 ],
 "metadata": {
  "kernelspec": {
   "display_name": "base",
   "language": "python",
   "name": "python3"
  },
  "language_info": {
   "codemirror_mode": {
    "name": "ipython",
    "version": 3
   },
   "file_extension": ".py",
   "mimetype": "text/x-python",
   "name": "python",
   "nbconvert_exporter": "python",
   "pygments_lexer": "ipython3",
   "version": "3.12.7"
  }
 },
 "nbformat": 4,
 "nbformat_minor": 5
}
