{
 "cells": [
  {
   "cell_type": "markdown",
   "id": "d08a32e4",
   "metadata": {},
   "source": [
    "Read Write Open and append to a File iN PYTHON"
   ]
  },
  {
   "cell_type": "markdown",
   "id": "264e9d74",
   "metadata": {},
   "source": [
    "If we write f = open('test1.txt')----- Here if the file does not exist, it will generate an error as by deafult the file has only read permission, so to use we use the below command"
   ]
  },
  {
   "cell_type": "code",
   "execution_count": 2,
   "id": "84ed2ffb",
   "metadata": {},
   "outputs": [],
   "source": [
    "f = open('test1.txt', 'w')"
   ]
  },
  {
   "cell_type": "markdown",
   "id": "831fa43c",
   "metadata": {},
   "source": [
    "To write something in file use f.write() command. However, this will be written only when we close the instnace of file that is f.close()"
   ]
  },
  {
   "cell_type": "code",
   "execution_count": 3,
   "id": "b8a960ff",
   "metadata": {},
   "outputs": [
    {
     "data": {
      "text/plain": [
       "17"
      ]
     },
     "execution_count": 3,
     "metadata": {},
     "output_type": "execute_result"
    }
   ],
   "source": [
    "f.write(\"my name is anshul\")"
   ]
  },
  {
   "cell_type": "code",
   "execution_count": 4,
   "id": "05c9d05b",
   "metadata": {},
   "outputs": [],
   "source": [
    "f.close()"
   ]
  },
  {
   "cell_type": "code",
   "execution_count": 5,
   "id": "bac1d307",
   "metadata": {},
   "outputs": [],
   "source": [
    "f = open('test1.txt')"
   ]
  },
  {
   "cell_type": "code",
   "execution_count": 6,
   "id": "6aa5a55a",
   "metadata": {},
   "outputs": [
    {
     "data": {
      "text/plain": [
       "'my name is anshul'"
      ]
     },
     "execution_count": 6,
     "metadata": {},
     "output_type": "execute_result"
    }
   ],
   "source": [
    "f.read()"
   ]
  },
  {
   "cell_type": "code",
   "execution_count": 7,
   "id": "69e2f384",
   "metadata": {},
   "outputs": [],
   "source": [
    "f.close()"
   ]
  },
  {
   "cell_type": "code",
   "execution_count": 9,
   "id": "f5e3416d",
   "metadata": {},
   "outputs": [
    {
     "data": {
      "text/plain": [
       "19"
      ]
     },
     "execution_count": 9,
     "metadata": {},
     "output_type": "execute_result"
    }
   ],
   "source": [
    "f = open('test1.txt', 'w')\n",
    "f.write(\"i use to write tech\")"
   ]
  },
  {
   "cell_type": "code",
   "execution_count": 10,
   "id": "e840aafa",
   "metadata": {},
   "outputs": [],
   "source": [
    "f.close()"
   ]
  },
  {
   "cell_type": "markdown",
   "id": "e06afaad",
   "metadata": {},
   "source": [
    "The previous data is gone and is replaced by the new one\n"
   ]
  },
  {
   "cell_type": "code",
   "execution_count": 11,
   "id": "06aa1f96",
   "metadata": {},
   "outputs": [
    {
     "data": {
      "text/plain": [
       "17"
      ]
     },
     "execution_count": 11,
     "metadata": {},
     "output_type": "execute_result"
    }
   ],
   "source": [
    "f = open('test1.txt', 'a')\n",
    "f.write(\"\\n anshul is great\")"
   ]
  },
  {
   "cell_type": "code",
   "execution_count": 12,
   "id": "ba90d494",
   "metadata": {},
   "outputs": [],
   "source": [
    "f.close()"
   ]
  },
  {
   "cell_type": "code",
   "execution_count": 13,
   "id": "c39cfcb9",
   "metadata": {},
   "outputs": [
    {
     "data": {
      "text/plain": [
       "'i use to write tech\\n anshul is great'"
      ]
     },
     "execution_count": 13,
     "metadata": {},
     "output_type": "execute_result"
    }
   ],
   "source": [
    "f = open('test1.txt')\n",
    "f.read()"
   ]
  },
  {
   "cell_type": "markdown",
   "id": "2f7ee718",
   "metadata": {},
   "source": [
    "How to read a data in separate lines: use strip function"
   ]
  },
  {
   "cell_type": "code",
   "execution_count": 14,
   "id": "8db9f1f3",
   "metadata": {},
   "outputs": [
    {
     "name": "stdout",
     "output_type": "stream",
     "text": [
      "i use to write tech\n",
      "anshul is great\n"
     ]
    }
   ],
   "source": [
    "f = open('test1.txt')\n",
    "for i in f:\n",
    "    print(i.strip())"
   ]
  },
  {
   "cell_type": "markdown",
   "id": "b91b3504",
   "metadata": {},
   "source": [
    "How to read only a given number of charcaters"
   ]
  },
  {
   "cell_type": "code",
   "execution_count": 15,
   "id": "17c11c95",
   "metadata": {},
   "outputs": [
    {
     "data": {
      "text/plain": [
       "'i use to w'"
      ]
     },
     "execution_count": 15,
     "metadata": {},
     "output_type": "execute_result"
    }
   ],
   "source": [
    "f = open('test1.txt')\n",
    "f.read(10)"
   ]
  },
  {
   "cell_type": "code",
   "execution_count": 16,
   "id": "0387ffed",
   "metadata": {},
   "outputs": [],
   "source": [
    "f.close()"
   ]
  },
  {
   "cell_type": "code",
   "execution_count": 25,
   "id": "7cae8777",
   "metadata": {},
   "outputs": [],
   "source": [
    "l = [\"first line\\n\", \"second line \\n\", \"third line \\n\"]\n",
    "f = open (\"test2.txt\", 'w')\n",
    "f.writelines(l)"
   ]
  },
  {
   "cell_type": "code",
   "execution_count": 20,
   "id": "e36ff10c",
   "metadata": {},
   "outputs": [],
   "source": [
    "f.close()"
   ]
  },
  {
   "cell_type": "code",
   "execution_count": 26,
   "id": "225b8292",
   "metadata": {},
   "outputs": [
    {
     "data": {
      "text/plain": [
       "['first line\\n', 'second line \\n', 'third line \\n']"
      ]
     },
     "execution_count": 26,
     "metadata": {},
     "output_type": "execute_result"
    }
   ],
   "source": [
    "f = open(\"test2.txt\", 'r')\n",
    "f.readlines()"
   ]
  },
  {
   "cell_type": "markdown",
   "id": "935060c7",
   "metadata": {},
   "source": [
    "Now, the data is overwriiten and starts with first"
   ]
  },
  {
   "cell_type": "code",
   "execution_count": 1,
   "id": "82427d80",
   "metadata": {},
   "outputs": [],
   "source": [
    "f = open(\"test2.txt\", 'r+')"
   ]
  },
  {
   "cell_type": "code",
   "execution_count": 2,
   "id": "e9aac70e",
   "metadata": {},
   "outputs": [
    {
     "data": {
      "text/plain": [
       "'first line\\nsecond line \\nthird line \\n'"
      ]
     },
     "execution_count": 2,
     "metadata": {},
     "output_type": "execute_result"
    }
   ],
   "source": [
    "f.read()"
   ]
  },
  {
   "cell_type": "code",
   "execution_count": 3,
   "id": "04ab07a0",
   "metadata": {},
   "outputs": [
    {
     "data": {
      "text/plain": [
       "19"
      ]
     },
     "execution_count": 3,
     "metadata": {},
     "output_type": "execute_result"
    }
   ],
   "source": [
    "f.write(\"this is my new data\")"
   ]
  },
  {
   "cell_type": "code",
   "execution_count": 4,
   "id": "4d25c200",
   "metadata": {},
   "outputs": [],
   "source": [
    "f.close()"
   ]
  },
  {
   "cell_type": "code",
   "execution_count": 6,
   "id": "7dd5537d",
   "metadata": {},
   "outputs": [],
   "source": [
    "f = open(\"test6.txt\", 'a+')"
   ]
  },
  {
   "cell_type": "code",
   "execution_count": 7,
   "id": "7906d83c",
   "metadata": {},
   "outputs": [
    {
     "data": {
      "text/plain": [
       "''"
      ]
     },
     "execution_count": 7,
     "metadata": {},
     "output_type": "execute_result"
    }
   ],
   "source": [
    "f.read()"
   ]
  },
  {
   "cell_type": "code",
   "execution_count": 8,
   "id": "c40d9f55",
   "metadata": {},
   "outputs": [
    {
     "data": {
      "text/plain": [
       "48"
      ]
     },
     "execution_count": 8,
     "metadata": {},
     "output_type": "execute_result"
    }
   ],
   "source": [
    "f.tell()"
   ]
  },
  {
   "cell_type": "code",
   "execution_count": 9,
   "id": "64d52ab9",
   "metadata": {},
   "outputs": [
    {
     "data": {
      "text/plain": [
       "0"
      ]
     },
     "execution_count": 9,
     "metadata": {},
     "output_type": "execute_result"
    }
   ],
   "source": [
    "f.seek(0)"
   ]
  },
  {
   "cell_type": "code",
   "execution_count": 10,
   "id": "79671161",
   "metadata": {},
   "outputs": [
    {
     "data": {
      "text/plain": [
       "'this is my another mode which is write plus mode'"
      ]
     },
     "execution_count": 10,
     "metadata": {},
     "output_type": "execute_result"
    }
   ],
   "source": [
    "f.read()"
   ]
  },
  {
   "cell_type": "code",
   "execution_count": 11,
   "id": "ffea4cdc",
   "metadata": {},
   "outputs": [],
   "source": [
    "f = open('test5.bin', 'wb')"
   ]
  },
  {
   "cell_type": "code",
   "execution_count": 12,
   "id": "cdfadaad",
   "metadata": {},
   "outputs": [
    {
     "data": {
      "text/plain": [
       "3"
      ]
     },
     "execution_count": 12,
     "metadata": {},
     "output_type": "execute_result"
    }
   ],
   "source": [
    "f.write(b'\\x00\\x01\\x02')"
   ]
  },
  {
   "cell_type": "code",
   "execution_count": 13,
   "id": "1fd75780",
   "metadata": {},
   "outputs": [],
   "source": [
    "f.close()"
   ]
  },
  {
   "cell_type": "markdown",
   "id": "02cbaded",
   "metadata": {},
   "source": [
    "so above we have created abinary file and the process is called serilaization"
   ]
  },
  {
   "cell_type": "code",
   "execution_count": 18,
   "id": "1c0d7d5f",
   "metadata": {},
   "outputs": [],
   "source": [
    "f = open('test5.bin', 'wb')"
   ]
  },
  {
   "cell_type": "code",
   "execution_count": 19,
   "id": "3a26d59b",
   "metadata": {},
   "outputs": [
    {
     "data": {
      "text/plain": [
       "3"
      ]
     },
     "execution_count": 19,
     "metadata": {},
     "output_type": "execute_result"
    }
   ],
   "source": [
    "f.write(b'\\x00\\x01\\x02')"
   ]
  },
  {
   "cell_type": "code",
   "execution_count": 20,
   "id": "beb57afb",
   "metadata": {},
   "outputs": [],
   "source": [
    "f.close()"
   ]
  },
  {
   "cell_type": "code",
   "execution_count": 21,
   "id": "3043d37b",
   "metadata": {},
   "outputs": [],
   "source": [
    "f = open('test5.bin', 'rb')\n"
   ]
  },
  {
   "cell_type": "code",
   "execution_count": 22,
   "id": "221cb706",
   "metadata": {},
   "outputs": [
    {
     "data": {
      "text/plain": [
       "b'\\x00\\x01\\x02'"
      ]
     },
     "execution_count": 22,
     "metadata": {},
     "output_type": "execute_result"
    }
   ],
   "source": [
    "f.read()"
   ]
  }
 ],
 "metadata": {
  "kernelspec": {
   "display_name": "base",
   "language": "python",
   "name": "python3"
  },
  "language_info": {
   "codemirror_mode": {
    "name": "ipython",
    "version": 3
   },
   "file_extension": ".py",
   "mimetype": "text/x-python",
   "name": "python",
   "nbconvert_exporter": "python",
   "pygments_lexer": "ipython3",
   "version": "3.12.7"
  }
 },
 "nbformat": 4,
 "nbformat_minor": 5
}
