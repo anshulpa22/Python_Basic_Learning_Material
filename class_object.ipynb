{
 "cells": [
  {
   "cell_type": "markdown",
   "id": "228303c7",
   "metadata": {},
   "source": [
    "CLASS / OBJECT Study"
   ]
  },
  {
   "cell_type": "code",
   "execution_count": null,
   "id": "6c2843c3",
   "metadata": {},
   "outputs": [],
   "source": [
    "# By default the Python interpretor understands that this is a class of interger variable\n",
    "i = 10"
   ]
  },
  {
   "cell_type": "markdown",
   "id": "d24b824f",
   "metadata": {},
   "source": [
    "Everything that is implemented in python is class and we just create an object to access those class. Like, in above i is an interger object. Objects are nothing but a class variable"
   ]
  },
  {
   "cell_type": "code",
   "execution_count": 2,
   "id": "becfc114",
   "metadata": {},
   "outputs": [],
   "source": [
    "class test:\n",
    "    pass"
   ]
  },
  {
   "cell_type": "code",
   "execution_count": 7,
   "id": "c9708a97",
   "metadata": {},
   "outputs": [],
   "source": [
    "class course:\n",
    "    def course_details(self):\n",
    "        print(\"this will give you a course details\")"
   ]
  },
  {
   "cell_type": "markdown",
   "id": "b9490deb",
   "metadata": {},
   "source": [
    "\"c\" is called the class variable or also an object for class course. Object are also known as class instances.\n",
    "\n",
    "Also, \n",
    "\n",
    "c = course()\n",
    "c1 = course()\n",
    "c2 = course()\n",
    "\n",
    "Here all three objects or class instances like c, c1, and c2 are different class instances. These are different instances of the same method we have defined."
   ]
  },
  {
   "cell_type": "code",
   "execution_count": 8,
   "id": "1df35fc8",
   "metadata": {},
   "outputs": [],
   "source": [
    "# create a class variable c\n",
    "c = course()"
   ]
  },
  {
   "cell_type": "markdown",
   "id": "7b4a7a76",
   "metadata": {},
   "source": [
    "\"def course_details(self):\" here \"self\" keyword, the function is going to get attched with the course class"
   ]
  },
  {
   "cell_type": "code",
   "execution_count": 9,
   "id": "da417f12",
   "metadata": {},
   "outputs": [
    {
     "name": "stdout",
     "output_type": "stream",
     "text": [
      "this will give you a course details\n"
     ]
    }
   ],
   "source": [
    "c.course_details()"
   ]
  },
  {
   "cell_type": "code",
   "execution_count": 10,
   "id": "c1aecd70",
   "metadata": {},
   "outputs": [],
   "source": [
    "class course:\n",
    "    def course_details(ansh):\n",
    "        print(\"this will give you a course details\")"
   ]
  },
  {
   "cell_type": "code",
   "execution_count": 11,
   "id": "6a760504",
   "metadata": {},
   "outputs": [
    {
     "name": "stdout",
     "output_type": "stream",
     "text": [
      "this will give you a course details\n"
     ]
    }
   ],
   "source": [
    "c4 = course()\n",
    "c4.course_details()"
   ]
  },
  {
   "cell_type": "markdown",
   "id": "1de2a667",
   "metadata": {},
   "source": [
    "Note: \n",
    "\n",
    "class course:\n",
    "    def course_details(self):\n",
    "        print(\"this will give you a course details\")\n",
    "\n",
    "and \n",
    "\n",
    "class course:\n",
    "    def course_details(ansh):\n",
    "        print(\"this will give you a course details\")\n",
    "\n",
    "Both the above way of defination is same. \"Self\" is not any keyword and we can also use any other keyword lik \"ansh\". both self and ansh are just reference variable or it is just an instance varibale so that  the function will be attched to the above class. Whenever, we try to call the function defined inside a class via a defined object or class instance like c and c4, it will allow to search in class"
   ]
  },
  {
   "cell_type": "code",
   "execution_count": 15,
   "id": "4a33fa67",
   "metadata": {},
   "outputs": [],
   "source": [
    "class course:\n",
    "    def course_details(self, course_name, course_deatils):\n",
    "        print(f\"this will give you a course details {course_name}, {course_deatils}\")"
   ]
  },
  {
   "cell_type": "code",
   "execution_count": 16,
   "id": "a81d8dca",
   "metadata": {},
   "outputs": [
    {
     "name": "stdout",
     "output_type": "stream",
     "text": [
      "this will give you a course details python, anshul\n"
     ]
    }
   ],
   "source": [
    "c3 = course()\n",
    "c3.course_details(\"python\", \"anshul\")"
   ]
  },
  {
   "cell_type": "markdown",
   "id": "8ed5f8de",
   "metadata": {},
   "source": [
    "Now, for i =10\n",
    "\n",
    "we know that i is an instance of integer class or is an object. We can also provide a value to this instance or class. Now, we can similarly also provide a data to a class instance or object like c we have defined earlier via the __init__. Here how:\n",
    "\n",
    "class course:\n",
    "    def __init__(self, name, mentor):   ------ we need to write this __init__(self, name, mentor) function to take two data\n",
    "        self.name = name                ------- whatever we pass as argument get assigned here\n",
    "        self.mentor = mentor            ------- whatever we pass as argument get assigned here and finally self attches to class\n",
    "    def course_details(self):\n",
    "        print(\"this will give you a course details\")\n",
    "\n",
    "\n",
    "        Note that\n",
    "\n",
    "self.name is the actual variable the class will be able to undeerstand and likewise self.mentor"
   ]
  },
  {
   "cell_type": "code",
   "execution_count": 20,
   "id": "fa1253e3",
   "metadata": {},
   "outputs": [],
   "source": [
    "class course:\n",
    "    def __init__(self, name, mentor):\n",
    "        self.name = name\n",
    "        self.mentor = mentor\n",
    "    def course_details(self):\n",
    "        print(\"this will give you a course details\")"
   ]
  },
  {
   "cell_type": "code",
   "execution_count": 21,
   "id": "e2ab4b31",
   "metadata": {},
   "outputs": [],
   "source": [
    "c = course(\"python\", \"anshul\")"
   ]
  },
  {
   "cell_type": "code",
   "execution_count": 23,
   "id": "821b2b32",
   "metadata": {},
   "outputs": [
    {
     "data": {
      "text/plain": [
       "'python'"
      ]
     },
     "execution_count": 23,
     "metadata": {},
     "output_type": "execute_result"
    }
   ],
   "source": [
    "c.name"
   ]
  },
  {
   "cell_type": "code",
   "execution_count": 24,
   "id": "db8f7248",
   "metadata": {},
   "outputs": [
    {
     "data": {
      "text/plain": [
       "'anshul'"
      ]
     },
     "execution_count": 24,
     "metadata": {},
     "output_type": "execute_result"
    }
   ],
   "source": [
    "c.mentor"
   ]
  },
  {
   "cell_type": "code",
   "execution_count": 25,
   "id": "a101979e",
   "metadata": {},
   "outputs": [],
   "source": [
    "class course:\n",
    "    def __init__(self, name, mentor):\n",
    "        self.name = name\n",
    "        self.mentor = mentor\n",
    "\n",
    "    def display(self):\n",
    "        print(self.mentor, self.name)"
   ]
  },
  {
   "cell_type": "code",
   "execution_count": 26,
   "id": "bab4c953",
   "metadata": {},
   "outputs": [],
   "source": [
    "c = course(\"python\", \"anshul\")"
   ]
  },
  {
   "cell_type": "code",
   "execution_count": 27,
   "id": "cb514898",
   "metadata": {},
   "outputs": [
    {
     "name": "stdout",
     "output_type": "stream",
     "text": [
      "anshul python\n"
     ]
    }
   ],
   "source": [
    "c.display()"
   ]
  },
  {
   "cell_type": "code",
   "execution_count": 28,
   "id": "7a0c66b8",
   "metadata": {},
   "outputs": [
    {
     "data": {
      "text/plain": [
       "'python'"
      ]
     },
     "execution_count": 28,
     "metadata": {},
     "output_type": "execute_result"
    }
   ],
   "source": [
    "c.name"
   ]
  },
  {
   "cell_type": "code",
   "execution_count": 29,
   "id": "2025891a",
   "metadata": {},
   "outputs": [
    {
     "data": {
      "text/plain": [
       "'anshul'"
      ]
     },
     "execution_count": 29,
     "metadata": {},
     "output_type": "execute_result"
    }
   ],
   "source": [
    "c.mentor"
   ]
  }
 ],
 "metadata": {
  "kernelspec": {
   "display_name": "base",
   "language": "python",
   "name": "python3"
  },
  "language_info": {
   "codemirror_mode": {
    "name": "ipython",
    "version": 3
   },
   "file_extension": ".py",
   "mimetype": "text/x-python",
   "name": "python",
   "nbconvert_exporter": "python",
   "pygments_lexer": "ipython3",
   "version": "3.12.7"
  }
 },
 "nbformat": 4,
 "nbformat_minor": 5
}
