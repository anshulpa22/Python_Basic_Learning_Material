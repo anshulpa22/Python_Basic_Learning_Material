{
 "cells": [
  {
   "cell_type": "markdown",
   "id": "cbbd0017",
   "metadata": {},
   "source": [
    "The difference between Instance Methods, Class Methods, and Static Methods"
   ]
  },
  {
   "cell_type": "code",
   "execution_count": 1,
   "id": "dd70fa8e",
   "metadata": {},
   "outputs": [],
   "source": [
    "class mentor:\n",
    "    def __init__(self, name):\n",
    "        self.name = name\n",
    "\n",
    "    \n",
    "    def introduction(self):\n",
    "        return f\"i am a mentor {self.name} on euron\"\n"
   ]
  },
  {
   "cell_type": "markdown",
   "id": "07ae12a0",
   "metadata": {},
   "source": [
    "the introduction function which is define above is aclled an instance function. It operates on a instance of a class oe an object of a class"
   ]
  },
  {
   "cell_type": "code",
   "execution_count": 3,
   "id": "6d45c910",
   "metadata": {},
   "outputs": [],
   "source": [
    "a = mentor(\"anshul\")"
   ]
  },
  {
   "cell_type": "code",
   "execution_count": 4,
   "id": "98c450fa",
   "metadata": {},
   "outputs": [
    {
     "data": {
      "text/plain": [
       "'i am a mentor anshul on euron'"
      ]
     },
     "execution_count": 4,
     "metadata": {},
     "output_type": "execute_result"
    }
   ],
   "source": [
    "a.introduction()"
   ]
  },
  {
   "cell_type": "markdown",
   "id": "4069cca2",
   "metadata": {},
   "source": []
  },
  {
   "cell_type": "code",
   "execution_count": 5,
   "id": "514477d2",
   "metadata": {},
   "outputs": [],
   "source": [
    "class course:\n",
    "    total_course = 0\n",
    "\n",
    "    def __init__(self, title):\n",
    "        self.title = title\n",
    "        course.total_course = course.total_course + 1\n",
    "\n",
    "    \n",
    "    #the below function is attched to the class and not to the object\n",
    "    @classmethod\n",
    "    def get_total_course(cls):\n",
    "        return cls.total_course\n",
    "    \n"
   ]
  },
  {
   "cell_type": "code",
   "execution_count": 6,
   "id": "d9619c02",
   "metadata": {},
   "outputs": [],
   "source": [
    "co = course(\"anshu pandey\")"
   ]
  },
  {
   "cell_type": "code",
   "execution_count": 7,
   "id": "111ce77b",
   "metadata": {},
   "outputs": [
    {
     "data": {
      "text/plain": [
       "'anshu pandey'"
      ]
     },
     "execution_count": 7,
     "metadata": {},
     "output_type": "execute_result"
    }
   ],
   "source": [
    "co.title"
   ]
  },
  {
   "cell_type": "code",
   "execution_count": 8,
   "id": "6ea9ce5f",
   "metadata": {},
   "outputs": [
    {
     "data": {
      "text/plain": [
       "1"
      ]
     },
     "execution_count": 8,
     "metadata": {},
     "output_type": "execute_result"
    }
   ],
   "source": [
    "co.total_course"
   ]
  },
  {
   "cell_type": "code",
   "execution_count": 9,
   "id": "e7d2ba79",
   "metadata": {},
   "outputs": [],
   "source": [
    "co1 = course(\"data\")"
   ]
  },
  {
   "cell_type": "code",
   "execution_count": 10,
   "id": "15dae29e",
   "metadata": {},
   "outputs": [
    {
     "data": {
      "text/plain": [
       "2"
      ]
     },
     "execution_count": 10,
     "metadata": {},
     "output_type": "execute_result"
    }
   ],
   "source": [
    "co.total_course"
   ]
  },
  {
   "cell_type": "code",
   "execution_count": 11,
   "id": "25db81cd",
   "metadata": {},
   "outputs": [
    {
     "data": {
      "text/plain": [
       "2"
      ]
     },
     "execution_count": 11,
     "metadata": {},
     "output_type": "execute_result"
    }
   ],
   "source": [
    "course.total_course"
   ]
  },
  {
   "cell_type": "code",
   "execution_count": 12,
   "id": "94f798ca",
   "metadata": {},
   "outputs": [
    {
     "data": {
      "text/plain": [
       "2"
      ]
     },
     "execution_count": 12,
     "metadata": {},
     "output_type": "execute_result"
    }
   ],
   "source": [
    "course.get_total_course()"
   ]
  },
  {
   "cell_type": "markdown",
   "id": "05a0fae0",
   "metadata": {},
   "source": [
    "Static methods are not associated with any class or object"
   ]
  },
  {
   "cell_type": "code",
   "execution_count": 13,
   "id": "bac64ac4",
   "metadata": {},
   "outputs": [],
   "source": [
    "class students:\n",
    "    @staticmethod\n",
    "    def is_valid_email(email):\n",
    "        return \"@\" in email and \".\" in email"
   ]
  },
  {
   "cell_type": "code",
   "execution_count": 14,
   "id": "ae4ad0a3",
   "metadata": {},
   "outputs": [
    {
     "data": {
      "text/plain": [
       "True"
      ]
     },
     "execution_count": 14,
     "metadata": {},
     "output_type": "execute_result"
    }
   ],
   "source": [
    "students.is_valid_email(\"anshulpa22@gmail.com\")"
   ]
  }
 ],
 "metadata": {
  "kernelspec": {
   "display_name": "base",
   "language": "python",
   "name": "python3"
  },
  "language_info": {
   "codemirror_mode": {
    "name": "ipython",
    "version": 3
   },
   "file_extension": ".py",
   "mimetype": "text/x-python",
   "name": "python",
   "nbconvert_exporter": "python",
   "pygments_lexer": "ipython3",
   "version": "3.12.7"
  }
 },
 "nbformat": 4,
 "nbformat_minor": 5
}
