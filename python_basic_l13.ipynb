{
 "cells": [
  {
   "cell_type": "markdown",
   "id": "07b8ed67",
   "metadata": {},
   "source": [
    "Define Functions"
   ]
  },
  {
   "cell_type": "code",
   "execution_count": 2,
   "id": "95916d97",
   "metadata": {},
   "outputs": [],
   "source": [
    "def test():\n",
    "    print(\"My first Function\")"
   ]
  },
  {
   "cell_type": "code",
   "execution_count": 3,
   "id": "78d11917",
   "metadata": {},
   "outputs": [
    {
     "name": "stdout",
     "output_type": "stream",
     "text": [
      "My first Function\n"
     ]
    }
   ],
   "source": [
    "test()"
   ]
  },
  {
   "cell_type": "code",
   "execution_count": 4,
   "id": "0a6f4c59",
   "metadata": {},
   "outputs": [
    {
     "name": "stdout",
     "output_type": "stream",
     "text": [
      "My first Function\n"
     ]
    }
   ],
   "source": [
    "a = test() "
   ]
  },
  {
   "cell_type": "code",
   "execution_count": 5,
   "id": "6cd630e1",
   "metadata": {},
   "outputs": [
    {
     "ename": "TypeError",
     "evalue": "unsupported operand type(s) for +: 'NoneType' and 'str'",
     "output_type": "error",
     "traceback": [
      "\u001b[0;31m---------------------------------------------------------------------------\u001b[0m",
      "\u001b[0;31mTypeError\u001b[0m                                 Traceback (most recent call last)",
      "Cell \u001b[0;32mIn[5], line 1\u001b[0m\n\u001b[0;32m----> 1\u001b[0m a \u001b[38;5;241m+\u001b[39m \u001b[38;5;124m\"\u001b[39m\u001b[38;5;124manshu\u001b[39m\u001b[38;5;124m\"\u001b[39m\n",
      "\u001b[0;31mTypeError\u001b[0m: unsupported operand type(s) for +: 'NoneType' and 'str'"
     ]
    }
   ],
   "source": [
    "a + \"anshu\""
   ]
  },
  {
   "cell_type": "markdown",
   "id": "6008db9a",
   "metadata": {},
   "source": [
    "function by default with no return will return None. So primitive operation is allowed. By default print always return a None. So, intead of Print use return"
   ]
  },
  {
   "cell_type": "code",
   "execution_count": 6,
   "id": "047ef052",
   "metadata": {},
   "outputs": [],
   "source": [
    "def test1():\n",
    "    return \"this is my first function\""
   ]
  },
  {
   "cell_type": "code",
   "execution_count": 7,
   "id": "176df10f",
   "metadata": {},
   "outputs": [
    {
     "data": {
      "text/plain": [
       "function"
      ]
     },
     "execution_count": 7,
     "metadata": {},
     "output_type": "execute_result"
    }
   ],
   "source": [
    "type(test1)"
   ]
  },
  {
   "cell_type": "code",
   "execution_count": 8,
   "id": "92dc7ff6",
   "metadata": {},
   "outputs": [
    {
     "data": {
      "text/plain": [
       "str"
      ]
     },
     "execution_count": 8,
     "metadata": {},
     "output_type": "execute_result"
    }
   ],
   "source": [
    "type(test1())"
   ]
  },
  {
   "cell_type": "code",
   "execution_count": 9,
   "id": "def95c9a",
   "metadata": {},
   "outputs": [],
   "source": [
    "a = test1()\n"
   ]
  },
  {
   "cell_type": "code",
   "execution_count": 11,
   "id": "86eceb5c",
   "metadata": {},
   "outputs": [
    {
     "data": {
      "text/plain": [
       "'this is my first function anshul'"
      ]
     },
     "execution_count": 11,
     "metadata": {},
     "output_type": "execute_result"
    }
   ],
   "source": [
    "a + \" anshul\""
   ]
  },
  {
   "cell_type": "code",
   "execution_count": 12,
   "id": "60259375",
   "metadata": {},
   "outputs": [],
   "source": [
    "def test2():\n",
    "    return \"ansh\", 222, 7.0 , [\"anshul\", 1, 2.0, 1+2j]\n"
   ]
  },
  {
   "cell_type": "code",
   "execution_count": 13,
   "id": "1c3e96f3",
   "metadata": {},
   "outputs": [
    {
     "data": {
      "text/plain": [
       "('ansh', 222, 7.0, ['anshul', 1, 2.0, (1+2j)])"
      ]
     },
     "execution_count": 13,
     "metadata": {},
     "output_type": "execute_result"
    }
   ],
   "source": [
    "test2()"
   ]
  },
  {
   "cell_type": "code",
   "execution_count": 14,
   "id": "30fb3e52",
   "metadata": {},
   "outputs": [
    {
     "name": "stdout",
     "output_type": "stream",
     "text": [
      "ansh\n",
      "222\n",
      "7.0\n",
      "['anshul', 1, 2.0, (1+2j)]\n"
     ]
    }
   ],
   "source": [
    "for i in test2():\n",
    "    print(i)"
   ]
  },
  {
   "cell_type": "code",
   "execution_count": 15,
   "id": "0d3aed53",
   "metadata": {},
   "outputs": [],
   "source": [
    "a,b,c,d = test2()"
   ]
  },
  {
   "cell_type": "code",
   "execution_count": 16,
   "id": "173b3708",
   "metadata": {},
   "outputs": [
    {
     "data": {
      "text/plain": [
       "'ansh'"
      ]
     },
     "execution_count": 16,
     "metadata": {},
     "output_type": "execute_result"
    }
   ],
   "source": [
    "a"
   ]
  },
  {
   "cell_type": "code",
   "execution_count": 17,
   "id": "190fb030",
   "metadata": {},
   "outputs": [
    {
     "data": {
      "text/plain": [
       "222"
      ]
     },
     "execution_count": 17,
     "metadata": {},
     "output_type": "execute_result"
    }
   ],
   "source": [
    "b"
   ]
  },
  {
   "cell_type": "code",
   "execution_count": 18,
   "id": "96bd5aae",
   "metadata": {},
   "outputs": [
    {
     "data": {
      "text/plain": [
       "7.0"
      ]
     },
     "execution_count": 18,
     "metadata": {},
     "output_type": "execute_result"
    }
   ],
   "source": [
    "c"
   ]
  },
  {
   "cell_type": "code",
   "execution_count": 19,
   "id": "2b60145c",
   "metadata": {},
   "outputs": [
    {
     "data": {
      "text/plain": [
       "['anshul', 1, 2.0, (1+2j)]"
      ]
     },
     "execution_count": 19,
     "metadata": {},
     "output_type": "execute_result"
    }
   ],
   "source": [
    "d"
   ]
  },
  {
   "cell_type": "code",
   "execution_count": 20,
   "id": "d6335f75",
   "metadata": {},
   "outputs": [],
   "source": [
    "def test5(a, b):\n",
    "    return a+b"
   ]
  },
  {
   "cell_type": "code",
   "execution_count": 21,
   "id": "cd92ad75",
   "metadata": {},
   "outputs": [
    {
     "data": {
      "text/plain": [
       "8"
      ]
     },
     "execution_count": 21,
     "metadata": {},
     "output_type": "execute_result"
    }
   ],
   "source": [
    "test5(2, 6)"
   ]
  },
  {
   "cell_type": "code",
   "execution_count": 22,
   "id": "62c39eae",
   "metadata": {},
   "outputs": [],
   "source": [
    "def add(a, b):\n",
    "    return a+b"
   ]
  },
  {
   "cell_type": "code",
   "execution_count": 23,
   "id": "a0ada78e",
   "metadata": {},
   "outputs": [
    {
     "data": {
      "text/plain": [
       "200"
      ]
     },
     "execution_count": 23,
     "metadata": {},
     "output_type": "execute_result"
    }
   ],
   "source": [
    "add(100,100)"
   ]
  },
  {
   "cell_type": "code",
   "execution_count": 25,
   "id": "e63cfe8b",
   "metadata": {},
   "outputs": [],
   "source": [
    "def multiply(a, b):\n",
    "    return a*b"
   ]
  },
  {
   "cell_type": "code",
   "execution_count": 26,
   "id": "0ba8830d",
   "metadata": {},
   "outputs": [
    {
     "data": {
      "text/plain": [
       "90"
      ]
     },
     "execution_count": 26,
     "metadata": {},
     "output_type": "execute_result"
    }
   ],
   "source": [
    "multiply(10, 9)"
   ]
  },
  {
   "cell_type": "code",
   "execution_count": 27,
   "id": "ac05965e",
   "metadata": {},
   "outputs": [],
   "source": [
    "def is_even(x):\n",
    "    if x%2 == 0:\n",
    "        return \"Number is Even\"\n",
    "    else:\n",
    "        return \"Number is odd\"\n"
   ]
  },
  {
   "cell_type": "code",
   "execution_count": 28,
   "id": "870ebfa1",
   "metadata": {},
   "outputs": [
    {
     "data": {
      "text/plain": [
       "'Number is odd'"
      ]
     },
     "execution_count": 28,
     "metadata": {},
     "output_type": "execute_result"
    }
   ],
   "source": [
    "is_even(87)"
   ]
  },
  {
   "cell_type": "code",
   "execution_count": 35,
   "id": "80a98fe5",
   "metadata": {},
   "outputs": [],
   "source": [
    "def even_list_filter(l):\n",
    "    l1 = []\n",
    "    for i in l:\n",
    "        if i%2 == 0:\n",
    "            print(i)\n",
    "            l1.append(i)\n",
    "    return l1"
   ]
  },
  {
   "cell_type": "code",
   "execution_count": 36,
   "id": "432ce633",
   "metadata": {},
   "outputs": [
    {
     "name": "stdout",
     "output_type": "stream",
     "text": [
      "34\n",
      "54\n",
      "78\n"
     ]
    },
    {
     "data": {
      "text/plain": [
       "[34, 54, 78]"
      ]
     },
     "execution_count": 36,
     "metadata": {},
     "output_type": "execute_result"
    }
   ],
   "source": [
    "even_list_filter([1,23,34,54,67,69,79,78])"
   ]
  },
  {
   "cell_type": "markdown",
   "id": "86619c47",
   "metadata": {},
   "source": [
    "How to let any other user know what to do with the function, a description as suggested for the already existing function. This is called Doc String"
   ]
  },
  {
   "cell_type": "code",
   "execution_count": 41,
   "id": "807781ee",
   "metadata": {},
   "outputs": [],
   "source": [
    "def even_list_filter(l:list) -> list:\n",
    "\n",
    "    \"\"\"\n",
    "    This function will take input as a list and then it will\n",
    "    try to return the list of even number created by anshul\n",
    "    \"\"\"\n",
    "    l1 = []\n",
    "    for i in l:\n",
    "        if i%2 == 0:\n",
    "            print(i)\n",
    "            l1.append(i)\n",
    "    return l1"
   ]
  },
  {
   "cell_type": "code",
   "execution_count": 38,
   "id": "b46a9f5f",
   "metadata": {},
   "outputs": [
    {
     "name": "stdout",
     "output_type": "stream",
     "text": [
      "34\n",
      "54\n",
      "78\n"
     ]
    },
    {
     "data": {
      "text/plain": [
       "[34, 54, 78]"
      ]
     },
     "execution_count": 38,
     "metadata": {},
     "output_type": "execute_result"
    }
   ],
   "source": [
    "even_list_filter([1,23,34,54,67,69,79,78])"
   ]
  },
  {
   "cell_type": "markdown",
   "id": "bf1b767d",
   "metadata": {},
   "source": [
    "Here def even_list_filter(l:list) -> list:\n",
    "\n",
    "if we do like even_list_filter(l:list), it means that any other user will also know what type of argument this function considers as input.\n",
    "\n",
    "-> list: This tells what will be the return type of this function to the other user.\n",
    "\n",
    "\n",
    "The above two practises are not mandatory but optional\n"
   ]
  },
  {
   "cell_type": "markdown",
   "id": "cb69bf96",
   "metadata": {},
   "source": [
    "Positional, KeyWord, Default Arguments in Functions"
   ]
  },
  {
   "cell_type": "code",
   "execution_count": 44,
   "id": "868554f5",
   "metadata": {},
   "outputs": [],
   "source": [
    "def test(a, b):\n",
    "    print(a)\n",
    "    print(b)\n",
    "    return a+b"
   ]
  },
  {
   "cell_type": "code",
   "execution_count": 45,
   "id": "e85a9cc9",
   "metadata": {},
   "outputs": [
    {
     "name": "stdout",
     "output_type": "stream",
     "text": [
      "1\n",
      "4\n"
     ]
    },
    {
     "data": {
      "text/plain": [
       "5"
      ]
     },
     "execution_count": 45,
     "metadata": {},
     "output_type": "execute_result"
    }
   ],
   "source": [
    "test(1,4)"
   ]
  },
  {
   "cell_type": "markdown",
   "id": "a823e28f",
   "metadata": {},
   "source": [
    "Herein test(a,b) takes a and b as argument. Now, when we call test(1, 4), this function understands that a =1 and b=4.  so, a and b are mapped to the values automatically as per the position. The mapping is as per the sequence aand this is called POSITIONAL argument"
   ]
  },
  {
   "cell_type": "code",
   "execution_count": 46,
   "id": "41bf9f4f",
   "metadata": {},
   "outputs": [
    {
     "name": "stdout",
     "output_type": "stream",
     "text": [
      "1\n",
      "4\n"
     ]
    },
    {
     "data": {
      "text/plain": [
       "5"
      ]
     },
     "execution_count": 46,
     "metadata": {},
     "output_type": "execute_result"
    }
   ],
   "source": [
    "test(b = 4, a = 1)"
   ]
  },
  {
   "cell_type": "markdown",
   "id": "816b27d5",
   "metadata": {},
   "source": [
    "Herein test(b = 4, a = 1), we are writing in our own order. This type of argument is called \"KEYWORD ARGUMENT\""
   ]
  },
  {
   "cell_type": "code",
   "execution_count": 72,
   "id": "0c5ecdbf",
   "metadata": {},
   "outputs": [],
   "source": [
    "def check(a1, b1,c1, d1 = 10):\n",
    "    return a,b,c,d"
   ]
  },
  {
   "cell_type": "code",
   "execution_count": 73,
   "id": "9ce64c25",
   "metadata": {},
   "outputs": [
    {
     "ename": "TypeError",
     "evalue": "check() missing 1 required positional argument: 'c1'",
     "output_type": "error",
     "traceback": [
      "\u001b[0;31m---------------------------------------------------------------------------\u001b[0m",
      "\u001b[0;31mTypeError\u001b[0m                                 Traceback (most recent call last)",
      "Cell \u001b[0;32mIn[73], line 1\u001b[0m\n\u001b[0;32m----> 1\u001b[0m check(\u001b[38;5;241m2\u001b[39m,\u001b[38;5;241m3\u001b[39m)\n",
      "\u001b[0;31mTypeError\u001b[0m: check() missing 1 required positional argument: 'c1'"
     ]
    }
   ],
   "source": [
    "check(2,3)"
   ]
  },
  {
   "cell_type": "markdown",
   "id": "7c64e61b",
   "metadata": {},
   "source": [
    "when we pass only two arguments when the function expects 3 arguments, it returns an error. However, it does not ask about d as it is a deafult argument"
   ]
  },
  {
   "cell_type": "code",
   "execution_count": 74,
   "id": "b5b69ea8",
   "metadata": {},
   "outputs": [
    {
     "data": {
      "text/plain": [
       "('ansh', 222, 7.0, ['anshul', 1, 2.0, (1+2j)])"
      ]
     },
     "execution_count": 74,
     "metadata": {},
     "output_type": "execute_result"
    }
   ],
   "source": [
    "check(2,3,4)"
   ]
  },
  {
   "cell_type": "code",
   "execution_count": 75,
   "id": "e0209326",
   "metadata": {},
   "outputs": [
    {
     "data": {
      "text/plain": [
       "('ansh', 222, 7.0, ['anshul', 1, 2.0, (1+2j)])"
      ]
     },
     "execution_count": 75,
     "metadata": {},
     "output_type": "execute_result"
    }
   ],
   "source": [
    "check(2,3,4,50)"
   ]
  },
  {
   "cell_type": "markdown",
   "id": "44191f14",
   "metadata": {},
   "source": [
    "aN ARGUMENT CAN ALSO BE PROVIDE WITH SOME DEFAULT VALUES AND SUCH AN ARGUMENT IS CALLED \"DEFAULT ARGUMENT\". if while calling a function, we provide some value, the the dfault value is overwriiten"
   ]
  }
 ],
 "metadata": {
  "kernelspec": {
   "display_name": "base",
   "language": "python",
   "name": "python3"
  },
  "language_info": {
   "codemirror_mode": {
    "name": "ipython",
    "version": 3
   },
   "file_extension": ".py",
   "mimetype": "text/x-python",
   "name": "python",
   "nbconvert_exporter": "python",
   "pygments_lexer": "ipython3",
   "version": "3.12.7"
  }
 },
 "nbformat": 4,
 "nbformat_minor": 5
}
