{
 "cells": [
  {
   "cell_type": "markdown",
   "id": "5b9b7f08",
   "metadata": {},
   "source": [
    "Data Structure: Dictionary"
   ]
  },
  {
   "cell_type": "code",
   "execution_count": 2,
   "id": "c786766c",
   "metadata": {},
   "outputs": [],
   "source": [
    "d = {}"
   ]
  },
  {
   "cell_type": "code",
   "execution_count": 3,
   "id": "da129d35",
   "metadata": {},
   "outputs": [
    {
     "data": {
      "text/plain": [
       "dict"
      ]
     },
     "execution_count": 3,
     "metadata": {},
     "output_type": "execute_result"
    }
   ],
   "source": [
    "type(d)"
   ]
  },
  {
   "cell_type": "code",
   "execution_count": 4,
   "id": "7097718f",
   "metadata": {},
   "outputs": [],
   "source": [
    "d = {\"name\":\"anshul\"}"
   ]
  },
  {
   "cell_type": "code",
   "execution_count": 5,
   "id": "a11c7c64",
   "metadata": {},
   "outputs": [
    {
     "data": {
      "text/plain": [
       "{'name': 'anshul'}"
      ]
     },
     "execution_count": 5,
     "metadata": {},
     "output_type": "execute_result"
    }
   ],
   "source": [
    "d"
   ]
  },
  {
   "cell_type": "code",
   "execution_count": 6,
   "id": "638f5e61",
   "metadata": {},
   "outputs": [],
   "source": [
    "d = {\"name\":\"anshul\", \"email\":\"anshulpa22@gmail.com\", \"subject\":[\"physics\", \"chemistry\", \"maths\"]}"
   ]
  },
  {
   "cell_type": "code",
   "execution_count": 7,
   "id": "4e666d89",
   "metadata": {},
   "outputs": [
    {
     "data": {
      "text/plain": [
       "{'name': 'anshul',\n",
       " 'email': 'anshulpa22@gmail.com',\n",
       " 'subject': ['physics', 'chemistry', 'maths']}"
      ]
     },
     "execution_count": 7,
     "metadata": {},
     "output_type": "execute_result"
    }
   ],
   "source": [
    "d"
   ]
  },
  {
   "cell_type": "markdown",
   "id": "5474c664",
   "metadata": {},
   "source": [
    "Dictionary holds the value in the form of Key:Value"
   ]
  },
  {
   "cell_type": "code",
   "execution_count": 8,
   "id": "9488e595",
   "metadata": {},
   "outputs": [],
   "source": [
    "d1 = {123: \"anshul\"}"
   ]
  },
  {
   "cell_type": "code",
   "execution_count": 9,
   "id": "755690cb",
   "metadata": {},
   "outputs": [],
   "source": [
    "d1 = {\"aannan\":\"anshul\"}"
   ]
  },
  {
   "cell_type": "code",
   "execution_count": 10,
   "id": "ba63decb",
   "metadata": {},
   "outputs": [],
   "source": [
    "d1 = {(3,2,1):\"anshul\"}"
   ]
  },
  {
   "cell_type": "code",
   "execution_count": 11,
   "id": "d9d70d78",
   "metadata": {},
   "outputs": [
    {
     "ename": "TypeError",
     "evalue": "unhashable type: 'list'",
     "output_type": "error",
     "traceback": [
      "\u001b[0;31m---------------------------------------------------------------------------\u001b[0m",
      "\u001b[0;31mTypeError\u001b[0m                                 Traceback (most recent call last)",
      "Cell \u001b[0;32mIn[11], line 1\u001b[0m\n\u001b[0;32m----> 1\u001b[0m d1 \u001b[38;5;241m=\u001b[39m {[\u001b[38;5;241m3\u001b[39m,\u001b[38;5;241m2\u001b[39m,\u001b[38;5;241m1\u001b[39m]:\u001b[38;5;124m\"\u001b[39m\u001b[38;5;124manshul\u001b[39m\u001b[38;5;124m\"\u001b[39m}\n",
      "\u001b[0;31mTypeError\u001b[0m: unhashable type: 'list'"
     ]
    }
   ],
   "source": [
    "d1 = {[3,2,1]:\"anshul\"}"
   ]
  },
  {
   "cell_type": "markdown",
   "id": "c98a81b5",
   "metadata": {},
   "source": [
    "immutable elents are allowed while mutable elements are not allowed as Key in a Dictionary. For instance, list"
   ]
  },
  {
   "cell_type": "code",
   "execution_count": 13,
   "id": "8ba336df",
   "metadata": {},
   "outputs": [
    {
     "ename": "SyntaxError",
     "evalue": "invalid syntax (2061850386.py, line 1)",
     "output_type": "error",
     "traceback": [
      "\u001b[0;36m  Cell \u001b[0;32mIn[13], line 1\u001b[0;36m\u001b[0m\n\u001b[0;31m    d1 = {{3,2,1}:\"anshul\"}. # set is also a mutable element\u001b[0m\n\u001b[0m                             ^\u001b[0m\n\u001b[0;31mSyntaxError\u001b[0m\u001b[0;31m:\u001b[0m invalid syntax\n"
     ]
    }
   ],
   "source": [
    "d1 = {{3,2,1}:\"anshul\"}. # set is also a mutable element"
   ]
  },
  {
   "cell_type": "code",
   "execution_count": 14,
   "id": "8db4c943",
   "metadata": {},
   "outputs": [],
   "source": [
    "d1 = {1:\"anshul\"}"
   ]
  },
  {
   "cell_type": "code",
   "execution_count": 18,
   "id": "55ab585f",
   "metadata": {},
   "outputs": [],
   "source": [
    "d1 = {frozenset({1,2,3}):\"anshul\"}"
   ]
  },
  {
   "cell_type": "code",
   "execution_count": 20,
   "id": "f2b31fec",
   "metadata": {},
   "outputs": [
    {
     "ename": "SyntaxError",
     "evalue": "invalid syntax (3448578642.py, line 1)",
     "output_type": "error",
     "traceback": [
      "\u001b[0;36m  Cell \u001b[0;32mIn[20], line 1\u001b[0;36m\u001b[0m\n\u001b[0;31m    d1 = {@$$:\"anshul\"} #special chaecters are not allowdd\u001b[0m\n\u001b[0m          ^\u001b[0m\n\u001b[0;31mSyntaxError\u001b[0m\u001b[0;31m:\u001b[0m invalid syntax\n"
     ]
    }
   ],
   "source": [
    "d1 = {@$$:\"anshul\"} #special chaecters are not allowdd"
   ]
  },
  {
   "cell_type": "code",
   "execution_count": 21,
   "id": "a418b1ec",
   "metadata": {},
   "outputs": [
    {
     "data": {
      "text/plain": [
       "{'name': 'ssss'}"
      ]
     },
     "execution_count": 21,
     "metadata": {},
     "output_type": "execute_result"
    }
   ],
   "source": [
    "d1 = {\"name\":\"sudha\", \"name\":\"ssss\"}\n",
    "d1"
   ]
  },
  {
   "cell_type": "markdown",
   "id": "bfbcd682",
   "metadata": {},
   "source": [
    "In a Dictionary, make sure that we always have a unique key for each and every entry. This is because, if we have same key multiple times, the python interpretor will only consider the last instant value for the key, as shown above. The value of the key gets updated it encountered mmultiple times"
   ]
  },
  {
   "cell_type": "code",
   "execution_count": 22,
   "id": "bd94abb9",
   "metadata": {},
   "outputs": [
    {
     "data": {
      "text/plain": [
       "{'name': 'anshul',\n",
       " 'email': 'anshulpa22@gmail.com',\n",
       " 'subject': ['physics', 'chemistry', 'maths']}"
      ]
     },
     "execution_count": 22,
     "metadata": {},
     "output_type": "execute_result"
    }
   ],
   "source": [
    "d"
   ]
  },
  {
   "cell_type": "code",
   "execution_count": 23,
   "id": "3e90aa79",
   "metadata": {},
   "outputs": [
    {
     "data": {
      "text/plain": [
       "'anshul'"
      ]
     },
     "execution_count": 23,
     "metadata": {},
     "output_type": "execute_result"
    }
   ],
   "source": [
    "d['name']"
   ]
  },
  {
   "cell_type": "code",
   "execution_count": 24,
   "id": "7bfc97af",
   "metadata": {},
   "outputs": [
    {
     "data": {
      "text/plain": [
       "'anshulpa22@gmail.com'"
      ]
     },
     "execution_count": 24,
     "metadata": {},
     "output_type": "execute_result"
    }
   ],
   "source": [
    "d['email']"
   ]
  },
  {
   "cell_type": "code",
   "execution_count": 26,
   "id": "2d02ba1a",
   "metadata": {},
   "outputs": [
    {
     "data": {
      "text/plain": [
       "['physics', 'chemistry', 'maths']"
      ]
     },
     "execution_count": 26,
     "metadata": {},
     "output_type": "execute_result"
    }
   ],
   "source": [
    "d[\"subject\"]"
   ]
  },
  {
   "cell_type": "code",
   "execution_count": 27,
   "id": "16bc5f8a",
   "metadata": {},
   "outputs": [],
   "source": [
    "d[\"phone_number\"] = 6576576575"
   ]
  },
  {
   "cell_type": "code",
   "execution_count": 28,
   "id": "9907e302",
   "metadata": {},
   "outputs": [
    {
     "data": {
      "text/plain": [
       "{'name': 'anshul',\n",
       " 'email': 'anshulpa22@gmail.com',\n",
       " 'subject': ['physics', 'chemistry', 'maths'],\n",
       " 'phone_number': 6576576575}"
      ]
     },
     "execution_count": 28,
     "metadata": {},
     "output_type": "execute_result"
    }
   ],
   "source": [
    "d"
   ]
  },
  {
   "cell_type": "markdown",
   "id": "36e47316",
   "metadata": {},
   "source": [
    "In some sense index is replaced by \"key\""
   ]
  },
  {
   "cell_type": "code",
   "execution_count": 29,
   "id": "bde0c284",
   "metadata": {},
   "outputs": [],
   "source": [
    "d[\"info\"] = {\"course\":['ops', 'ssss', 'dfdd']}"
   ]
  },
  {
   "cell_type": "code",
   "execution_count": 30,
   "id": "5950e9bd",
   "metadata": {},
   "outputs": [
    {
     "data": {
      "text/plain": [
       "{'name': 'anshul',\n",
       " 'email': 'anshulpa22@gmail.com',\n",
       " 'subject': ['physics', 'chemistry', 'maths'],\n",
       " 'phone_number': 6576576575,\n",
       " 'info': {'course': ['ops', 'ssss', 'dfdd']}}"
      ]
     },
     "execution_count": 30,
     "metadata": {},
     "output_type": "execute_result"
    }
   ],
   "source": [
    "d"
   ]
  },
  {
   "cell_type": "code",
   "execution_count": 31,
   "id": "becf614d",
   "metadata": {},
   "outputs": [
    {
     "data": {
      "text/plain": [
       "'ssss'"
      ]
     },
     "execution_count": 31,
     "metadata": {},
     "output_type": "execute_result"
    }
   ],
   "source": [
    "d[\"info\"][\"course\"][1]"
   ]
  },
  {
   "cell_type": "code",
   "execution_count": 32,
   "id": "5a4be2ef",
   "metadata": {},
   "outputs": [
    {
     "data": {
      "text/plain": [
       "dict_keys(['name', 'email', 'subject', 'phone_number', 'info'])"
      ]
     },
     "execution_count": 32,
     "metadata": {},
     "output_type": "execute_result"
    }
   ],
   "source": [
    "d.keys()"
   ]
  },
  {
   "cell_type": "code",
   "execution_count": 33,
   "id": "872cc146",
   "metadata": {},
   "outputs": [
    {
     "data": {
      "text/plain": [
       "dict_values(['anshul', 'anshulpa22@gmail.com', ['physics', 'chemistry', 'maths'], 6576576575, {'course': ['ops', 'ssss', 'dfdd']}])"
      ]
     },
     "execution_count": 33,
     "metadata": {},
     "output_type": "execute_result"
    }
   ],
   "source": [
    "d.values()"
   ]
  },
  {
   "cell_type": "code",
   "execution_count": 34,
   "id": "062089b6",
   "metadata": {},
   "outputs": [
    {
     "data": {
      "text/plain": [
       "dict_items([('name', 'anshul'), ('email', 'anshulpa22@gmail.com'), ('subject', ['physics', 'chemistry', 'maths']), ('phone_number', 6576576575), ('info', {'course': ['ops', 'ssss', 'dfdd']})])"
      ]
     },
     "execution_count": 34,
     "metadata": {},
     "output_type": "execute_result"
    }
   ],
   "source": [
    "d.items()"
   ]
  },
  {
   "cell_type": "code",
   "execution_count": 35,
   "id": "ef0a867d",
   "metadata": {},
   "outputs": [
    {
     "name": "stdout",
     "output_type": "stream",
     "text": [
      "name\n",
      "email\n",
      "subject\n",
      "phone_number\n",
      "info\n"
     ]
    }
   ],
   "source": [
    "for i in d.keys():\n",
    "    print(i)"
   ]
  },
  {
   "cell_type": "code",
   "execution_count": 37,
   "id": "73f04b1a",
   "metadata": {},
   "outputs": [
    {
     "name": "stdout",
     "output_type": "stream",
     "text": [
      "anshul\n",
      "anshulpa22@gmail.com\n",
      "['physics', 'chemistry', 'maths']\n",
      "6576576575\n",
      "{'course': ['ops', 'ssss', 'dfdd']}\n"
     ]
    }
   ],
   "source": [
    "for i in d.keys():\n",
    "    print(d[i])"
   ]
  }
 ],
 "metadata": {
  "kernelspec": {
   "display_name": "base",
   "language": "python",
   "name": "python3"
  },
  "language_info": {
   "codemirror_mode": {
    "name": "ipython",
    "version": 3
   },
   "file_extension": ".py",
   "mimetype": "text/x-python",
   "name": "python",
   "nbconvert_exporter": "python",
   "pygments_lexer": "ipython3",
   "version": "3.12.7"
  }
 },
 "nbformat": 4,
 "nbformat_minor": 5
}
