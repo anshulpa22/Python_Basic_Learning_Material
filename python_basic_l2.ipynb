{
 "cells": [
  {
   "cell_type": "markdown",
   "id": "17f2efe9",
   "metadata": {},
   "source": [
    "This Lecture is for String"
   ]
  },
  {
   "cell_type": "code",
   "execution_count": 1,
   "id": "fba6bf07",
   "metadata": {},
   "outputs": [
    {
     "data": {
      "text/plain": [
       "str"
      ]
     },
     "execution_count": 1,
     "metadata": {},
     "output_type": "execute_result"
    }
   ],
   "source": [
    "s = \"anshul\"\n",
    "type(s)"
   ]
  },
  {
   "cell_type": "code",
   "execution_count": 2,
   "id": "3c5bd49a",
   "metadata": {},
   "outputs": [
    {
     "data": {
      "text/plain": [
       "str"
      ]
     },
     "execution_count": 2,
     "metadata": {},
     "output_type": "execute_result"
    }
   ],
   "source": [
    "s = 'anshul'\n",
    "type(s)"
   ]
  },
  {
   "cell_type": "code",
   "execution_count": 3,
   "id": "2103c0c6",
   "metadata": {},
   "outputs": [
    {
     "ename": "SyntaxError",
     "evalue": "unterminated string literal (detected at line 1) (1507051866.py, line 1)",
     "output_type": "error",
     "traceback": [
      "\u001b[0;36m  Cell \u001b[0;32mIn[3], line 1\u001b[0;36m\u001b[0m\n\u001b[0;31m    s1 = 'don't'\u001b[0m\n\u001b[0m               ^\u001b[0m\n\u001b[0;31mSyntaxError\u001b[0m\u001b[0;31m:\u001b[0m unterminated string literal (detected at line 1)\n"
     ]
    }
   ],
   "source": [
    "s1 = 'don't'"
   ]
  },
  {
   "cell_type": "markdown",
   "id": "97738f76",
   "metadata": {},
   "source": [
    "Here we get an error as python interpretor is not able to understand where the string terminates"
   ]
  },
  {
   "cell_type": "code",
   "execution_count": 4,
   "id": "408c91dd",
   "metadata": {},
   "outputs": [
    {
     "name": "stdout",
     "output_type": "stream",
     "text": [
      "don't\n"
     ]
    }
   ],
   "source": [
    "# The solution is if we have a single quote to be used as a part of string, we should start and end the string with double quotes and viceversa\n",
    "s2 = \"don't\"\n",
    "print(s2)"
   ]
  },
  {
   "cell_type": "markdown",
   "id": "cb8a538e",
   "metadata": {},
   "source": [
    "How a string is processed in Python\n",
    "Suppose s = \"anshul\"\n",
    "In string anshul each charcter is assigned an index starting from 0 to 5 in forward way and from -1 to -6 in reverse way"
   ]
  },
  {
   "cell_type": "code",
   "execution_count": 5,
   "id": "e17c4243",
   "metadata": {},
   "outputs": [
    {
     "name": "stdout",
     "output_type": "stream",
     "text": [
      "n\n"
     ]
    }
   ],
   "source": [
    "print(s2[2])"
   ]
  },
  {
   "cell_type": "code",
   "execution_count": 6,
   "id": "8a4f80d4",
   "metadata": {},
   "outputs": [
    {
     "name": "stdout",
     "output_type": "stream",
     "text": [
      "'\n"
     ]
    }
   ],
   "source": [
    "print(s2[3])"
   ]
  },
  {
   "cell_type": "code",
   "execution_count": 10,
   "id": "e11c34f9",
   "metadata": {},
   "outputs": [
    {
     "name": "stdout",
     "output_type": "stream",
     "text": [
      "'t\n"
     ]
    }
   ],
   "source": [
    "print(s2[3:])"
   ]
  },
  {
   "cell_type": "code",
   "execution_count": 11,
   "id": "adda79dd",
   "metadata": {},
   "outputs": [
    {
     "name": "stdout",
     "output_type": "stream",
     "text": [
      "o\n"
     ]
    }
   ],
   "source": [
    "print(s2[-4])"
   ]
  },
  {
   "cell_type": "code",
   "execution_count": 12,
   "id": "c7fb1912",
   "metadata": {},
   "outputs": [
    {
     "name": "stdout",
     "output_type": "stream",
     "text": [
      "don't\n"
     ]
    }
   ],
   "source": [
    "print(s2[0:100])"
   ]
  },
  {
   "cell_type": "code",
   "execution_count": 13,
   "id": "b9a57b4d",
   "metadata": {},
   "outputs": [
    {
     "name": "stdout",
     "output_type": "stream",
     "text": [
      "er\n"
     ]
    }
   ],
   "source": [
    "s3 = \"euron\"\n",
    "print(s3[0:3:2])"
   ]
  },
  {
   "cell_type": "code",
   "execution_count": 14,
   "id": "0e80bb17",
   "metadata": {},
   "outputs": [
    {
     "name": "stdout",
     "output_type": "stream",
     "text": [
      "er\n"
     ]
    },
    {
     "data": {
      "text/plain": [
       "NoneType"
      ]
     },
     "execution_count": 14,
     "metadata": {},
     "output_type": "execute_result"
    }
   ],
   "source": [
    "type(print(s3[0:3:2]))"
   ]
  },
  {
   "cell_type": "code",
   "execution_count": 18,
   "id": "3804ff24",
   "metadata": {},
   "outputs": [
    {
     "data": {
      "text/plain": [
       "'noru'"
      ]
     },
     "execution_count": 18,
     "metadata": {},
     "output_type": "execute_result"
    }
   ],
   "source": [
    "s3[4:0:-1]"
   ]
  },
  {
   "cell_type": "markdown",
   "id": "e50213d3",
   "metadata": {},
   "source": [
    "During reverse operation we are not getting the first letter"
   ]
  },
  {
   "cell_type": "code",
   "execution_count": 19,
   "id": "a083df04",
   "metadata": {},
   "outputs": [
    {
     "data": {
      "text/plain": [
       "'norue'"
      ]
     },
     "execution_count": 19,
     "metadata": {},
     "output_type": "execute_result"
    }
   ],
   "source": [
    "s3[::-1]"
   ]
  },
  {
   "cell_type": "code",
   "execution_count": 21,
   "id": "5a646d02",
   "metadata": {},
   "outputs": [
    {
     "data": {
      "text/plain": [
       "'norue'"
      ]
     },
     "execution_count": 21,
     "metadata": {},
     "output_type": "execute_result"
    }
   ],
   "source": [
    "s3[8:-6:-1]"
   ]
  },
  {
   "cell_type": "markdown",
   "id": "ffe9e573",
   "metadata": {},
   "source": [
    "In Built Function in String"
   ]
  },
  {
   "cell_type": "code",
   "execution_count": 22,
   "id": "dbd0ca96",
   "metadata": {},
   "outputs": [
    {
     "data": {
      "text/plain": [
       "'EURON'"
      ]
     },
     "execution_count": 22,
     "metadata": {},
     "output_type": "execute_result"
    }
   ],
   "source": [
    "s3.upper()"
   ]
  },
  {
   "cell_type": "code",
   "execution_count": 23,
   "id": "d890915a",
   "metadata": {},
   "outputs": [
    {
     "data": {
      "text/plain": [
       "'euron'"
      ]
     },
     "execution_count": 23,
     "metadata": {},
     "output_type": "execute_result"
    }
   ],
   "source": [
    "s3.lower()"
   ]
  },
  {
   "cell_type": "code",
   "execution_count": 27,
   "id": "61d0182a",
   "metadata": {},
   "outputs": [
    {
     "data": {
      "text/plain": [
       "'Anshul pandey'"
      ]
     },
     "execution_count": 27,
     "metadata": {},
     "output_type": "execute_result"
    }
   ],
   "source": [
    "s4 = \"anshul pandey\"\n",
    "s4.capitalize()"
   ]
  },
  {
   "cell_type": "code",
   "execution_count": 28,
   "id": "004566cd",
   "metadata": {},
   "outputs": [
    {
     "data": {
      "text/plain": [
       "'Anshul Pandey'"
      ]
     },
     "execution_count": 28,
     "metadata": {},
     "output_type": "execute_result"
    }
   ],
   "source": [
    "s4.title()"
   ]
  },
  {
   "cell_type": "markdown",
   "id": "1a93e30b",
   "metadata": {},
   "source": [
    "The difference between Capitalize and title function is that the capitalize function only capitalizes the first letter of string while the\n",
    "title function capitalizes the first letter of each and every word"
   ]
  },
  {
   "cell_type": "code",
   "execution_count": 34,
   "id": "e35232e8",
   "metadata": {},
   "outputs": [
    {
     "data": {
      "text/plain": [
       "0"
      ]
     },
     "execution_count": 34,
     "metadata": {},
     "output_type": "execute_result"
    }
   ],
   "source": [
    "s5 = \"euron is a edutech company\"\n",
    "s5.find(\"e\")"
   ]
  },
  {
   "cell_type": "markdown",
   "id": "bf059f83",
   "metadata": {},
   "source": [
    "find function checks for the letter in the string and returns the position at which the first time that charcter is encounterted"
   ]
  },
  {
   "cell_type": "code",
   "execution_count": 35,
   "id": "f21c2f02",
   "metadata": {},
   "outputs": [
    {
     "data": {
      "text/plain": [
       "11"
      ]
     },
     "execution_count": 35,
     "metadata": {},
     "output_type": "execute_result"
    }
   ],
   "source": [
    "s5.find(\"ed\")"
   ]
  },
  {
   "cell_type": "code",
   "execution_count": 36,
   "id": "79830a8a",
   "metadata": {},
   "outputs": [
    {
     "data": {
      "text/plain": [
       "-1"
      ]
     },
     "execution_count": 36,
     "metadata": {},
     "output_type": "execute_result"
    }
   ],
   "source": [
    "s5.find(\"sudh\")"
   ]
  },
  {
   "cell_type": "code",
   "execution_count": 37,
   "id": "bdb9d2fc",
   "metadata": {},
   "outputs": [
    {
     "data": {
      "text/plain": [
       "11"
      ]
     },
     "execution_count": 37,
     "metadata": {},
     "output_type": "execute_result"
    }
   ],
   "source": [
    "s5.index(\"ed\")"
   ]
  },
  {
   "cell_type": "markdown",
   "id": "6f14d4a4",
   "metadata": {},
   "source": [
    "In case of index function if the provided character or string is not availbale, an error will be generated. While, with find function, if the string or charcter is not availbale it returns -1. This is the difference between the index and find function"
   ]
  },
  {
   "cell_type": "code",
   "execution_count": 38,
   "id": "c2033ec4",
   "metadata": {},
   "outputs": [
    {
     "data": {
      "text/plain": [
       "3"
      ]
     },
     "execution_count": 38,
     "metadata": {},
     "output_type": "execute_result"
    }
   ],
   "source": [
    "s5.count(\"e\")"
   ]
  },
  {
   "cell_type": "code",
   "execution_count": 39,
   "id": "80a44150",
   "metadata": {},
   "outputs": [
    {
     "data": {
      "text/plain": [
       "1"
      ]
     },
     "execution_count": 39,
     "metadata": {},
     "output_type": "execute_result"
    }
   ],
   "source": [
    "s5.count(\"ed\")"
   ]
  },
  {
   "cell_type": "code",
   "execution_count": 40,
   "id": "040f0394",
   "metadata": {},
   "outputs": [
    {
     "data": {
      "text/plain": [
       "0"
      ]
     },
     "execution_count": 40,
     "metadata": {},
     "output_type": "execute_result"
    }
   ],
   "source": [
    "s5.count(\"anshul\")"
   ]
  },
  {
   "cell_type": "markdown",
   "id": "ce9fcfa0",
   "metadata": {},
   "source": [
    "There are some in built function in string which starts with is. such function return boolean values"
   ]
  },
  {
   "cell_type": "code",
   "execution_count": 41,
   "id": "4ada6c68",
   "metadata": {},
   "outputs": [
    {
     "data": {
      "text/plain": [
       "False"
      ]
     },
     "execution_count": 41,
     "metadata": {},
     "output_type": "execute_result"
    }
   ],
   "source": [
    "s5.isalpha()"
   ]
  },
  {
   "cell_type": "code",
   "execution_count": 42,
   "id": "a754d1b2",
   "metadata": {},
   "outputs": [
    {
     "data": {
      "text/plain": [
       "4401014000"
      ]
     },
     "execution_count": 42,
     "metadata": {},
     "output_type": "execute_result"
    }
   ],
   "source": [
    "s = \"euron\"\n",
    "id(s)"
   ]
  },
  {
   "cell_type": "code",
   "execution_count": 44,
   "id": "1f8504fe",
   "metadata": {},
   "outputs": [
    {
     "data": {
      "text/plain": [
       "'eurontech'"
      ]
     },
     "execution_count": 44,
     "metadata": {},
     "output_type": "execute_result"
    }
   ],
   "source": [
    "modify = s + \"tech\"\n",
    "modify"
   ]
  },
  {
   "cell_type": "code",
   "execution_count": 45,
   "id": "aa06e6ef",
   "metadata": {},
   "outputs": [
    {
     "data": {
      "text/plain": [
       "4643078832"
      ]
     },
     "execution_count": 45,
     "metadata": {},
     "output_type": "execute_result"
    }
   ],
   "source": [
    "id(modify)"
   ]
  },
  {
   "cell_type": "code",
   "execution_count": 46,
   "id": "d7a2167b",
   "metadata": {},
   "outputs": [],
   "source": [
    "a = \"anshul\"\n",
    "b = \"anshul\""
   ]
  },
  {
   "cell_type": "code",
   "execution_count": 47,
   "id": "2740e1d7",
   "metadata": {},
   "outputs": [
    {
     "data": {
      "text/plain": [
       "4380918240"
      ]
     },
     "execution_count": 47,
     "metadata": {},
     "output_type": "execute_result"
    }
   ],
   "source": [
    "id(a)"
   ]
  },
  {
   "cell_type": "code",
   "execution_count": 48,
   "id": "e7a6a74a",
   "metadata": {},
   "outputs": [
    {
     "data": {
      "text/plain": [
       "4380918240"
      ]
     },
     "execution_count": 48,
     "metadata": {},
     "output_type": "execute_result"
    }
   ],
   "source": [
    "id(b)"
   ]
  },
  {
   "cell_type": "markdown",
   "id": "501b9774",
   "metadata": {},
   "source": [
    "Python will never allocate duplicate space for same data. That is why in above we see same address for both a and b. This concept is called entering"
   ]
  },
  {
   "cell_type": "code",
   "execution_count": 49,
   "id": "4468b33d",
   "metadata": {},
   "outputs": [
    {
     "data": {
      "text/plain": [
       "'a'"
      ]
     },
     "execution_count": 49,
     "metadata": {},
     "output_type": "execute_result"
    }
   ],
   "source": [
    "a[0]"
   ]
  },
  {
   "cell_type": "code",
   "execution_count": 50,
   "id": "b47467d7",
   "metadata": {},
   "outputs": [
    {
     "ename": "TypeError",
     "evalue": "'str' object does not support item assignment",
     "output_type": "error",
     "traceback": [
      "\u001b[0;31m---------------------------------------------------------------------------\u001b[0m",
      "\u001b[0;31mTypeError\u001b[0m                                 Traceback (most recent call last)",
      "Cell \u001b[0;32mIn[50], line 1\u001b[0m\n\u001b[0;32m----> 1\u001b[0m a[\u001b[38;5;241m0\u001b[39m] \u001b[38;5;241m=\u001b[39m \u001b[38;5;124m'\u001b[39m\u001b[38;5;124ma\u001b[39m\u001b[38;5;124m'\u001b[39m\n",
      "\u001b[0;31mTypeError\u001b[0m: 'str' object does not support item assignment"
     ]
    }
   ],
   "source": [
    "a[0] = 'a'"
   ]
  },
  {
   "cell_type": "markdown",
   "id": "a680dd08",
   "metadata": {},
   "source": [
    "The above error is generated as string is immutable and such items can not be modified."
   ]
  },
  {
   "cell_type": "code",
   "execution_count": 53,
   "id": "8c7b2037",
   "metadata": {},
   "outputs": [],
   "source": [
    "c = a.replace(\"s\", \"a\")"
   ]
  },
  {
   "cell_type": "code",
   "execution_count": 54,
   "id": "433f2e4a",
   "metadata": {},
   "outputs": [
    {
     "data": {
      "text/plain": [
       "'anahul'"
      ]
     },
     "execution_count": 54,
     "metadata": {},
     "output_type": "execute_result"
    }
   ],
   "source": [
    "c"
   ]
  },
  {
   "cell_type": "code",
   "execution_count": 55,
   "id": "2a050f5f",
   "metadata": {},
   "outputs": [
    {
     "data": {
      "text/plain": [
       "4420271248"
      ]
     },
     "execution_count": 55,
     "metadata": {},
     "output_type": "execute_result"
    }
   ],
   "source": [
    "id(c)"
   ]
  },
  {
   "cell_type": "code",
   "execution_count": 56,
   "id": "e7dd0ee2",
   "metadata": {},
   "outputs": [
    {
     "data": {
      "text/plain": [
       "4380918240"
      ]
     },
     "execution_count": 56,
     "metadata": {},
     "output_type": "execute_result"
    }
   ],
   "source": [
    "id(a)"
   ]
  },
  {
   "cell_type": "markdown",
   "id": "5485030b",
   "metadata": {},
   "source": [
    "Here above when we create a new string from a using replace function, c will be allocated a new location in memory. This again confirms the immutable nature of string functions"
   ]
  },
  {
   "cell_type": "code",
   "execution_count": 57,
   "id": "c3f5a922",
   "metadata": {},
   "outputs": [],
   "source": [
    "d = \"sudh\" + \"anshu\""
   ]
  },
  {
   "cell_type": "code",
   "execution_count": 58,
   "id": "ba1ce700",
   "metadata": {},
   "outputs": [
    {
     "data": {
      "text/plain": [
       "'sudhanshu'"
      ]
     },
     "execution_count": 58,
     "metadata": {},
     "output_type": "execute_result"
    }
   ],
   "source": [
    "d"
   ]
  },
  {
   "cell_type": "code",
   "execution_count": 59,
   "id": "ff129d25",
   "metadata": {},
   "outputs": [
    {
     "data": {
      "text/plain": [
       "'sudhanshu'"
      ]
     },
     "execution_count": 59,
     "metadata": {},
     "output_type": "execute_result"
    }
   ],
   "source": [
    "e = \"sudhanshu\"\n",
    "e"
   ]
  },
  {
   "cell_type": "code",
   "execution_count": 60,
   "id": "0afa703d",
   "metadata": {},
   "outputs": [
    {
     "data": {
      "text/plain": [
       "4642611760"
      ]
     },
     "execution_count": 60,
     "metadata": {},
     "output_type": "execute_result"
    }
   ],
   "source": [
    "id(d)"
   ]
  },
  {
   "cell_type": "code",
   "execution_count": 61,
   "id": "fc369613",
   "metadata": {},
   "outputs": [
    {
     "data": {
      "text/plain": [
       "4642611760"
      ]
     },
     "execution_count": 61,
     "metadata": {},
     "output_type": "execute_result"
    }
   ],
   "source": [
    "id(e)"
   ]
  },
  {
   "cell_type": "markdown",
   "id": "f9daf9cb",
   "metadata": {},
   "source": [
    "Again as per the \"intering\" concept since data was already availbale in d so the data in e will not be allocated anew location in memory"
   ]
  },
  {
   "cell_type": "code",
   "execution_count": 62,
   "id": "a30652d5",
   "metadata": {},
   "outputs": [
    {
     "name": "stdout",
     "output_type": "stream",
     "text": [
      " my name is anshul apndey and i am working with TII\n"
     ]
    }
   ],
   "source": [
    "print(\" my name is anshul apndey and i am working with TII\")"
   ]
  },
  {
   "cell_type": "markdown",
   "id": "ffdf305d",
   "metadata": {},
   "source": [
    "uSE ESCAPE CHARACTER FOR NEW LINE PRINING \\n"
   ]
  },
  {
   "cell_type": "code",
   "execution_count": 66,
   "id": "0bf41889",
   "metadata": {},
   "outputs": [
    {
     "name": "stdout",
     "output_type": "stream",
     "text": [
      "my name is anshul pndey and \n",
      "i am working with TII\n"
     ]
    }
   ],
   "source": [
    "print(\"my name is anshul pndey and \\ni am working with TII\")"
   ]
  },
  {
   "cell_type": "code",
   "execution_count": 67,
   "id": "ffc31f70",
   "metadata": {},
   "outputs": [
    {
     "name": "stdout",
     "output_type": "stream",
     "text": [
      " my name is anshul pandey and \ti am working with TII\n"
     ]
    }
   ],
   "source": [
    "print(\" my name is anshul pandey and \\ti am working with TII\")"
   ]
  },
  {
   "cell_type": "markdown",
   "id": "04dd16f0",
   "metadata": {},
   "source": [
    "\\t is a space charcater which introduces a three charcter space: tab"
   ]
  },
  {
   "cell_type": "code",
   "execution_count": 68,
   "id": "718dff66",
   "metadata": {},
   "outputs": [
    {
     "name": "stdout",
     "output_type": "stream",
     "text": [
      "\\\n"
     ]
    }
   ],
   "source": [
    "print(\"\\\\\")"
   ]
  },
  {
   "cell_type": "code",
   "execution_count": 69,
   "id": "4d6cb4d9",
   "metadata": {},
   "outputs": [
    {
     "ename": "SyntaxError",
     "evalue": "(unicode error) 'unicodeescape' codec can't decode bytes in position 2-3: truncated \\UXXXXXXXX escape (3414044118.py, line 1)",
     "output_type": "error",
     "traceback": [
      "\u001b[0;36m  Cell \u001b[0;32mIn[69], line 1\u001b[0;36m\u001b[0m\n\u001b[0;31m    raw_data = \"C:\\Users\\anshul\\Desktop\"\u001b[0m\n\u001b[0m               ^\u001b[0m\n\u001b[0;31mSyntaxError\u001b[0m\u001b[0;31m:\u001b[0m (unicode error) 'unicodeescape' codec can't decode bytes in position 2-3: truncated \\UXXXXXXXX escape\n"
     ]
    }
   ],
   "source": [
    "raw_data = \"C:\\Users\\anshul\\Desktop\""
   ]
  },
  {
   "cell_type": "code",
   "execution_count": 72,
   "id": "f3cc4717",
   "metadata": {},
   "outputs": [],
   "source": [
    "raw_data = r\"C:\\Users\\anshul\\Desktop\""
   ]
  },
  {
   "cell_type": "code",
   "execution_count": 73,
   "id": "f9fead47",
   "metadata": {},
   "outputs": [
    {
     "data": {
      "text/plain": [
       "'C:\\\\Users\\\\anshul\\\\Desktop'"
      ]
     },
     "execution_count": 73,
     "metadata": {},
     "output_type": "execute_result"
    }
   ],
   "source": [
    "raw_data"
   ]
  },
  {
   "cell_type": "markdown",
   "id": "19288a70",
   "metadata": {},
   "source": [
    "raw_data = r\"C:\\Users\\anshul\\Desktop\" this gives error as python is not able to interpret this valid location. We need to use special techniques to read such data.  We can do with the hep of raw string\n",
    "\n",
    "put   r in the beginning to make the string raw"
   ]
  },
  {
   "cell_type": "code",
   "execution_count": 74,
   "id": "fc2023e7",
   "metadata": {},
   "outputs": [
    {
     "name": "stdout",
     "output_type": "stream",
     "text": [
      "C:\\Users\\anshul\\Desktop\n"
     ]
    }
   ],
   "source": [
    "print(raw_data)"
   ]
  },
  {
   "cell_type": "markdown",
   "id": "bd02d590",
   "metadata": {},
   "source": [
    "An alternate way is to use double slash instead of single one. Like below"
   ]
  },
  {
   "cell_type": "code",
   "execution_count": 77,
   "id": "45fa9f10",
   "metadata": {},
   "outputs": [
    {
     "name": "stdout",
     "output_type": "stream",
     "text": [
      "C:\\Users\\anshul\\Desktop\n"
     ]
    }
   ],
   "source": [
    "raw_data = \"C:\\\\Users\\\\anshul\\\\Desktop\"\n",
    "print(raw_data)"
   ]
  },
  {
   "cell_type": "markdown",
   "id": "62c7b98a",
   "metadata": {},
   "source": [
    "unicode for charcters. For example we can get the unicode for smiley."
   ]
  },
  {
   "cell_type": "code",
   "execution_count": 78,
   "id": "beafe38f",
   "metadata": {},
   "outputs": [
    {
     "name": "stdout",
     "output_type": "stream",
     "text": [
      "😀\n"
     ]
    }
   ],
   "source": [
    "print(\"\\U0001F600\")"
   ]
  },
  {
   "cell_type": "code",
   "execution_count": 79,
   "id": "4ed0d4ee",
   "metadata": {},
   "outputs": [
    {
     "name": "stdout",
     "output_type": "stream",
     "text": [
      "Δ\n"
     ]
    }
   ],
   "source": [
    "print(\"\\N{gREEK CAPITAL LETTER Delta}\")"
   ]
  },
  {
   "cell_type": "code",
   "execution_count": 83,
   "id": "45ed6eba",
   "metadata": {},
   "outputs": [
    {
     "name": "stdout",
     "output_type": "stream",
     "text": [
      "☃\n"
     ]
    }
   ],
   "source": [
    "print(\"\\N{SNoWMAN}\")"
   ]
  },
  {
   "cell_type": "markdown",
   "id": "33f7ed02",
   "metadata": {},
   "source": [
    "Apart from the unicode there is something called named unicode starting with \\N: "
   ]
  },
  {
   "cell_type": "code",
   "execution_count": 84,
   "id": "3d9b085a",
   "metadata": {},
   "outputs": [
    {
     "ename": "SyntaxError",
     "evalue": "unterminated string literal (detected at line 1) (1173536356.py, line 1)",
     "output_type": "error",
     "traceback": [
      "\u001b[0;36m  Cell \u001b[0;32mIn[84], line 1\u001b[0;36m\u001b[0m\n\u001b[0;31m    \"my name is anshul\u001b[0m\n\u001b[0m    ^\u001b[0m\n\u001b[0;31mSyntaxError\u001b[0m\u001b[0;31m:\u001b[0m unterminated string literal (detected at line 1)\n"
     ]
    }
   ],
   "source": [
    "\"my name is anshul\n",
    "i am learning python\n",
    "i am working with euron\""
   ]
  },
  {
   "cell_type": "markdown",
   "id": "1d2acdd0",
   "metadata": {},
   "source": [
    "The baove is an error as it is the case of a multi line string. For multi line string everything have to be kept in tripple double quotes"
   ]
  },
  {
   "cell_type": "code",
   "execution_count": 85,
   "id": "af5a7f41",
   "metadata": {},
   "outputs": [
    {
     "data": {
      "text/plain": [
       "'my name is anshul\\ni am learning python\\ni am working with euron'"
      ]
     },
     "execution_count": 85,
     "metadata": {},
     "output_type": "execute_result"
    }
   ],
   "source": [
    "\"\"\"my name is anshul\n",
    "i am learning python\n",
    "i am working with euron\"\"\""
   ]
  },
  {
   "cell_type": "code",
   "execution_count": 86,
   "id": "5cc01b6d",
   "metadata": {},
   "outputs": [
    {
     "data": {
      "text/plain": [
       "'my name is anshuli am learning pythoni am working with euron'"
      ]
     },
     "execution_count": 86,
     "metadata": {},
     "output_type": "execute_result"
    }
   ],
   "source": [
    "\"my name is anshul\"\\\n",
    "\"i am learning python\"\\\n",
    "\"i am working with euron\""
   ]
  },
  {
   "cell_type": "markdown",
   "id": "b9988912",
   "metadata": {},
   "source": [
    "String Formatting in a Dynamic Way"
   ]
  },
  {
   "cell_type": "code",
   "execution_count": 87,
   "id": "1210f815",
   "metadata": {},
   "outputs": [
    {
     "name": "stdout",
     "output_type": "stream",
     "text": [
      "my name i asnhul pandey, my age is 30, i am working with euron\n"
     ]
    }
   ],
   "source": [
    "print(\"my name i asnhul pandey, my age is 30, i am working with euron\")"
   ]
  },
  {
   "cell_type": "markdown",
   "id": "1a6332f6",
   "metadata": {},
   "source": [
    "I want to parmetrize the name, age and company name in the above string. How to make this dynamic. Thi can be done with the help of \"f\""
   ]
  },
  {
   "cell_type": "code",
   "execution_count": 88,
   "id": "e6e259c2",
   "metadata": {},
   "outputs": [
    {
     "name": "stdout",
     "output_type": "stream",
     "text": [
      "my name is anshul my age is 30, i am working with euron\n"
     ]
    }
   ],
   "source": [
    "name = \"anshul\"\n",
    "age = 30\n",
    "company = \"euron\"\n",
    "print(f\"my name is {name} my age is {age}, i am working with {company}\")"
   ]
  },
  {
   "cell_type": "markdown",
   "id": "9718f73a",
   "metadata": {},
   "source": [
    "To make it even more dynamic, we can use the input function"
   ]
  },
  {
   "cell_type": "code",
   "execution_count": 2,
   "id": "0c0abc00",
   "metadata": {},
   "outputs": [
    {
     "name": "stdout",
     "output_type": "stream",
     "text": [
      "my name is anshul my age is 32, i am working with tii\n"
     ]
    }
   ],
   "source": [
    "name = input(\"enter your name\")\n",
    "age = input(\"enter your age\")\n",
    "company = input(\"enter your company\")\n",
    "print(f\"my name is {name} my age is {age}, i am working with {company}\")"
   ]
  },
  {
   "cell_type": "markdown",
   "id": "73c661de",
   "metadata": {},
   "source": [
    "With input function whatever we are goig to enter will always be treated as String. To overcome this we can do typecasting. For instance, for age we can declare it as an integer. If the input is not integer, it will generate an error in the case"
   ]
  },
  {
   "cell_type": "code",
   "execution_count": 4,
   "id": "f88bc591",
   "metadata": {},
   "outputs": [
    {
     "name": "stdout",
     "output_type": "stream",
     "text": [
      "my name is anshul my age is 7, i am working with tii\n"
     ]
    }
   ],
   "source": [
    "name = input(\"enter your name\")\n",
    "age = int(input(\"enter your age\"))\n",
    "company = input(\"enter your company\")\n",
    "print(f\"my name is {name} my age is {age}, i am working with {company}\")"
   ]
  },
  {
   "cell_type": "markdown",
   "id": "3568b360",
   "metadata": {},
   "source": [
    "Instead of suinf f we can use another way called format function. "
   ]
  },
  {
   "cell_type": "code",
   "execution_count": 5,
   "id": "b720ece1",
   "metadata": {},
   "outputs": [
    {
     "name": "stdout",
     "output_type": "stream",
     "text": [
      "my name is anshul my age is 5, i am working with tii\n"
     ]
    }
   ],
   "source": [
    "name = input(\"enter your name\")\n",
    "age = input(\"enter your age\")\n",
    "company = input(\"enter your company\")\n",
    "print(\"my name is {name} my age is {age}, i am working with {company}\".format(name=name, age=age, company=company))"
   ]
  },
  {
   "cell_type": "markdown",
   "id": "3d451c11",
   "metadata": {},
   "source": [
    "Templating"
   ]
  },
  {
   "cell_type": "code",
   "execution_count": 11,
   "id": "90f7559f",
   "metadata": {},
   "outputs": [],
   "source": [
    "from string import Template\n"
   ]
  },
  {
   "cell_type": "code",
   "execution_count": 16,
   "id": "00696213",
   "metadata": {},
   "outputs": [],
   "source": [
    "Temp = Template(\"my name is $name , my age is $age , my company is $company\")"
   ]
  },
  {
   "cell_type": "code",
   "execution_count": 17,
   "id": "7705f1cf",
   "metadata": {},
   "outputs": [],
   "source": [
    "name = input(\"enter your name\")\n",
    "age = input(\"enter your age\")\n",
    "company = input(\"enter your company\")"
   ]
  },
  {
   "cell_type": "code",
   "execution_count": 19,
   "id": "ef57b66c",
   "metadata": {},
   "outputs": [
    {
     "data": {
      "text/plain": [
       "'my name is anshul , my age is 5 , my company is tii'"
      ]
     },
     "execution_count": 19,
     "metadata": {},
     "output_type": "execute_result"
    }
   ],
   "source": [
    "temp = Temp.substitute(name=name, age=age, company=company)\n",
    "temp"
   ]
  },
  {
   "cell_type": "code",
   "execution_count": 24,
   "id": "08153e45",
   "metadata": {},
   "outputs": [],
   "source": [
    "euron_email_temp = Template(\n",
    "    \"\"\"\n",
    "    From:$sender\n",
    "    To:$receiver\n",
    "    Subject:$subject\n",
    "    $body\n",
    "    \"\"\"\n",
    ")"
   ]
  },
  {
   "cell_type": "code",
   "execution_count": 25,
   "id": "be534345",
   "metadata": {},
   "outputs": [],
   "source": [
    "result = euron_email_temp.substitute(\n",
    "    sender=\"anshul.apndey@tii.ae\",\n",
    "    receiver=\"anshulpa22@gmail.com\",\n",
    "    subject=\"welcome to euron\",\n",
    "    body=\"Hi, anshul, welcome to euron\",\n",
    ")"
   ]
  }
 ],
 "metadata": {
  "kernelspec": {
   "display_name": "base",
   "language": "python",
   "name": "python3"
  },
  "language_info": {
   "codemirror_mode": {
    "name": "ipython",
    "version": 3
   },
   "file_extension": ".py",
   "mimetype": "text/x-python",
   "name": "python",
   "nbconvert_exporter": "python",
   "pygments_lexer": "ipython3",
   "version": "3.12.7"
  }
 },
 "nbformat": 4,
 "nbformat_minor": 5
}
