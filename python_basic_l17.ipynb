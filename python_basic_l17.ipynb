{
 "cells": [
  {
   "cell_type": "markdown",
   "id": "4dffd3b9",
   "metadata": {},
   "source": [
    "Decorator"
   ]
  },
  {
   "cell_type": "code",
   "execution_count": 2,
   "id": "196ca6a1",
   "metadata": {},
   "outputs": [],
   "source": [
    "def greet():\n",
    "    print(\"welcome to EURON\")"
   ]
  },
  {
   "cell_type": "code",
   "execution_count": 3,
   "id": "34ef3a7c",
   "metadata": {},
   "outputs": [
    {
     "name": "stdout",
     "output_type": "stream",
     "text": [
      "welcome to EURON\n"
     ]
    }
   ],
   "source": [
    "greet()"
   ]
  },
  {
   "cell_type": "code",
   "execution_count": 5,
   "id": "7fdbf761",
   "metadata": {},
   "outputs": [],
   "source": [
    "def my_deco(func):\n",
    "    def wrapper():\n",
    "        print(\"print this before the function\")\n",
    "        func()\n",
    "        print(\"do this after the function\")\n",
    "    return wrapper\n"
   ]
  },
  {
   "cell_type": "code",
   "execution_count": 6,
   "id": "2871de1c",
   "metadata": {},
   "outputs": [],
   "source": [
    "@my_deco\n",
    "def greet():\n",
    "    print(\"welcome to eruron\")\n"
   ]
  },
  {
   "cell_type": "code",
   "execution_count": 7,
   "id": "b979ccbd",
   "metadata": {},
   "outputs": [
    {
     "name": "stdout",
     "output_type": "stream",
     "text": [
      "print this before the function\n",
      "welcome to eruron\n",
      "do this after the function\n"
     ]
    }
   ],
   "source": [
    "greet()"
   ]
  },
  {
   "cell_type": "markdown",
   "id": "d4458e75",
   "metadata": {},
   "source": []
  },
  {
   "cell_type": "code",
   "execution_count": 9,
   "id": "c934cb9a",
   "metadata": {},
   "outputs": [],
   "source": [
    "@my_deco\n",
    "def welcome():\n",
    "    print(\"welcome to Euron\")"
   ]
  },
  {
   "cell_type": "code",
   "execution_count": 10,
   "id": "45b3515b",
   "metadata": {},
   "outputs": [
    {
     "name": "stdout",
     "output_type": "stream",
     "text": [
      "print this before the function\n",
      "welcome to Euron\n",
      "do this after the function\n"
     ]
    }
   ],
   "source": [
    "welcome()"
   ]
  },
  {
   "cell_type": "code",
   "execution_count": 17,
   "id": "9b8d89e7",
   "metadata": {},
   "outputs": [],
   "source": [
    "# How much time a function takes to execute itself\n",
    "import time\n",
    "def print_list(l):\n",
    "    l1 = []\n",
    "    start_time = time.time()\n",
    "    for i in l:\n",
    "        if i%2 == 0:\n",
    "            l1.append(i)\n",
    "        time.sleep(1)\n",
    "    end_time = time.time()\n",
    "    total_time_taken = end_time - start_time\n",
    "    return l1, total_time_taken"
   ]
  },
  {
   "cell_type": "code",
   "execution_count": 18,
   "id": "6583989f",
   "metadata": {},
   "outputs": [
    {
     "data": {
      "text/plain": [
       "([4, 6, 8, 4, 4, 6, 8, 0, 6], 15.046036005020142)"
      ]
     },
     "execution_count": 18,
     "metadata": {},
     "output_type": "execute_result"
    }
   ],
   "source": [
    "print_list([4,5,6,7,8,4,3,4,5,6,7,8,9,0,6])"
   ]
  },
  {
   "cell_type": "code",
   "execution_count": 20,
   "id": "5742e53d",
   "metadata": {},
   "outputs": [],
   "source": [
    "#The above function can be implemented by a decorator function\n",
    "import time\n",
    "def time_cal_deco(func):\n",
    "    def calculator(*args, **kwargs):\n",
    "        start = time.time()\n",
    "        print(f\"starting tine {start}\")\n",
    "        func(*args, **kwargs)\n",
    "        end = time.time()\n",
    "        print(f\"end time {end}\")\n",
    "        total_time = end - start\n",
    "        return total_time\n",
    "    return calculator\n",
    "\n"
   ]
  },
  {
   "cell_type": "code",
   "execution_count": 22,
   "id": "2db4c7e5",
   "metadata": {},
   "outputs": [],
   "source": [
    "@time_cal_deco\n",
    "def print_list(l):\n",
    "    l1 = []\n",
    "    for i in l:\n",
    "        if i%2 == 0:\n",
    "            l1.append(i)\n",
    "        time.sleep(1)\n",
    "    return l1"
   ]
  },
  {
   "cell_type": "code",
   "execution_count": 23,
   "id": "cfd30fda",
   "metadata": {},
   "outputs": [
    {
     "name": "stdout",
     "output_type": "stream",
     "text": [
      "starting tine 1755386920.505316\n",
      "end time 1755386935.561325\n"
     ]
    },
    {
     "data": {
      "text/plain": [
       "15.05600905418396"
      ]
     },
     "execution_count": 23,
     "metadata": {},
     "output_type": "execute_result"
    }
   ],
   "source": [
    "print_list([4,5,6,7,8,4,3,4,5,6,7,8,9,0,6])"
   ]
  },
  {
   "cell_type": "code",
   "execution_count": null,
   "id": "1e8d6f4d",
   "metadata": {},
   "outputs": [],
   "source": []
  }
 ],
 "metadata": {
  "kernelspec": {
   "display_name": "base",
   "language": "python",
   "name": "python3"
  },
  "language_info": {
   "codemirror_mode": {
    "name": "ipython",
    "version": 3
   },
   "file_extension": ".py",
   "mimetype": "text/x-python",
   "name": "python",
   "nbconvert_exporter": "python",
   "pygments_lexer": "ipython3",
   "version": "3.12.7"
  }
 },
 "nbformat": 4,
 "nbformat_minor": 5
}
