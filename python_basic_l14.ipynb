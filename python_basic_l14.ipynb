{
 "cells": [
  {
   "cell_type": "markdown",
   "id": "ec643a42",
   "metadata": {},
   "source": [
    "Argument, KEYWORD, AND SYNTAX"
   ]
  },
  {
   "cell_type": "code",
   "execution_count": 1,
   "id": "a2ffc882",
   "metadata": {},
   "outputs": [],
   "source": [
    "def add(a, b):\n",
    "    return a+b"
   ]
  },
  {
   "cell_type": "code",
   "execution_count": 2,
   "id": "b0b24ee5",
   "metadata": {},
   "outputs": [
    {
     "data": {
      "text/plain": [
       "9"
      ]
     },
     "execution_count": 2,
     "metadata": {},
     "output_type": "execute_result"
    }
   ],
   "source": [
    "add(4,5)"
   ]
  },
  {
   "cell_type": "markdown",
   "id": "b569c4af",
   "metadata": {},
   "source": [
    "A requirement where we have to add suppose 100 number above mechanism is not efficient. How to define a function which takes n number of argument"
   ]
  },
  {
   "cell_type": "code",
   "execution_count": 3,
   "id": "286cde54",
   "metadata": {},
   "outputs": [],
   "source": [
    "def add(*args):\n",
    "    return args"
   ]
  },
  {
   "cell_type": "code",
   "execution_count": 4,
   "id": "8597a0c3",
   "metadata": {},
   "outputs": [
    {
     "data": {
      "text/plain": [
       "()"
      ]
     },
     "execution_count": 4,
     "metadata": {},
     "output_type": "execute_result"
    }
   ],
   "source": [
    "add()"
   ]
  },
  {
   "cell_type": "code",
   "execution_count": 5,
   "id": "8e7c5fb0",
   "metadata": {},
   "outputs": [
    {
     "data": {
      "text/plain": [
       "(1,)"
      ]
     },
     "execution_count": 5,
     "metadata": {},
     "output_type": "execute_result"
    }
   ],
   "source": [
    "add(1)"
   ]
  },
  {
   "cell_type": "code",
   "execution_count": 6,
   "id": "f774ddee",
   "metadata": {},
   "outputs": [
    {
     "data": {
      "text/plain": [
       "(1, 2, 3, 4)"
      ]
     },
     "execution_count": 6,
     "metadata": {},
     "output_type": "execute_result"
    }
   ],
   "source": [
    "add(1,2,3,4)"
   ]
  },
  {
   "cell_type": "code",
   "execution_count": 7,
   "id": "586919e4",
   "metadata": {},
   "outputs": [
    {
     "data": {
      "text/plain": [
       "(1, 2, 3, 4, 5, 6, 7, 8, 9, 0, 334, 7)"
      ]
     },
     "execution_count": 7,
     "metadata": {},
     "output_type": "execute_result"
    }
   ],
   "source": [
    "add(1,2,3,4,5,6,7,8,9,0,334,7)"
   ]
  },
  {
   "cell_type": "markdown",
   "id": "3f35c6b5",
   "metadata": {},
   "source": [
    "to do the above just specify an argument with asterict sign like: *args. all such data that we pass the function will \"pack it in a tuple\""
   ]
  },
  {
   "cell_type": "code",
   "execution_count": 8,
   "id": "263378f5",
   "metadata": {},
   "outputs": [],
   "source": [
    "def add(*args):\n",
    "    k = 0\n",
    "    for i in args:\n",
    "        k = k + i\n",
    "    return(k)"
   ]
  },
  {
   "cell_type": "code",
   "execution_count": 9,
   "id": "90e4f5ba",
   "metadata": {},
   "outputs": [
    {
     "data": {
      "text/plain": [
       "0"
      ]
     },
     "execution_count": 9,
     "metadata": {},
     "output_type": "execute_result"
    }
   ],
   "source": [
    "add(0)"
   ]
  },
  {
   "cell_type": "code",
   "execution_count": 10,
   "id": "afd3771e",
   "metadata": {},
   "outputs": [
    {
     "data": {
      "text/plain": [
       "15"
      ]
     },
     "execution_count": 10,
     "metadata": {},
     "output_type": "execute_result"
    }
   ],
   "source": [
    "add(1,2,3,4,5)"
   ]
  },
  {
   "cell_type": "code",
   "execution_count": 11,
   "id": "f3fd88dd",
   "metadata": {},
   "outputs": [],
   "source": [
    "def multiply_all(number, *args):\n",
    "    return number * args"
   ]
  },
  {
   "cell_type": "code",
   "execution_count": 12,
   "id": "a3a8d9b7",
   "metadata": {},
   "outputs": [
    {
     "data": {
      "text/plain": [
       "()"
      ]
     },
     "execution_count": 12,
     "metadata": {},
     "output_type": "execute_result"
    }
   ],
   "source": [
    "multiply_all(5)"
   ]
  },
  {
   "cell_type": "code",
   "execution_count": 13,
   "id": "003d99a6",
   "metadata": {},
   "outputs": [
    {
     "data": {
      "text/plain": [
       "(6, 7, 6, 7, 6, 7, 6, 7, 6, 7)"
      ]
     },
     "execution_count": 13,
     "metadata": {},
     "output_type": "execute_result"
    }
   ],
   "source": [
    "multiply_all(5,6,7)"
   ]
  },
  {
   "cell_type": "code",
   "execution_count": 19,
   "id": "ac25a548",
   "metadata": {},
   "outputs": [],
   "source": [
    "def profile(**kwargs):\n",
    "    return kwargs"
   ]
  },
  {
   "cell_type": "markdown",
   "id": "3583fa39",
   "metadata": {},
   "source": [
    "Use of ** with an argument specifies that it is expecting a key:value pair sort of argument i.e. a dictionary"
   ]
  },
  {
   "cell_type": "code",
   "execution_count": 20,
   "id": "556cd51b",
   "metadata": {},
   "outputs": [
    {
     "ename": "TypeError",
     "evalue": "profile() takes 0 positional arguments but 1 was given",
     "output_type": "error",
     "traceback": [
      "\u001b[0;31m---------------------------------------------------------------------------\u001b[0m",
      "\u001b[0;31mTypeError\u001b[0m                                 Traceback (most recent call last)",
      "Cell \u001b[0;32mIn[20], line 1\u001b[0m\n\u001b[0;32m----> 1\u001b[0m profile(\u001b[38;5;241m1\u001b[39m)\n",
      "\u001b[0;31mTypeError\u001b[0m: profile() takes 0 positional arguments but 1 was given"
     ]
    }
   ],
   "source": [
    "profile(1)"
   ]
  },
  {
   "cell_type": "code",
   "execution_count": 21,
   "id": "20207ec1",
   "metadata": {},
   "outputs": [
    {
     "data": {
      "text/plain": [
       "{'a': 1}"
      ]
     },
     "execution_count": 21,
     "metadata": {},
     "output_type": "execute_result"
    }
   ],
   "source": [
    "profile(a=1)"
   ]
  },
  {
   "cell_type": "code",
   "execution_count": 17,
   "id": "4f928eee",
   "metadata": {},
   "outputs": [
    {
     "data": {
      "text/plain": [
       "{'name': 'anshul', 'email': 'anshulpa22@gmail.com', 'phone': 551883813}"
      ]
     },
     "execution_count": 17,
     "metadata": {},
     "output_type": "execute_result"
    }
   ],
   "source": [
    "profile(name = \"anshul\", email = \"anshulpa22@gmail.com\", phone = 551883813)"
   ]
  },
  {
   "cell_type": "code",
   "execution_count": 22,
   "id": "daedda88",
   "metadata": {},
   "outputs": [],
   "source": [
    "def profile(**kwargs):\n",
    "        for i in kwargs.items():\n",
    "                print (i)\n",
    "        return kwargs"
   ]
  },
  {
   "cell_type": "code",
   "execution_count": 23,
   "id": "acb30342",
   "metadata": {},
   "outputs": [
    {
     "name": "stdout",
     "output_type": "stream",
     "text": [
      "('name', 'anshul')\n",
      "('email', 'anshulpa22@gmail.com')\n",
      "('phone', 551883813)\n"
     ]
    },
    {
     "data": {
      "text/plain": [
       "{'name': 'anshul', 'email': 'anshulpa22@gmail.com', 'phone': 551883813}"
      ]
     },
     "execution_count": 23,
     "metadata": {},
     "output_type": "execute_result"
    }
   ],
   "source": [
    "profile(name = \"anshul\", email = \"anshulpa22@gmail.com\", phone = 551883813)"
   ]
  },
  {
   "cell_type": "code",
   "execution_count": 25,
   "id": "1720e2e5",
   "metadata": {},
   "outputs": [],
   "source": [
    "def profile(**kwargs):\n",
    "        for i in kwargs.keys():\n",
    "                print (i)\n",
    "        return kwargs"
   ]
  },
  {
   "cell_type": "code",
   "execution_count": 26,
   "id": "ea0df944",
   "metadata": {},
   "outputs": [
    {
     "name": "stdout",
     "output_type": "stream",
     "text": [
      "name\n",
      "email\n",
      "phone\n"
     ]
    },
    {
     "data": {
      "text/plain": [
       "{'name': 'anshul', 'email': 'anshulpa22@gmail.com', 'phone': 551883813}"
      ]
     },
     "execution_count": 26,
     "metadata": {},
     "output_type": "execute_result"
    }
   ],
   "source": [
    "profile(name = \"anshul\", email = \"anshulpa22@gmail.com\", phone = 551883813)"
   ]
  },
  {
   "cell_type": "code",
   "execution_count": 27,
   "id": "d5f2d811",
   "metadata": {},
   "outputs": [],
   "source": [
    "def profile(**kwargs):\n",
    "        for i in kwargs.values():\n",
    "                print (i)\n",
    "        return kwargs"
   ]
  },
  {
   "cell_type": "code",
   "execution_count": 28,
   "id": "49c3e5cc",
   "metadata": {},
   "outputs": [
    {
     "name": "stdout",
     "output_type": "stream",
     "text": [
      "anshul\n",
      "anshulpa22@gmail.com\n",
      "551883813\n"
     ]
    },
    {
     "data": {
      "text/plain": [
       "{'name': 'anshul', 'email': 'anshulpa22@gmail.com', 'phone': 551883813}"
      ]
     },
     "execution_count": 28,
     "metadata": {},
     "output_type": "execute_result"
    }
   ],
   "source": [
    "profile(name = \"anshul\", email = \"anshulpa22@gmail.com\", phone = 551883813)"
   ]
  },
  {
   "cell_type": "code",
   "execution_count": 29,
   "id": "493dbd41",
   "metadata": {},
   "outputs": [],
   "source": [
    "def profile(company, **kwargs):\n",
    "        for i in kwargs.values():\n",
    "                print (i)\n",
    "        return kwargs"
   ]
  },
  {
   "cell_type": "code",
   "execution_count": 30,
   "id": "58e93b3a",
   "metadata": {},
   "outputs": [
    {
     "name": "stdout",
     "output_type": "stream",
     "text": [
      "anshul\n",
      "anshulpa22@gmail.com\n",
      "551883813\n"
     ]
    },
    {
     "data": {
      "text/plain": [
       "{'name': 'anshul', 'email': 'anshulpa22@gmail.com', 'phone': 551883813}"
      ]
     },
     "execution_count": 30,
     "metadata": {},
     "output_type": "execute_result"
    }
   ],
   "source": [
    "profile(\"euron\", name = \"anshul\", email = \"anshulpa22@gmail.com\", phone = 551883813)"
   ]
  },
  {
   "cell_type": "code",
   "execution_count": 32,
   "id": "680d6536",
   "metadata": {},
   "outputs": [
    {
     "data": {
      "text/plain": [
       "{}"
      ]
     },
     "execution_count": 32,
     "metadata": {},
     "output_type": "execute_result"
    }
   ],
   "source": [
    "profile(\"anshul\")"
   ]
  },
  {
   "cell_type": "code",
   "execution_count": 33,
   "id": "fe718559",
   "metadata": {},
   "outputs": [],
   "source": [
    "def mix(*args, **kwargs):\n",
    "    return args, kwargs"
   ]
  },
  {
   "cell_type": "code",
   "execution_count": 34,
   "id": "34fb4f47",
   "metadata": {},
   "outputs": [
    {
     "data": {
      "text/plain": [
       "((), {})"
      ]
     },
     "execution_count": 34,
     "metadata": {},
     "output_type": "execute_result"
    }
   ],
   "source": [
    "mix()"
   ]
  },
  {
   "cell_type": "code",
   "execution_count": 35,
   "id": "f27957d5",
   "metadata": {},
   "outputs": [
    {
     "data": {
      "text/plain": [
       "((23, 34, 45), {})"
      ]
     },
     "execution_count": 35,
     "metadata": {},
     "output_type": "execute_result"
    }
   ],
   "source": [
    "mix(23,34,45)"
   ]
  },
  {
   "cell_type": "code",
   "execution_count": 37,
   "id": "3d67e4a9",
   "metadata": {},
   "outputs": [
    {
     "data": {
      "text/plain": [
       "((1, 2, 3), {'name': 'anshul', 'amail': 'anshulpa22'})"
      ]
     },
     "execution_count": 37,
     "metadata": {},
     "output_type": "execute_result"
    }
   ],
   "source": [
    "mix(1,2,3, name=\"anshul\", amail=\"anshulpa22\")"
   ]
  },
  {
   "cell_type": "code",
   "execution_count": 48,
   "id": "1af07763",
   "metadata": {},
   "outputs": [],
   "source": [
    "def great(name):\n",
    "    print(f\"you are great {name}\")"
   ]
  },
  {
   "cell_type": "code",
   "execution_count": 49,
   "id": "0fb5a139",
   "metadata": {},
   "outputs": [
    {
     "name": "stdout",
     "output_type": "stream",
     "text": [
      "you are great anshul\n"
     ]
    }
   ],
   "source": [
    "great(\"anshul\")"
   ]
  },
  {
   "cell_type": "code",
   "execution_count": 50,
   "id": "c695ca86",
   "metadata": {},
   "outputs": [
    {
     "name": "stdout",
     "output_type": "stream",
     "text": [
      "you are great anshul\n"
     ]
    }
   ],
   "source": [
    "great(name = \"anshul\")"
   ]
  },
  {
   "cell_type": "code",
   "execution_count": 51,
   "id": "8b94e44f",
   "metadata": {},
   "outputs": [],
   "source": [
    "def great1(name, /):\n",
    "    print(f\"you are great {name}\")"
   ]
  },
  {
   "cell_type": "code",
   "execution_count": 52,
   "id": "3a9e1fc9",
   "metadata": {},
   "outputs": [
    {
     "name": "stdout",
     "output_type": "stream",
     "text": [
      "you are great anshul\n"
     ]
    }
   ],
   "source": [
    "great1(\"anshul\")"
   ]
  },
  {
   "cell_type": "code",
   "execution_count": 53,
   "id": "5a3aad90",
   "metadata": {},
   "outputs": [
    {
     "ename": "TypeError",
     "evalue": "great1() got some positional-only arguments passed as keyword arguments: 'name'",
     "output_type": "error",
     "traceback": [
      "\u001b[0;31m---------------------------------------------------------------------------\u001b[0m",
      "\u001b[0;31mTypeError\u001b[0m                                 Traceback (most recent call last)",
      "Cell \u001b[0;32mIn[53], line 1\u001b[0m\n\u001b[0;32m----> 1\u001b[0m great1(name \u001b[38;5;241m=\u001b[39m \u001b[38;5;124m\"\u001b[39m\u001b[38;5;124manshul\u001b[39m\u001b[38;5;124m\"\u001b[39m)\n",
      "\u001b[0;31mTypeError\u001b[0m: great1() got some positional-only arguments passed as keyword arguments: 'name'"
     ]
    }
   ],
   "source": [
    "great1(name = \"anshul\")"
   ]
  },
  {
   "cell_type": "markdown",
   "id": "e2677278",
   "metadata": {},
   "source": [
    "Herein \"def great1(name, /)\", the purpose of \"/\" is to restrict the passing of keyword argument as shown in above exmaple"
   ]
  },
  {
   "cell_type": "code",
   "execution_count": 58,
   "id": "799ea8c6",
   "metadata": {},
   "outputs": [],
   "source": [
    "def great2(name, *, age, phone):\n",
    "    print(f\"you are great {name} , {age} , {phone}\")"
   ]
  },
  {
   "cell_type": "code",
   "execution_count": 59,
   "id": "75eddd00",
   "metadata": {},
   "outputs": [
    {
     "ename": "TypeError",
     "evalue": "great2() missing 2 required keyword-only arguments: 'age' and 'phone'",
     "output_type": "error",
     "traceback": [
      "\u001b[0;31m---------------------------------------------------------------------------\u001b[0m",
      "\u001b[0;31mTypeError\u001b[0m                                 Traceback (most recent call last)",
      "Cell \u001b[0;32mIn[59], line 1\u001b[0m\n\u001b[0;32m----> 1\u001b[0m great2(\u001b[38;5;124m\"\u001b[39m\u001b[38;5;124manshul, 32, 8878887\u001b[39m\u001b[38;5;124m\"\u001b[39m)\n",
      "\u001b[0;31mTypeError\u001b[0m: great2() missing 2 required keyword-only arguments: 'age' and 'phone'"
     ]
    }
   ],
   "source": [
    "great2(\"anshul, 32, 8878887\")"
   ]
  },
  {
   "cell_type": "markdown",
   "id": "dbb2296c",
   "metadata": {},
   "source": [
    "Herein \"great2(name, *, age, phone):\" when we put \"*\", it means that it allows only keyword arguments. So, while calling the function we need to give keyword arguments."
   ]
  },
  {
   "cell_type": "code",
   "execution_count": 60,
   "id": "44652dac",
   "metadata": {},
   "outputs": [
    {
     "name": "stdout",
     "output_type": "stream",
     "text": [
      "you are great anshul , 12 , 556666\n"
     ]
    }
   ],
   "source": [
    "great2(name=\"anshul\", age = 12, phone = 556666)"
   ]
  },
  {
   "cell_type": "markdown",
   "id": "3850b1ef",
   "metadata": {},
   "source": [
    "So, \"/\" does not allow us to pass keyword argument\n",
    "\n",
    "\"*\" does not allow to pass positional arguments"
   ]
  }
 ],
 "metadata": {
  "kernelspec": {
   "display_name": "base",
   "language": "python",
   "name": "python3"
  },
  "language_info": {
   "codemirror_mode": {
    "name": "ipython",
    "version": 3
   },
   "file_extension": ".py",
   "mimetype": "text/x-python",
   "name": "python",
   "nbconvert_exporter": "python",
   "pygments_lexer": "ipython3",
   "version": "3.12.7"
  }
 },
 "nbformat": 4,
 "nbformat_minor": 5
}
