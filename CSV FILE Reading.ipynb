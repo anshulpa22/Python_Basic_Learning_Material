{
 "cells": [
  {
   "cell_type": "markdown",
   "id": "6dd2a164",
   "metadata": {},
   "source": [
    "How to read a CSV File"
   ]
  },
  {
   "cell_type": "code",
   "execution_count": 1,
   "id": "c213fd88",
   "metadata": {},
   "outputs": [],
   "source": [
    "import csv"
   ]
  },
  {
   "cell_type": "code",
   "execution_count": 5,
   "id": "906abf91",
   "metadata": {},
   "outputs": [
    {
     "name": "stdout",
     "output_type": "stream",
     "text": [
      "<_io.TextIOWrapper name='sample.csv' mode='r' encoding='UTF-8'>\n",
      "<_csv.reader object at 0x114441310>\n",
      "['Name', 'Age', 'Country']\n",
      "['Alice', '30', 'USA']\n",
      "['Bob', '25', 'UK']\n",
      "['Charlie', ' 35 Canada']\n"
     ]
    }
   ],
   "source": [
    "with open('sample.csv', 'r') as f :\n",
    "    print(f)\n",
    "    print(csv.reader(f))\n",
    "    reader = csv.reader(f)\n",
    "    for i in reader:\n",
    "        print(i)"
   ]
  },
  {
   "cell_type": "markdown",
   "id": "479e644f",
   "metadata": {},
   "source": [
    "The data is printed in List format corresponding to each line in the csv file"
   ]
  },
  {
   "cell_type": "code",
   "execution_count": 6,
   "id": "cd288e72",
   "metadata": {},
   "outputs": [
    {
     "name": "stdout",
     "output_type": "stream",
     "text": [
      "['Alice', '30', 'USA']\n",
      "['Bob', '25', 'UK']\n",
      "['Charlie', ' 35 Canada']\n"
     ]
    }
   ],
   "source": [
    "with open('sample.csv', 'r') as f :\n",
    "    reader = csv.reader(f)\n",
    "    next(reader)\n",
    "    for i in reader:\n",
    "        print(i)"
   ]
  },
  {
   "cell_type": "code",
   "execution_count": 9,
   "id": "e824a497",
   "metadata": {},
   "outputs": [],
   "source": [
    "with open('output.csv', 'w') as f :\n",
    "    writer = csv.writer(f)\n",
    "    writer.writerow([\"sudhanshu\", \"kumar\"])"
   ]
  },
  {
   "cell_type": "markdown",
   "id": "94bdf18f",
   "metadata": {},
   "source": [
    "For writing multipole records"
   ]
  },
  {
   "cell_type": "code",
   "execution_count": 11,
   "id": "3d3e4cab",
   "metadata": {},
   "outputs": [],
   "source": [
    "with open('output.csv', 'w') as f :\n",
    "    writer = csv.writer(f)\n",
    "    writer.writerow([\"sudhanshu\", \"kumar\"])\n",
    "    writer.writerows([[\"anshul\", \"pandey\"], ['data', 'values'], ['python', 'java']])"
   ]
  },
  {
   "cell_type": "code",
   "execution_count": 12,
   "id": "48943939",
   "metadata": {},
   "outputs": [
    {
     "name": "stdout",
     "output_type": "stream",
     "text": [
      "{'sudhanshu': 'anshul', 'kumar': 'pandey'}\n",
      "{'sudhanshu': 'data', 'kumar': 'values'}\n",
      "{'sudhanshu': 'python', 'kumar': 'java'}\n"
     ]
    }
   ],
   "source": [
    " # Dictionary Reader\n",
    "\n",
    "with open('output.csv', 'r') as f:\n",
    "    reader = csv.DictReader(f)\n",
    "    for i in reader:\n",
    "        print(i)"
   ]
  }
 ],
 "metadata": {
  "kernelspec": {
   "display_name": "base",
   "language": "python",
   "name": "python3"
  },
  "language_info": {
   "codemirror_mode": {
    "name": "ipython",
    "version": 3
   },
   "file_extension": ".py",
   "mimetype": "text/x-python",
   "name": "python",
   "nbconvert_exporter": "python",
   "pygments_lexer": "ipython3",
   "version": "3.12.7"
  }
 },
 "nbformat": 4,
 "nbformat_minor": 5
}
