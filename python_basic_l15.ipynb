{
 "cells": [
  {
   "cell_type": "markdown",
   "id": "245ba89c",
   "metadata": {},
   "source": [
    "Lambda functions "
   ]
  },
  {
   "cell_type": "code",
   "execution_count": 1,
   "id": "2f5ebe9e",
   "metadata": {},
   "outputs": [],
   "source": [
    "def add(a,b):\n",
    "    return a+b"
   ]
  },
  {
   "cell_type": "code",
   "execution_count": 2,
   "id": "8697e921",
   "metadata": {},
   "outputs": [
    {
     "data": {
      "text/plain": [
       "9"
      ]
     },
     "execution_count": 2,
     "metadata": {},
     "output_type": "execute_result"
    }
   ],
   "source": [
    "add(4,5)"
   ]
  },
  {
   "cell_type": "markdown",
   "id": "216da625",
   "metadata": {},
   "source": [
    "The above functionality can also be done via a diiferent approach called the \"Lambda\" function. It is also called Anonymous function"
   ]
  },
  {
   "cell_type": "code",
   "execution_count": 4,
   "id": "c9e4b787",
   "metadata": {},
   "outputs": [],
   "source": [
    "c = lambda a,b : a+b"
   ]
  },
  {
   "cell_type": "code",
   "execution_count": 5,
   "id": "66149269",
   "metadata": {},
   "outputs": [
    {
     "data": {
      "text/plain": [
       "9"
      ]
     },
     "execution_count": 5,
     "metadata": {},
     "output_type": "execute_result"
    }
   ],
   "source": [
    "c(4,5)"
   ]
  },
  {
   "cell_type": "markdown",
   "id": "718733c1",
   "metadata": {},
   "source": [
    "Whereever, we have to implement a small function and a very simple logic, we can use the lambda function"
   ]
  },
  {
   "cell_type": "code",
   "execution_count": 6,
   "id": "7a0efd79",
   "metadata": {},
   "outputs": [],
   "source": [
    "square = lambda a : a**2"
   ]
  },
  {
   "cell_type": "code",
   "execution_count": 7,
   "id": "f3f53b1e",
   "metadata": {},
   "outputs": [
    {
     "data": {
      "text/plain": [
       "25"
      ]
     },
     "execution_count": 7,
     "metadata": {},
     "output_type": "execute_result"
    }
   ],
   "source": [
    "square(5)"
   ]
  },
  {
   "cell_type": "code",
   "execution_count": 8,
   "id": "47ec20bf",
   "metadata": {},
   "outputs": [],
   "source": [
    "max = lambda a,b : a if a>b else b"
   ]
  },
  {
   "cell_type": "code",
   "execution_count": 9,
   "id": "3584393b",
   "metadata": {},
   "outputs": [
    {
     "data": {
      "text/plain": [
       "3"
      ]
     },
     "execution_count": 9,
     "metadata": {},
     "output_type": "execute_result"
    }
   ],
   "source": [
    "max(2,3)"
   ]
  },
  {
   "cell_type": "code",
   "execution_count": 10,
   "id": "d11a4a31",
   "metadata": {},
   "outputs": [],
   "source": [
    "is_even_odd = lambda a : print(\"even\") if a%2 == 0 else print(\"odd\")"
   ]
  },
  {
   "cell_type": "code",
   "execution_count": 11,
   "id": "9fa21c3f",
   "metadata": {},
   "outputs": [
    {
     "name": "stdout",
     "output_type": "stream",
     "text": [
      "odd\n"
     ]
    }
   ],
   "source": [
    "is_even_odd(9)"
   ]
  }
 ],
 "metadata": {
  "kernelspec": {
   "display_name": "base",
   "language": "python",
   "name": "python3"
  },
  "language_info": {
   "codemirror_mode": {
    "name": "ipython",
    "version": 3
   },
   "file_extension": ".py",
   "mimetype": "text/x-python",
   "name": "python",
   "nbconvert_exporter": "python",
   "pygments_lexer": "ipython3",
   "version": "3.12.7"
  }
 },
 "nbformat": 4,
 "nbformat_minor": 5
}
