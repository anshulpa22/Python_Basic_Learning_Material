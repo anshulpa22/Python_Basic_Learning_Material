{
 "cells": [
  {
   "cell_type": "markdown",
   "id": "11addd51",
   "metadata": {},
   "source": [
    "Operating on JSON Files. JSON stands for JAVA script object notation"
   ]
  },
  {
   "cell_type": "code",
   "execution_count": 1,
   "id": "d1ac8d1a",
   "metadata": {},
   "outputs": [],
   "source": [
    "import json"
   ]
  },
  {
   "cell_type": "code",
   "execution_count": 2,
   "id": "0f71a5bc",
   "metadata": {},
   "outputs": [
    {
     "name": "stdout",
     "output_type": "stream",
     "text": [
      "{'employees': [{'name': 'Alice', 'age': 30}, {'name': 'Bob', 'age': 25}]}\n"
     ]
    }
   ],
   "source": [
    "with open('data.json', 'r') as f:\n",
    "    data = json.load(f)\n",
    "    print(data)"
   ]
  },
  {
   "cell_type": "code",
   "execution_count": 3,
   "id": "b9975c95",
   "metadata": {},
   "outputs": [
    {
     "name": "stdout",
     "output_type": "stream",
     "text": [
      "Alice 30\n",
      "Bob 25\n"
     ]
    }
   ],
   "source": [
    "with open('data.json', 'r') as f:\n",
    "    data = json.load(f)\n",
    "    for i in data['employees']:\n",
    "        print(i['name'], i['age'])"
   ]
  },
  {
   "cell_type": "code",
   "execution_count": 4,
   "id": "73dcc37e",
   "metadata": {},
   "outputs": [
    {
     "data": {
      "text/plain": [
       "[{'name': 'Alice', 'age': 30}, {'name': 'Bob', 'age': 25}]"
      ]
     },
     "execution_count": 4,
     "metadata": {},
     "output_type": "execute_result"
    }
   ],
   "source": [
    "data['employees']"
   ]
  },
  {
   "cell_type": "code",
   "execution_count": 5,
   "id": "2966d2df",
   "metadata": {},
   "outputs": [],
   "source": [
    "data = {\n",
    "    \"employees\": [\n",
    "        {\"name\": \"Alice\", \"age\": 30},\n",
    "        {\"name\": \"Bob\", \"age\": 25}\n",
    "    ]\n",
    "\n",
    "\n",
    "}"
   ]
  },
  {
   "cell_type": "code",
   "execution_count": 7,
   "id": "7ec8f3ec",
   "metadata": {},
   "outputs": [],
   "source": [
    "with open('dataout.json', 'w') as f:\n",
    "    json.dump(data, f)"
   ]
  }
 ],
 "metadata": {
  "kernelspec": {
   "display_name": "base",
   "language": "python",
   "name": "python3"
  },
  "language_info": {
   "codemirror_mode": {
    "name": "ipython",
    "version": 3
   },
   "file_extension": ".py",
   "mimetype": "text/x-python",
   "name": "python",
   "nbconvert_exporter": "python",
   "pygments_lexer": "ipython3",
   "version": "3.12.7"
  }
 },
 "nbformat": 4,
 "nbformat_minor": 5
}
