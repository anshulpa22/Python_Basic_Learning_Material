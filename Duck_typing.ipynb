{
 "cells": [
  {
   "cell_type": "markdown",
   "id": "116863be",
   "metadata": {},
   "source": [
    "Duck Typing"
   ]
  },
  {
   "cell_type": "code",
   "execution_count": 1,
   "id": "9987c145",
   "metadata": {},
   "outputs": [],
   "source": [
    "class course:\n",
    "    def __init__(self, topics):\n",
    "        self.topics=topics\n",
    "\n",
    "    \n",
    "    def __len__(self):\n",
    "        return len(self.topics)"
   ]
  },
  {
   "cell_type": "code",
   "execution_count": 3,
   "id": "f104e3c0",
   "metadata": {},
   "outputs": [],
   "source": [
    "c = course(\"anshul\")"
   ]
  },
  {
   "cell_type": "code",
   "execution_count": 4,
   "id": "88f02bc6",
   "metadata": {},
   "outputs": [
    {
     "data": {
      "text/plain": [
       "6"
      ]
     },
     "execution_count": 4,
     "metadata": {},
     "output_type": "execute_result"
    }
   ],
   "source": [
    "len(c)"
   ]
  },
  {
   "cell_type": "code",
   "execution_count": 5,
   "id": "3c443def",
   "metadata": {},
   "outputs": [],
   "source": [
    "c1 = course([1,2,3,4,5,6])"
   ]
  },
  {
   "cell_type": "code",
   "execution_count": 6,
   "id": "0f438e97",
   "metadata": {},
   "outputs": [
    {
     "data": {
      "text/plain": [
       "6"
      ]
     },
     "execution_count": 6,
     "metadata": {},
     "output_type": "execute_result"
    }
   ],
   "source": [
    "len(c)"
   ]
  },
  {
   "cell_type": "code",
   "execution_count": 7,
   "id": "b8c95308",
   "metadata": {},
   "outputs": [],
   "source": [
    "c2 = course((1,2,3,4,5))"
   ]
  },
  {
   "cell_type": "code",
   "execution_count": 8,
   "id": "3b81fd5d",
   "metadata": {},
   "outputs": [
    {
     "data": {
      "text/plain": [
       "5"
      ]
     },
     "execution_count": 8,
     "metadata": {},
     "output_type": "execute_result"
    }
   ],
   "source": [
    "len(c2)"
   ]
  },
  {
   "cell_type": "markdown",
   "id": "81d1f8b3",
   "metadata": {},
   "source": [
    "Whatever type of input you provide, the len function is working fine. This is called that len function is working like a duck"
   ]
  }
 ],
 "metadata": {
  "kernelspec": {
   "display_name": "base",
   "language": "python",
   "name": "python3"
  },
  "language_info": {
   "codemirror_mode": {
    "name": "ipython",
    "version": 3
   },
   "file_extension": ".py",
   "mimetype": "text/x-python",
   "name": "python",
   "nbconvert_exporter": "python",
   "pygments_lexer": "ipython3",
   "version": "3.12.7"
  }
 },
 "nbformat": 4,
 "nbformat_minor": 5
}
