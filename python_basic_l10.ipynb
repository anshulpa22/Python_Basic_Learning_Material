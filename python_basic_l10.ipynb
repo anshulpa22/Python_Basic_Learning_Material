{
 "cells": [
  {
   "cell_type": "markdown",
   "id": "e23b5f56",
   "metadata": {},
   "source": [
    "Data Structure: Set"
   ]
  },
  {
   "cell_type": "code",
   "execution_count": 1,
   "id": "16ae681a",
   "metadata": {},
   "outputs": [],
   "source": [
    "s = {}"
   ]
  },
  {
   "cell_type": "code",
   "execution_count": 2,
   "id": "6e49f134",
   "metadata": {},
   "outputs": [
    {
     "data": {
      "text/plain": [
       "dict"
      ]
     },
     "execution_count": 2,
     "metadata": {},
     "output_type": "execute_result"
    }
   ],
   "source": [
    "type(s)"
   ]
  },
  {
   "cell_type": "code",
   "execution_count": 3,
   "id": "61a52140",
   "metadata": {},
   "outputs": [],
   "source": [
    "s = {3}"
   ]
  },
  {
   "cell_type": "code",
   "execution_count": 4,
   "id": "04a13194",
   "metadata": {},
   "outputs": [
    {
     "data": {
      "text/plain": [
       "set"
      ]
     },
     "execution_count": 4,
     "metadata": {},
     "output_type": "execute_result"
    }
   ],
   "source": [
    "type(s)"
   ]
  },
  {
   "cell_type": "markdown",
   "id": "40940892",
   "metadata": {},
   "source": [
    "1. When we define s = {}, here s is empty, the python interpreter recognizers it as a Dictionary\n",
    "2. When we have a non empty dictionary like s = {3}, it is called a SET"
   ]
  },
  {
   "cell_type": "code",
   "execution_count": 5,
   "id": "19fcbfe9",
   "metadata": {},
   "outputs": [],
   "source": [
    "s = {2,3,4,5,6,7,8,8,9,\"sudh\", \"sudh\", \"sudh\", \"euron\"}"
   ]
  },
  {
   "cell_type": "code",
   "execution_count": 6,
   "id": "ffeb08ae",
   "metadata": {},
   "outputs": [
    {
     "data": {
      "text/plain": [
       "{2, 3, 4, 5, 6, 7, 8, 9, 'euron', 'sudh'}"
      ]
     },
     "execution_count": 6,
     "metadata": {},
     "output_type": "execute_result"
    }
   ],
   "source": [
    "s"
   ]
  },
  {
   "cell_type": "markdown",
   "id": "f577d9fb",
   "metadata": {},
   "source": [
    "Set is a data structure which removes the duplicate enteries from it as shown above"
   ]
  },
  {
   "cell_type": "code",
   "execution_count": 7,
   "id": "92106785",
   "metadata": {},
   "outputs": [],
   "source": [
    "s1 = {(4,5,6,7)}"
   ]
  },
  {
   "cell_type": "code",
   "execution_count": 8,
   "id": "cf8b9346",
   "metadata": {},
   "outputs": [
    {
     "ename": "TypeError",
     "evalue": "unhashable type: 'list'",
     "output_type": "error",
     "traceback": [
      "\u001b[0;31m---------------------------------------------------------------------------\u001b[0m",
      "\u001b[0;31mTypeError\u001b[0m                                 Traceback (most recent call last)",
      "Cell \u001b[0;32mIn[8], line 1\u001b[0m\n\u001b[0;32m----> 1\u001b[0m s2 \u001b[38;5;241m=\u001b[39m {[\u001b[38;5;241m1\u001b[39m,\u001b[38;5;241m2\u001b[39m,\u001b[38;5;241m3\u001b[39m,\u001b[38;5;241m4\u001b[39m]}\n",
      "\u001b[0;31mTypeError\u001b[0m: unhashable type: 'list'"
     ]
    }
   ],
   "source": [
    "s2 = {[1,2,3,4]}"
   ]
  },
  {
   "cell_type": "markdown",
   "id": "b762e616",
   "metadata": {},
   "source": [
    "The above operaton failed because the element inside a set is immutable and here when we give list as a set entry which is mutable.\n",
    "\n",
    "1. The Set in itself is mutable\n",
    "2. The elements of a set have to be immutable"
   ]
  },
  {
   "cell_type": "code",
   "execution_count": 9,
   "id": "d46f1921",
   "metadata": {},
   "outputs": [
    {
     "data": {
      "text/plain": [
       "{1, 2, 3, 4}"
      ]
     },
     "execution_count": 9,
     "metadata": {},
     "output_type": "execute_result"
    }
   ],
   "source": [
    "l = [1,2,3,4]\n",
    "s = set(l) # Converting a list into set\n",
    "s"
   ]
  },
  {
   "cell_type": "code",
   "execution_count": 10,
   "id": "48939205",
   "metadata": {},
   "outputs": [
    {
     "data": {
      "text/plain": [
       "{1, 2, 3, 4, 5, 6, 'anshul'}"
      ]
     },
     "execution_count": 10,
     "metadata": {},
     "output_type": "execute_result"
    }
   ],
   "source": [
    "t = (1,2,2,3,3,3,4,5,6,\"anshul\", \"anshul\") # Tuple\n",
    "s = set(t)\n",
    "s"
   ]
  },
  {
   "cell_type": "code",
   "execution_count": null,
   "id": "29ad979e",
   "metadata": {},
   "outputs": [
    {
     "data": {
      "text/plain": [
       "(1, 2, 3, 4, 5, 6, 'anshul')"
      ]
     },
     "execution_count": 11,
     "metadata": {},
     "output_type": "execute_result"
    }
   ],
   "source": [
    "tuple(s). # Converting a set to tuple"
   ]
  },
  {
   "cell_type": "code",
   "execution_count": 12,
   "id": "a6963a29",
   "metadata": {},
   "outputs": [
    {
     "data": {
      "text/plain": [
       "[1, 2, 3, 4, 5, 6, 'anshul']"
      ]
     },
     "execution_count": 12,
     "metadata": {},
     "output_type": "execute_result"
    }
   ],
   "source": [
    "list(s)"
   ]
  },
  {
   "cell_type": "code",
   "execution_count": 14,
   "id": "374cbc89",
   "metadata": {},
   "outputs": [
    {
     "data": {
      "text/plain": [
       "{1, 2, 3, 34, 4, 5, 6, 'anshul'}"
      ]
     },
     "execution_count": 14,
     "metadata": {},
     "output_type": "execute_result"
    }
   ],
   "source": [
    "s.add(34)\n",
    "s"
   ]
  },
  {
   "cell_type": "markdown",
   "id": "427225f5",
   "metadata": {},
   "source": [
    "Set is an unordered collection of elememts and that is wy whn we used add function to add a element into set it added to a ransdom,location in aset"
   ]
  },
  {
   "cell_type": "code",
   "execution_count": null,
   "id": "32faf2e2",
   "metadata": {},
   "outputs": [
    {
     "data": {
      "text/plain": [
       "{1, 2, 3, 34, 4, 5, 6, 'anshul'}"
      ]
     },
     "execution_count": 15,
     "metadata": {},
     "output_type": "execute_result"
    }
   ],
   "source": [
    "s1 = s.copy(). # Shallow Copy\n",
    "s1"
   ]
  },
  {
   "cell_type": "code",
   "execution_count": 16,
   "id": "e57f2dfc",
   "metadata": {},
   "outputs": [
    {
     "data": {
      "text/plain": [
       "4622397984"
      ]
     },
     "execution_count": 16,
     "metadata": {},
     "output_type": "execute_result"
    }
   ],
   "source": [
    "id(s)"
   ]
  },
  {
   "cell_type": "code",
   "execution_count": 17,
   "id": "55b39eba",
   "metadata": {},
   "outputs": [
    {
     "data": {
      "text/plain": [
       "4622399104"
      ]
     },
     "execution_count": 17,
     "metadata": {},
     "output_type": "execute_result"
    }
   ],
   "source": [
    "id(s1)"
   ]
  },
  {
   "cell_type": "code",
   "execution_count": 18,
   "id": "84830f88",
   "metadata": {},
   "outputs": [
    {
     "data": {
      "text/plain": [
       "{1, 2, 3, 4, 5, 6, 'anshul'}"
      ]
     },
     "execution_count": 18,
     "metadata": {},
     "output_type": "execute_result"
    }
   ],
   "source": [
    "s.discard(34)\n",
    "s"
   ]
  },
  {
   "cell_type": "code",
   "execution_count": 19,
   "id": "182855bd",
   "metadata": {},
   "outputs": [
    {
     "data": {
      "text/plain": [
       "{1, 2, 3, 4, 5, 'anshul'}"
      ]
     },
     "execution_count": 19,
     "metadata": {},
     "output_type": "execute_result"
    }
   ],
   "source": [
    "s.remove(6)\n",
    "s"
   ]
  },
  {
   "cell_type": "markdown",
   "id": "b60f0884",
   "metadata": {},
   "source": [
    "The difference between remove and discard:\n",
    "1. If element that needs to be discarded does not exits, it did not gives error. Here it does nothing.\n",
    "2. If we use remove, and element does not exist it returns an error"
   ]
  },
  {
   "cell_type": "code",
   "execution_count": 20,
   "id": "3839f40d",
   "metadata": {},
   "outputs": [
    {
     "data": {
      "text/plain": [
       "{4, 5}"
      ]
     },
     "execution_count": 20,
     "metadata": {},
     "output_type": "execute_result"
    }
   ],
   "source": [
    "s1 = {3,4,5}\n",
    "s2 = {1,2,3}\n",
    "s1.difference(s2)"
   ]
  },
  {
   "cell_type": "code",
   "execution_count": 21,
   "id": "2988e5ad",
   "metadata": {},
   "outputs": [
    {
     "data": {
      "text/plain": [
       "{3}"
      ]
     },
     "execution_count": 21,
     "metadata": {},
     "output_type": "execute_result"
    }
   ],
   "source": [
    "s1.intersection(s2)"
   ]
  },
  {
   "cell_type": "code",
   "execution_count": 22,
   "id": "b1f02c56",
   "metadata": {},
   "outputs": [
    {
     "data": {
      "text/plain": [
       "{1, 2, 3, 4, 5}"
      ]
     },
     "execution_count": 22,
     "metadata": {},
     "output_type": "execute_result"
    }
   ],
   "source": [
    "s1.union(s2)"
   ]
  },
  {
   "cell_type": "code",
   "execution_count": 23,
   "id": "147a19e6",
   "metadata": {},
   "outputs": [
    {
     "data": {
      "text/plain": [
       "3"
      ]
     },
     "execution_count": 23,
     "metadata": {},
     "output_type": "execute_result"
    }
   ],
   "source": [
    "s1.pop()"
   ]
  },
  {
   "cell_type": "code",
   "execution_count": 24,
   "id": "b5e0004c",
   "metadata": {},
   "outputs": [
    {
     "data": {
      "text/plain": [
       "{4, 5}"
      ]
     },
     "execution_count": 24,
     "metadata": {},
     "output_type": "execute_result"
    }
   ],
   "source": [
    "s1"
   ]
  },
  {
   "cell_type": "code",
   "execution_count": 25,
   "id": "ec90649d",
   "metadata": {},
   "outputs": [],
   "source": [
    "s1.clear()"
   ]
  },
  {
   "cell_type": "code",
   "execution_count": 26,
   "id": "692ac15e",
   "metadata": {},
   "outputs": [
    {
     "data": {
      "text/plain": [
       "True"
      ]
     },
     "execution_count": 26,
     "metadata": {},
     "output_type": "execute_result"
    }
   ],
   "source": [
    "2 in s2"
   ]
  },
  {
   "cell_type": "code",
   "execution_count": 27,
   "id": "5eb9a62e",
   "metadata": {},
   "outputs": [
    {
     "data": {
      "text/plain": [
       "False"
      ]
     },
     "execution_count": 27,
     "metadata": {},
     "output_type": "execute_result"
    }
   ],
   "source": [
    "2 not in s"
   ]
  },
  {
   "cell_type": "code",
   "execution_count": 28,
   "id": "a11a15ff",
   "metadata": {},
   "outputs": [],
   "source": [
    "s1 = {3,4,5,6,7}\n",
    "s2 = {4,5,6}\n"
   ]
  },
  {
   "cell_type": "code",
   "execution_count": 29,
   "id": "c57dd2ae",
   "metadata": {},
   "outputs": [
    {
     "data": {
      "text/plain": [
       "False"
      ]
     },
     "execution_count": 29,
     "metadata": {},
     "output_type": "execute_result"
    }
   ],
   "source": [
    "s1.issubset(s2)"
   ]
  },
  {
   "cell_type": "code",
   "execution_count": 30,
   "id": "c33aa541",
   "metadata": {},
   "outputs": [
    {
     "data": {
      "text/plain": [
       "True"
      ]
     },
     "execution_count": 30,
     "metadata": {},
     "output_type": "execute_result"
    }
   ],
   "source": [
    "s2.issubset(s1)"
   ]
  },
  {
   "cell_type": "code",
   "execution_count": 31,
   "id": "dc592977",
   "metadata": {},
   "outputs": [],
   "source": [
    "f = frozenset({1,2,3,4,4,5,5,5,56})"
   ]
  },
  {
   "cell_type": "code",
   "execution_count": 32,
   "id": "3f68145e",
   "metadata": {},
   "outputs": [
    {
     "data": {
      "text/plain": [
       "frozenset"
      ]
     },
     "execution_count": 32,
     "metadata": {},
     "output_type": "execute_result"
    }
   ],
   "source": [
    "type(f)"
   ]
  },
  {
   "cell_type": "markdown",
   "id": "84e165f2",
   "metadata": {},
   "source": [
    "frozenset(): makes the set immutable with all properties of a set"
   ]
  }
 ],
 "metadata": {
  "kernelspec": {
   "display_name": "base",
   "language": "python",
   "name": "python3"
  },
  "language_info": {
   "codemirror_mode": {
    "name": "ipython",
    "version": 3
   },
   "file_extension": ".py",
   "mimetype": "text/x-python",
   "name": "python",
   "nbconvert_exporter": "python",
   "pygments_lexer": "ipython3",
   "version": "3.12.7"
  }
 },
 "nbformat": 4,
 "nbformat_minor": 5
}
