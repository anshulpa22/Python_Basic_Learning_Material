{
 "cells": [
  {
   "cell_type": "markdown",
   "id": "3e54e38f",
   "metadata": {},
   "source": [
    "If and Else Statement"
   ]
  },
  {
   "cell_type": "code",
   "execution_count": 3,
   "id": "e104a158",
   "metadata": {},
   "outputs": [
    {
     "name": "stdout",
     "output_type": "stream",
     "text": [
      " this number is a positive number\n"
     ]
    }
   ],
   "source": [
    "number = 10\n",
    "if number > 0 :\n",
    "    print(\" this number is a positive number\")\n"
   ]
  },
  {
   "cell_type": "markdown",
   "id": "4295c0f4",
   "metadata": {},
   "source": [
    "Whenever we use if staemenet, we have to use indentation as Python does not provide curly method"
   ]
  },
  {
   "cell_type": "markdown",
   "id": "41dbf7d0",
   "metadata": {},
   "source": [
    "Code to check for odd and Even number functionality"
   ]
  },
  {
   "cell_type": "code",
   "execution_count": 4,
   "id": "15ba0f6d",
   "metadata": {},
   "outputs": [
    {
     "name": "stdout",
     "output_type": "stream",
     "text": [
      "The provided number 45 is odd\n"
     ]
    }
   ],
   "source": [
    "number = int(input('Enter a number'))\n",
    "if number % 2 == 0 :\n",
    "    print(f\"The provided number {number} is even\")\n",
    "else :\n",
    "    print(f\"The provided number {number} is odd\")"
   ]
  },
  {
   "cell_type": "code",
   "execution_count": 5,
   "id": "976c97b6",
   "metadata": {},
   "outputs": [
    {
     "name": "stdout",
     "output_type": "stream",
     "text": [
      "Grade F\n"
     ]
    }
   ],
   "source": [
    "score = int(input(\"Enter your Grade\"))\n",
    "if score >= 90 :\n",
    "    print(\"Grade A\")\n",
    "elif score >= 80 :\n",
    "    print(\"Grade B\")\n",
    "elif score >= 70 :\n",
    "    print(\"Grade C\")\n",
    "elif score >= 60 :\n",
    "    print(\"Grade D\")\n",
    "else :\n",
    "    print(\"Grade F\")\n",
    "\n"
   ]
  },
  {
   "cell_type": "code",
   "execution_count": 6,
   "id": "5199387e",
   "metadata": {},
   "outputs": [
    {
     "name": "stdout",
     "output_type": "stream",
     "text": [
      "You are eligible to vote\n"
     ]
    }
   ],
   "source": [
    "citizen = input(\"Say yes or no whether you are Indian Citizen\")\n",
    "age = int(input(\"Enter your age\"))\n",
    "if age >= 18 and citizen == \"yes\" :\n",
    "    print(\"You are eligible to vote\")\n",
    "else:\n",
    "    print(\"You are not eligible to vote\")"
   ]
  },
  {
   "cell_type": "markdown",
   "id": "84d384c7",
   "metadata": {},
   "source": [
    "Nested If Else"
   ]
  },
  {
   "cell_type": "code",
   "execution_count": 8,
   "id": "dba1c5b6",
   "metadata": {},
   "outputs": [
    {
     "name": "stdout",
     "output_type": "stream",
     "text": [
      "Your income is low so not eligible for a loan\n"
     ]
    }
   ],
   "source": [
    "income = int(input(\"Enter your Income\"))\n",
    "credit_score = int(input(\"enter your credit score\"))\n",
    "if income > 30000 :\n",
    "    if credit_score > 700 :\n",
    "        print(\"You will get the loan\")\n",
    "    else :\n",
    "        print(\"Your credit score is low to get a loan\")\n",
    "else :\n",
    "    print(\"Your income is low so not eligible for a loan\")"
   ]
  },
  {
   "cell_type": "code",
   "execution_count": 11,
   "id": "42fe8211",
   "metadata": {},
   "outputs": [
    {
     "name": "stdout",
     "output_type": "stream",
     "text": [
      "some chance of admission\n"
     ]
    }
   ],
   "source": [
    "gpa = 3.7\n",
    "test_score = 60\n",
    "extracurr = \"yes\"\n",
    "\n",
    "if gpa > 3.5 :\n",
    "    if test_score > 90 :\n",
    "        print(\"Full scholarship\")\n",
    "    elif test_score > 80 :\n",
    "        if extracurr == 'yes' :\n",
    "            print(\"partial scholarship\")\n",
    "        else:\n",
    "            print(\"admission yes bit no scholarship\")\n",
    "    else :\n",
    "        print(\"some chance of admission\")\n",
    "elif gpa > 3.0 :\n",
    "    if test_score > 80 :\n",
    "        print(\"admission yes but no scholarship\")\n",
    "    else:\n",
    "        print(\"tro be reviwed\")\n",
    "else:\n",
    "    print(\"no admission\")\n"
   ]
  },
  {
   "cell_type": "markdown",
   "id": "d79d969e",
   "metadata": {},
   "source": [
    "Ternary Operator: if else statement in a single line"
   ]
  },
  {
   "cell_type": "code",
   "execution_count": 12,
   "id": "55b89afc",
   "metadata": {},
   "outputs": [
    {
     "data": {
      "text/plain": [
       "'odd'"
      ]
     },
     "execution_count": 12,
     "metadata": {},
     "output_type": "execute_result"
    }
   ],
   "source": [
    "number = 15\n",
    "\"even\" if number % 2 == 0 else \"odd\""
   ]
  },
  {
   "cell_type": "code",
   "execution_count": 14,
   "id": "fa720fec",
   "metadata": {},
   "outputs": [
    {
     "name": "stdout",
     "output_type": "stream",
     "text": [
      "1\n"
     ]
    },
    {
     "data": {
      "text/plain": [
       "'good morning'"
      ]
     },
     "execution_count": 14,
     "metadata": {},
     "output_type": "execute_result"
    }
   ],
   "source": [
    "import datetime\n",
    "current_hour = datetime.datetime.now().hour\n",
    "print(current_hour)\n",
    "\"good morning\" if current_hour < 12 else \"good afternoon\" if current_hour < 18 else \"good evening\" if current_hour < 21 else \"good night\"\n"
   ]
  },
  {
   "cell_type": "markdown",
   "id": "566caf4c",
   "metadata": {},
   "source": [
    "Match Condition Statement"
   ]
  },
  {
   "cell_type": "code",
   "execution_count": 15,
   "id": "f6be76a7",
   "metadata": {},
   "outputs": [
    {
     "name": "stdout",
     "output_type": "stream",
     "text": [
      "First day\n"
     ]
    }
   ],
   "source": [
    "day = \"monday\"\n",
    "match day :\n",
    "    case \"monday\" :\n",
    "        print(\"First day\")\n",
    "    case \"tuesday\" :\n",
    "        print(\"second day\")\n",
    "    case \"wednesday\" :\n",
    "        print(\"third day\")\n",
    "    case _ :\n",
    "        print(\"just another day\")\n",
    "        \n",
    "        "
   ]
  }
 ],
 "metadata": {
  "kernelspec": {
   "display_name": "base",
   "language": "python",
   "name": "python3"
  },
  "language_info": {
   "codemirror_mode": {
    "name": "ipython",
    "version": 3
   },
   "file_extension": ".py",
   "mimetype": "text/x-python",
   "name": "python",
   "nbconvert_exporter": "python",
   "pygments_lexer": "ipython3",
   "version": "3.12.7"
  }
 },
 "nbformat": 4,
 "nbformat_minor": 5
}
