{
 "cells": [
  {
   "cell_type": "markdown",
   "id": "cb74f9ae",
   "metadata": {},
   "source": [
    "Lists"
   ]
  },
  {
   "cell_type": "code",
   "execution_count": 1,
   "id": "f547833f",
   "metadata": {},
   "outputs": [],
   "source": [
    "# Define a list\n",
    "\n",
    "l = []"
   ]
  },
  {
   "cell_type": "code",
   "execution_count": 2,
   "id": "23d12dd5",
   "metadata": {},
   "outputs": [
    {
     "data": {
      "text/plain": [
       "list"
      ]
     },
     "execution_count": 2,
     "metadata": {},
     "output_type": "execute_result"
    }
   ],
   "source": [
    "type(l)"
   ]
  },
  {
   "cell_type": "markdown",
   "id": "22e6e77a",
   "metadata": {},
   "source": [
    "A list can contain any type of storage of integer, float, string, complex, boolean or a combination of these. It also supports both forward and backward indexing as in string"
   ]
  },
  {
   "cell_type": "code",
   "execution_count": 3,
   "id": "37a75631",
   "metadata": {},
   "outputs": [
    {
     "data": {
      "text/plain": [
       "[3, 4, 5, 6.6, (3+8j), True, 'ssss']"
      ]
     },
     "execution_count": 3,
     "metadata": {},
     "output_type": "execute_result"
    }
   ],
   "source": [
    "l = [3, 4, 5, 6.6, 3+8j, True, \"ssss\"]\n",
    "l"
   ]
  },
  {
   "cell_type": "code",
   "execution_count": 4,
   "id": "079f5518",
   "metadata": {},
   "outputs": [
    {
     "data": {
      "text/plain": [
       "3"
      ]
     },
     "execution_count": 4,
     "metadata": {},
     "output_type": "execute_result"
    }
   ],
   "source": [
    "l[0]"
   ]
  },
  {
   "cell_type": "code",
   "execution_count": 5,
   "id": "e3a2a288",
   "metadata": {},
   "outputs": [
    {
     "data": {
      "text/plain": [
       "'ssss'"
      ]
     },
     "execution_count": 5,
     "metadata": {},
     "output_type": "execute_result"
    }
   ],
   "source": [
    "l[-1]"
   ]
  },
  {
   "cell_type": "code",
   "execution_count": 6,
   "id": "04b1687f",
   "metadata": {},
   "outputs": [
    {
     "data": {
      "text/plain": [
       "[3, 4, 5, 6.6, (3+8j)]"
      ]
     },
     "execution_count": 6,
     "metadata": {},
     "output_type": "execute_result"
    }
   ],
   "source": [
    "l[0:5]"
   ]
  },
  {
   "cell_type": "code",
   "execution_count": 7,
   "id": "aa9f53df",
   "metadata": {},
   "outputs": [
    {
     "data": {
      "text/plain": [
       "[3, 5, (3+8j), 'ssss']"
      ]
     },
     "execution_count": 7,
     "metadata": {},
     "output_type": "execute_result"
    }
   ],
   "source": [
    "l[0:8:2]"
   ]
  },
  {
   "cell_type": "code",
   "execution_count": 8,
   "id": "bcdc2e15",
   "metadata": {},
   "outputs": [
    {
     "data": {
      "text/plain": [
       "['ssss', True, (3+8j), 6.6, 5, 4, 3]"
      ]
     },
     "execution_count": 8,
     "metadata": {},
     "output_type": "execute_result"
    }
   ],
   "source": [
    "l[::-1]"
   ]
  },
  {
   "cell_type": "markdown",
   "id": "917cea12",
   "metadata": {},
   "source": [
    "List is an iterable object"
   ]
  },
  {
   "cell_type": "code",
   "execution_count": 9,
   "id": "0f862ece",
   "metadata": {},
   "outputs": [
    {
     "name": "stdout",
     "output_type": "stream",
     "text": [
      "3\n",
      "4\n",
      "5\n",
      "6.6\n",
      "(3+8j)\n",
      "True\n",
      "ssss\n"
     ]
    }
   ],
   "source": [
    "for i in l:\n",
    "    print(i)"
   ]
  },
  {
   "cell_type": "code",
   "execution_count": 11,
   "id": "4555f356",
   "metadata": {},
   "outputs": [
    {
     "name": "stdout",
     "output_type": "stream",
     "text": [
      "4\n",
      "5\n"
     ]
    }
   ],
   "source": [
    "# Try to extract only integer data from the above list\n",
    "for i in l:\n",
    "    if type(i)==int and i > 3:\n",
    "        print(i)"
   ]
  },
  {
   "cell_type": "code",
   "execution_count": 12,
   "id": "766cf8dc",
   "metadata": {},
   "outputs": [
    {
     "data": {
      "text/plain": [
       "[3, 4, 5, 6.6, (3+8j), True, 'ssss', 56]"
      ]
     },
     "execution_count": 12,
     "metadata": {},
     "output_type": "execute_result"
    }
   ],
   "source": [
    "l.append(56)\n",
    "l"
   ]
  },
  {
   "cell_type": "code",
   "execution_count": 13,
   "id": "3b90512e",
   "metadata": {},
   "outputs": [
    {
     "data": {
      "text/plain": [
       "[3, 4, 5, 6.6, (3+8j), True, 'ssss', 56, 'euron']"
      ]
     },
     "execution_count": 13,
     "metadata": {},
     "output_type": "execute_result"
    }
   ],
   "source": [
    "l.append(\"euron\")\n",
    "l"
   ]
  },
  {
   "cell_type": "markdown",
   "id": "fffee58b",
   "metadata": {},
   "source": [
    "l.append() appends thae additional data at the end of list"
   ]
  },
  {
   "cell_type": "code",
   "execution_count": 14,
   "id": "d9a71a21",
   "metadata": {},
   "outputs": [
    {
     "data": {
      "text/plain": [
       "[3, 4, 'anshul', 5, 6.6, (3+8j), True, 'ssss', 56, 'euron']"
      ]
     },
     "execution_count": 14,
     "metadata": {},
     "output_type": "execute_result"
    }
   ],
   "source": [
    "l.insert(2, \"anshul\")\n",
    "l"
   ]
  },
  {
   "cell_type": "markdown",
   "id": "44809726",
   "metadata": {},
   "source": [
    "Insert inseets the data at the specified index"
   ]
  },
  {
   "cell_type": "code",
   "execution_count": 15,
   "id": "b7e4bbcf",
   "metadata": {},
   "outputs": [
    {
     "ename": "TypeError",
     "evalue": "'int' object is not iterable",
     "output_type": "error",
     "traceback": [
      "\u001b[0;31m---------------------------------------------------------------------------\u001b[0m",
      "\u001b[0;31mTypeError\u001b[0m                                 Traceback (most recent call last)",
      "Cell \u001b[0;32mIn[15], line 1\u001b[0m\n\u001b[0;32m----> 1\u001b[0m l\u001b[38;5;241m.\u001b[39mextend(\u001b[38;5;241m2\u001b[39m)\n",
      "\u001b[0;31mTypeError\u001b[0m: 'int' object is not iterable"
     ]
    }
   ],
   "source": [
    "l.extend(2)"
   ]
  },
  {
   "cell_type": "code",
   "execution_count": 17,
   "id": "632204d7",
   "metadata": {},
   "outputs": [
    {
     "data": {
      "text/plain": [
       "[3,\n",
       " 4,\n",
       " 'anshul',\n",
       " 5,\n",
       " 6.6,\n",
       " (3+8j),\n",
       " True,\n",
       " 'ssss',\n",
       " 56,\n",
       " 'euron',\n",
       " 'a',\n",
       " 'n',\n",
       " 's',\n",
       " 'h',\n",
       " 'u',\n",
       " 'l',\n",
       " 'a',\n",
       " 'n',\n",
       " 's',\n",
       " 'h',\n",
       " 'u',\n",
       " 'l']"
      ]
     },
     "execution_count": 17,
     "metadata": {},
     "output_type": "execute_result"
    }
   ],
   "source": [
    "l.extend(\"anshul\")\n",
    "l"
   ]
  },
  {
   "cell_type": "markdown",
   "id": "4fe12995",
   "metadata": {},
   "source": [
    "Extend function alwys expects an iterable item. A data which can be extracted one by one and then each character extracterd will be added to the list. This thing will not work as integer is not iterable."
   ]
  },
  {
   "cell_type": "code",
   "execution_count": 18,
   "id": "92466ced",
   "metadata": {},
   "outputs": [
    {
     "data": {
      "text/plain": [
       "[3,\n",
       " 4,\n",
       " 'anshul',\n",
       " 5,\n",
       " 6.6,\n",
       " (3+8j),\n",
       " True,\n",
       " 'ssss',\n",
       " 56,\n",
       " 'euron',\n",
       " 'a',\n",
       " 'n',\n",
       " 's',\n",
       " 'h',\n",
       " 'u',\n",
       " 'l',\n",
       " 'a',\n",
       " 'n',\n",
       " 's',\n",
       " 'h',\n",
       " 'u',\n",
       " 'l',\n",
       " 2,\n",
       " 3,\n",
       " 4,\n",
       " 5,\n",
       " 6]"
      ]
     },
     "execution_count": 18,
     "metadata": {},
     "output_type": "execute_result"
    }
   ],
   "source": [
    "l.extend([2,3,4,5,6])\n",
    "l"
   ]
  },
  {
   "cell_type": "code",
   "execution_count": 19,
   "id": "ae263f26",
   "metadata": {},
   "outputs": [
    {
     "data": {
      "text/plain": [
       "6"
      ]
     },
     "execution_count": 19,
     "metadata": {},
     "output_type": "execute_result"
    }
   ],
   "source": [
    "l.pop()"
   ]
  },
  {
   "cell_type": "markdown",
   "id": "6d8510f1",
   "metadata": {},
   "source": [
    "pop takes the data from the last or the desired location. After this operation the list does not contain the item popped out of the list"
   ]
  },
  {
   "cell_type": "code",
   "execution_count": 21,
   "id": "ae2f6c5e",
   "metadata": {},
   "outputs": [
    {
     "data": {
      "text/plain": [
       "[3,\n",
       " 4,\n",
       " 6.6,\n",
       " (3+8j),\n",
       " True,\n",
       " 'ssss',\n",
       " 56,\n",
       " 'euron',\n",
       " 'a',\n",
       " 'n',\n",
       " 's',\n",
       " 'h',\n",
       " 'u',\n",
       " 'l',\n",
       " 'a',\n",
       " 'n',\n",
       " 's',\n",
       " 'h',\n",
       " 'u',\n",
       " 'l',\n",
       " 2,\n",
       " 3,\n",
       " 4,\n",
       " 5]"
      ]
     },
     "execution_count": 21,
     "metadata": {},
     "output_type": "execute_result"
    }
   ],
   "source": [
    "l.pop(2)\n",
    "l"
   ]
  },
  {
   "cell_type": "code",
   "execution_count": 22,
   "id": "4efd1b6b",
   "metadata": {},
   "outputs": [
    {
     "ename": "IndexError",
     "evalue": "pop index out of range",
     "output_type": "error",
     "traceback": [
      "\u001b[0;31m---------------------------------------------------------------------------\u001b[0m",
      "\u001b[0;31mIndexError\u001b[0m                                Traceback (most recent call last)",
      "Cell \u001b[0;32mIn[22], line 1\u001b[0m\n\u001b[0;32m----> 1\u001b[0m l\u001b[38;5;241m.\u001b[39mpop(\u001b[38;5;241m100\u001b[39m)\n",
      "\u001b[0;31mIndexError\u001b[0m: pop index out of range"
     ]
    }
   ],
   "source": [
    "l.pop(100)"
   ]
  },
  {
   "cell_type": "code",
   "execution_count": 23,
   "id": "50d9e3c5",
   "metadata": {},
   "outputs": [
    {
     "ename": "ValueError",
     "evalue": "list.remove(x): x not in list",
     "output_type": "error",
     "traceback": [
      "\u001b[0;31m---------------------------------------------------------------------------\u001b[0m",
      "\u001b[0;31mValueError\u001b[0m                                Traceback (most recent call last)",
      "Cell \u001b[0;32mIn[23], line 1\u001b[0m\n\u001b[0;32m----> 1\u001b[0m l\u001b[38;5;241m.\u001b[39mremove(\u001b[38;5;241m100\u001b[39m)\n",
      "\u001b[0;31mValueError\u001b[0m: list.remove(x): x not in list"
     ]
    }
   ],
   "source": [
    "l.remove(100)"
   ]
  },
  {
   "cell_type": "code",
   "execution_count": 24,
   "id": "f2ca576b",
   "metadata": {},
   "outputs": [],
   "source": [
    "l.remove(4)"
   ]
  },
  {
   "cell_type": "markdown",
   "id": "4f72a2ee",
   "metadata": {},
   "source": [
    "remove function removes the data occuring only at the very first instance in a list. If the list has the same data at multiple locations then also the data point at which the first location will only be deleted. If the dat is not found it will generate an error"
   ]
  },
  {
   "cell_type": "code",
   "execution_count": 26,
   "id": "f1ce3a6f",
   "metadata": {},
   "outputs": [
    {
     "data": {
      "text/plain": [
       "1"
      ]
     },
     "execution_count": 26,
     "metadata": {},
     "output_type": "execute_result"
    }
   ],
   "source": [
    "l.count(5)"
   ]
  },
  {
   "cell_type": "code",
   "execution_count": 27,
   "id": "2b523c2c",
   "metadata": {},
   "outputs": [
    {
     "data": {
      "text/plain": [
       "22"
      ]
     },
     "execution_count": 27,
     "metadata": {},
     "output_type": "execute_result"
    }
   ],
   "source": [
    "l.index(5)"
   ]
  },
  {
   "cell_type": "code",
   "execution_count": 28,
   "id": "77f49261",
   "metadata": {},
   "outputs": [
    {
     "ename": "ValueError",
     "evalue": "500 is not in list",
     "output_type": "error",
     "traceback": [
      "\u001b[0;31m---------------------------------------------------------------------------\u001b[0m",
      "\u001b[0;31mValueError\u001b[0m                                Traceback (most recent call last)",
      "Cell \u001b[0;32mIn[28], line 1\u001b[0m\n\u001b[0;32m----> 1\u001b[0m l\u001b[38;5;241m.\u001b[39mindex(\u001b[38;5;241m500\u001b[39m)\n",
      "\u001b[0;31mValueError\u001b[0m: 500 is not in list"
     ]
    }
   ],
   "source": [
    "l.index(500)"
   ]
  },
  {
   "cell_type": "code",
   "execution_count": 29,
   "id": "57339336",
   "metadata": {},
   "outputs": [],
   "source": [
    "l = [1, 2, 3, 4]\n",
    "l1 = l\n"
   ]
  },
  {
   "cell_type": "markdown",
   "id": "e6757bc0",
   "metadata": {},
   "source": [
    "hERE IN ABOVE, INTERNALLY, L WILL HAVE A ADDRESS LOCATION. Since l1 = l, l1 will also refer to the same place"
   ]
  },
  {
   "cell_type": "code",
   "execution_count": 30,
   "id": "0010e54d",
   "metadata": {},
   "outputs": [
    {
     "data": {
      "text/plain": [
       "4531450112"
      ]
     },
     "execution_count": 30,
     "metadata": {},
     "output_type": "execute_result"
    }
   ],
   "source": [
    "id(l)"
   ]
  },
  {
   "cell_type": "code",
   "execution_count": 31,
   "id": "7c6ed13d",
   "metadata": {},
   "outputs": [
    {
     "data": {
      "text/plain": [
       "4531450112"
      ]
     },
     "execution_count": 31,
     "metadata": {},
     "output_type": "execute_result"
    }
   ],
   "source": [
    "id(l1)"
   ]
  },
  {
   "cell_type": "code",
   "execution_count": 34,
   "id": "0e14d7ff",
   "metadata": {},
   "outputs": [
    {
     "data": {
      "text/plain": [
       "['sudhanshu', 2, 3, 4]"
      ]
     },
     "execution_count": 34,
     "metadata": {},
     "output_type": "execute_result"
    }
   ],
   "source": [
    "l[0] = \"sudhanshu\"\n",
    "l"
   ]
  },
  {
   "cell_type": "code",
   "execution_count": 35,
   "id": "caafc831",
   "metadata": {},
   "outputs": [
    {
     "data": {
      "text/plain": [
       "['sudhanshu', 2, 3, 4]"
      ]
     },
     "execution_count": 35,
     "metadata": {},
     "output_type": "execute_result"
    }
   ],
   "source": [
    "l1"
   ]
  },
  {
   "cell_type": "markdown",
   "id": "e2aa35a0",
   "metadata": {},
   "source": [
    "Even though we have not made any changes in l1, then also when l is changed, l1 also changed as both of them are referring to same locatioon"
   ]
  },
  {
   "cell_type": "code",
   "execution_count": 36,
   "id": "a5fb4462",
   "metadata": {},
   "outputs": [
    {
     "data": {
      "text/plain": [
       "['sudhanshu', 2, 3, 4]"
      ]
     },
     "execution_count": 36,
     "metadata": {},
     "output_type": "execute_result"
    }
   ],
   "source": [
    "l2 = l.copy()\n",
    "l2"
   ]
  },
  {
   "cell_type": "code",
   "execution_count": 37,
   "id": "70c494a3",
   "metadata": {},
   "outputs": [
    {
     "data": {
      "text/plain": [
       "4452460032"
      ]
     },
     "execution_count": 37,
     "metadata": {},
     "output_type": "execute_result"
    }
   ],
   "source": [
    "id(l2)"
   ]
  },
  {
   "cell_type": "code",
   "execution_count": 38,
   "id": "3c71f1bb",
   "metadata": {},
   "outputs": [
    {
     "data": {
      "text/plain": [
       "4531450112"
      ]
     },
     "execution_count": 38,
     "metadata": {},
     "output_type": "execute_result"
    }
   ],
   "source": [
    "id(l)"
   ]
  },
  {
   "cell_type": "code",
   "execution_count": 39,
   "id": "0e066ab4",
   "metadata": {},
   "outputs": [
    {
     "data": {
      "text/plain": [
       "[2, 2, 3, 4]"
      ]
     },
     "execution_count": 39,
     "metadata": {},
     "output_type": "execute_result"
    }
   ],
   "source": [
    "l[0] = 2\n",
    "l"
   ]
  },
  {
   "cell_type": "code",
   "execution_count": 40,
   "id": "138b16a9",
   "metadata": {},
   "outputs": [
    {
     "data": {
      "text/plain": [
       "[2, 2, 3, 4]"
      ]
     },
     "execution_count": 40,
     "metadata": {},
     "output_type": "execute_result"
    }
   ],
   "source": [
    "l1"
   ]
  },
  {
   "cell_type": "code",
   "execution_count": 41,
   "id": "3144687b",
   "metadata": {},
   "outputs": [
    {
     "data": {
      "text/plain": [
       "['sudhanshu', 2, 3, 4]"
      ]
     },
     "execution_count": 41,
     "metadata": {},
     "output_type": "execute_result"
    }
   ],
   "source": [
    "l2"
   ]
  },
  {
   "cell_type": "markdown",
   "id": "d91fb7ad",
   "metadata": {},
   "source": [
    "l2 = l.copy() is called Shallow Copy\n",
    "l1 = l is called Deep Copy"
   ]
  },
  {
   "cell_type": "code",
   "execution_count": 42,
   "id": "fe1f4efa",
   "metadata": {},
   "outputs": [
    {
     "data": {
      "text/plain": [
       "[]"
      ]
     },
     "execution_count": 42,
     "metadata": {},
     "output_type": "execute_result"
    }
   ],
   "source": [
    "l.clear()\n",
    "l"
   ]
  }
 ],
 "metadata": {
  "kernelspec": {
   "display_name": "base",
   "language": "python",
   "name": "python3"
  },
  "language_info": {
   "codemirror_mode": {
    "name": "ipython",
    "version": 3
   },
   "file_extension": ".py",
   "mimetype": "text/x-python",
   "name": "python",
   "nbconvert_exporter": "python",
   "pygments_lexer": "ipython3",
   "version": "3.12.7"
  }
 },
 "nbformat": 4,
 "nbformat_minor": 5
}
