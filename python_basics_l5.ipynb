{
 "cells": [
  {
   "cell_type": "markdown",
   "id": "8dd8bb92",
   "metadata": {},
   "source": [
    "For Loop Staement"
   ]
  },
  {
   "cell_type": "code",
   "execution_count": 1,
   "id": "56dfc555",
   "metadata": {},
   "outputs": [
    {
     "name": "stdout",
     "output_type": "stream",
     "text": [
      "s\n",
      "u\n",
      "d\n",
      "h\n",
      "a\n",
      "n\n",
      "s\n",
      "h\n",
      "u\n"
     ]
    }
   ],
   "source": [
    "s = \"sudhanshu\"\n",
    "for i in s :\n",
    "    print(i)\n"
   ]
  },
  {
   "cell_type": "code",
   "execution_count": 2,
   "id": "8bdd2385",
   "metadata": {},
   "outputs": [
    {
     "name": "stdout",
     "output_type": "stream",
     "text": [
      "5\n",
      "6\n",
      "7\n",
      "8\n"
     ]
    }
   ],
   "source": [
    "l = [5, 6, 7, 8]\n",
    "for i in l :\n",
    "    print(i)"
   ]
  },
  {
   "cell_type": "code",
   "execution_count": 3,
   "id": "2eef59b6",
   "metadata": {},
   "outputs": [
    {
     "name": "stdout",
     "output_type": "stream",
     "text": [
      "S\n",
      "U\n",
      "D\n",
      "H\n",
      "A\n",
      "N\n",
      "S\n",
      "H\n",
      "U\n"
     ]
    }
   ],
   "source": [
    "s = \"sudhanshu\"\n",
    "for i in s :\n",
    "    print(i.upper())\n"
   ]
  },
  {
   "cell_type": "code",
   "execution_count": 4,
   "id": "e3b67726",
   "metadata": {},
   "outputs": [
    {
     "data": {
      "text/plain": [
       "range(0, 5)"
      ]
     },
     "execution_count": 4,
     "metadata": {},
     "output_type": "execute_result"
    }
   ],
   "source": [
    "range(5)"
   ]
  },
  {
   "cell_type": "markdown",
   "id": "9a7c9fed",
   "metadata": {},
   "source": [
    "Range function generate data excluding the upper limit"
   ]
  },
  {
   "cell_type": "code",
   "execution_count": 5,
   "id": "7f5bde9c",
   "metadata": {},
   "outputs": [
    {
     "data": {
      "text/plain": [
       "[0, 1, 2, 3, 4]"
      ]
     },
     "execution_count": 5,
     "metadata": {},
     "output_type": "execute_result"
    }
   ],
   "source": [
    "list(range(5))"
   ]
  },
  {
   "cell_type": "code",
   "execution_count": 6,
   "id": "1f19d84c",
   "metadata": {},
   "outputs": [
    {
     "data": {
      "text/plain": [
       "[3, 4, 5, 6, 7, 8]"
      ]
     },
     "execution_count": 6,
     "metadata": {},
     "output_type": "execute_result"
    }
   ],
   "source": [
    "list(range(3, 9))"
   ]
  },
  {
   "cell_type": "code",
   "execution_count": 7,
   "id": "ca60b7e7",
   "metadata": {},
   "outputs": [
    {
     "data": {
      "text/plain": [
       "[3, 5, 7]"
      ]
     },
     "execution_count": 7,
     "metadata": {},
     "output_type": "execute_result"
    }
   ],
   "source": [
    "list(range(3, 9, 2))"
   ]
  },
  {
   "cell_type": "code",
   "execution_count": 8,
   "id": "6b92722a",
   "metadata": {},
   "outputs": [
    {
     "name": "stdout",
     "output_type": "stream",
     "text": [
      "0\n",
      "1\n",
      "2\n",
      "3\n",
      "4\n"
     ]
    }
   ],
   "source": [
    "for i in range(5):\n",
    "    print(i)"
   ]
  },
  {
   "cell_type": "code",
   "execution_count": 11,
   "id": "516e3e4b",
   "metadata": {},
   "outputs": [
    {
     "name": "stdout",
     "output_type": "stream",
     "text": [
      "s\n",
      "d\n",
      "a\n",
      "s\n",
      "u\n"
     ]
    }
   ],
   "source": [
    "s = \"sudhanshu\"\n",
    "for i in range(0, len(s), 2):\n",
    "    print(s[i])\n"
   ]
  },
  {
   "cell_type": "code",
   "execution_count": 20,
   "id": "d357bf86",
   "metadata": {},
   "outputs": [
    {
     "name": "stdout",
     "output_type": "stream",
     "text": [
      "u\n",
      "h\n",
      "s\n",
      "n\n",
      "a\n",
      "h\n",
      "d\n",
      "u\n",
      "s\n"
     ]
    }
   ],
   "source": [
    "# Reverse the string\n",
    "s = \"sudhanshu\"\n",
    "for i in range(len(s)-1, -1, -1) :\n",
    "    print(s[i])\n"
   ]
  },
  {
   "cell_type": "code",
   "execution_count": 21,
   "id": "d8a75a88",
   "metadata": {},
   "outputs": [
    {
     "name": "stdout",
     "output_type": "stream",
     "text": [
      "*\n",
      "**\n",
      "***\n",
      "****\n",
      "*****\n",
      "******\n",
      "*******\n",
      "********\n",
      "*********\n",
      "**********\n"
     ]
    }
   ],
   "source": [
    "n = 10\n",
    "for i in range(1, n+1):\n",
    "    print(\"*\"*i)\n"
   ]
  },
  {
   "cell_type": "code",
   "execution_count": 28,
   "id": "4aeed255",
   "metadata": {},
   "outputs": [
    {
     "name": "stdout",
     "output_type": "stream",
     "text": [
      "1\n",
      "1\n",
      "2\n",
      "1\n",
      "2\n",
      "3\n",
      "1\n",
      "2\n",
      "3\n",
      "4\n",
      "1\n",
      "2\n",
      "3\n",
      "4\n",
      "5\n"
     ]
    }
   ],
   "source": [
    "n = 5\n",
    "for i in range(1, n+1):\n",
    "    for x in range(1, i+1):\n",
    "        print(x)\n",
    "\n"
   ]
  },
  {
   "cell_type": "code",
   "execution_count": 36,
   "id": "ff67497e",
   "metadata": {},
   "outputs": [
    {
     "name": "stdout",
     "output_type": "stream",
     "text": [
      "1 \n",
      "1 2 \n",
      "1 2 3 \n",
      "1 2 3 4 \n",
      "1 2 3 4 5 \n"
     ]
    }
   ],
   "source": [
    "n = 5\n",
    "for i in range(1, n+1):\n",
    "    for x in range(1, i+1):\n",
    "        print(x, end = \" \")  #separte the dat in the same line\n",
    "    \n",
    "    print(end = \"\\n\")"
   ]
  },
  {
   "cell_type": "code",
   "execution_count": 39,
   "id": "ae4ce1cb",
   "metadata": {},
   "outputs": [
    {
     "name": "stdout",
     "output_type": "stream",
     "text": [
      "    *\n",
      "   **\n",
      "  ***\n",
      " ****\n",
      "*****\n"
     ]
    }
   ],
   "source": [
    "n = 5\n",
    "for i in range(1, n+1):\n",
    "    print(\" \"*(n-i) + \"*\"*i)"
   ]
  },
  {
   "cell_type": "code",
   "execution_count": 43,
   "id": "6f5cb848",
   "metadata": {},
   "outputs": [
    {
     "name": "stdout",
     "output_type": "stream",
     "text": [
      "    *    \n",
      "   ***   \n",
      "  *****  \n",
      " ******* \n",
      "*********\n"
     ]
    }
   ],
   "source": [
    "n = 10\n",
    "for i in range(1, n+1, 2):\n",
    "    print(\" \"*int(((n-i)/2)) + \"*\"*i + \" \"*int(((n-i)/2)))\n"
   ]
  },
  {
   "cell_type": "code",
   "execution_count": 44,
   "id": "bafca184",
   "metadata": {},
   "outputs": [
    {
     "name": "stdout",
     "output_type": "stream",
     "text": [
      "    *\n",
      "   ***\n",
      "  *****\n",
      " *******\n",
      "*********\n"
     ]
    }
   ],
   "source": [
    "n = 5\n",
    "for i in range(1, n+1):\n",
    "    print(\" \"*(n-i) + \"*\"*(2*i-1))\n"
   ]
  },
  {
   "cell_type": "code",
   "execution_count": 45,
   "id": "5444e043",
   "metadata": {},
   "outputs": [
    {
     "name": "stdout",
     "output_type": "stream",
     "text": [
      "    *\n",
      "   ***\n",
      "  *****\n",
      " *******\n",
      "*********\n",
      " *******\n",
      "  *****\n",
      "   ***\n",
      "    *\n"
     ]
    }
   ],
   "source": [
    "n = 5\n",
    "for i in range(1, n+1):\n",
    "    print(\" \"*(n-i) + \"*\"*(2*i-1))\n",
    "for i in range(n-1, 0, -1):\n",
    "    print(\" \"*(n-i) + \"*\"*(2*i-1))"
   ]
  }
 ],
 "metadata": {
  "kernelspec": {
   "display_name": "base",
   "language": "python",
   "name": "python3"
  },
  "language_info": {
   "codemirror_mode": {
    "name": "ipython",
    "version": 3
   },
   "file_extension": ".py",
   "mimetype": "text/x-python",
   "name": "python",
   "nbconvert_exporter": "python",
   "pygments_lexer": "ipython3",
   "version": "3.12.7"
  }
 },
 "nbformat": 4,
 "nbformat_minor": 5
}
