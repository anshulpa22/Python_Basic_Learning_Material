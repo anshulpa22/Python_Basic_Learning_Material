{
 "cells": [
  {
   "cell_type": "markdown",
   "id": "25301745",
   "metadata": {},
   "source": [
    "This is about INHERITANCE, SUPER(), MRO, MULTIPLE INHEROTANCE"
   ]
  },
  {
   "cell_type": "code",
   "execution_count": 14,
   "id": "11438b17",
   "metadata": {},
   "outputs": [],
   "source": [
    "class mentor:\n",
    "    def __init__(self, name):\n",
    "        self.name = name\n",
    "    \n",
    "    def show(self):\n",
    "        print(f\"mentor {self.name}\")"
   ]
  },
  {
   "cell_type": "markdown",
   "id": "42684a35",
   "metadata": {},
   "source": [
    "Now, I do not want to use the class mentor directly."
   ]
  },
  {
   "cell_type": "code",
   "execution_count": 15,
   "id": "f57dba4e",
   "metadata": {},
   "outputs": [],
   "source": [
    "class euronmentor(mentor):\n",
    "    pass"
   ]
  },
  {
   "cell_type": "code",
   "execution_count": 16,
   "id": "40191b9e",
   "metadata": {},
   "outputs": [],
   "source": [
    "a = euronmentor(\"anshul\")"
   ]
  },
  {
   "cell_type": "markdown",
   "id": "d5fa1a33",
   "metadata": {},
   "source": [
    "The above way help us to inherit each and every thing from the mentor class into the euronmentor class"
   ]
  },
  {
   "cell_type": "code",
   "execution_count": 17,
   "id": "e97c2e6c",
   "metadata": {},
   "outputs": [
    {
     "data": {
      "text/plain": [
       "'anshul'"
      ]
     },
     "execution_count": 17,
     "metadata": {},
     "output_type": "execute_result"
    }
   ],
   "source": [
    "a.name"
   ]
  },
  {
   "cell_type": "code",
   "execution_count": 18,
   "id": "f844a7d8",
   "metadata": {},
   "outputs": [
    {
     "name": "stdout",
     "output_type": "stream",
     "text": [
      "mentor anshul\n"
     ]
    }
   ],
   "source": [
    "a.show()"
   ]
  },
  {
   "cell_type": "code",
   "execution_count": 35,
   "id": "738e8845",
   "metadata": {},
   "outputs": [],
   "source": [
    "class mentor:\n",
    "    def __init__(self, name):\n",
    "        self.name = name\n",
    "    \n",
    "    def show(self):\n",
    "        print(f\"mentor {self.name}\")\n"
   ]
  },
  {
   "cell_type": "code",
   "execution_count": 40,
   "id": "0ab51dd3",
   "metadata": {},
   "outputs": [],
   "source": [
    "class euronmentor(mentor):\n",
    "    def asign_course(self, course):\n",
    "        print(f\"{self.name},{course}\")"
   ]
  },
  {
   "cell_type": "code",
   "execution_count": 41,
   "id": "40ee5258",
   "metadata": {},
   "outputs": [],
   "source": [
    "a = euronmentor(\"anshul\")"
   ]
  },
  {
   "cell_type": "code",
   "execution_count": 30,
   "id": "952d64e3",
   "metadata": {},
   "outputs": [
    {
     "name": "stdout",
     "output_type": "stream",
     "text": [
      "mentor anshul\n"
     ]
    }
   ],
   "source": [
    "a.show()"
   ]
  },
  {
   "cell_type": "code",
   "execution_count": 42,
   "id": "7486c358",
   "metadata": {},
   "outputs": [
    {
     "name": "stdout",
     "output_type": "stream",
     "text": [
      "anshul,python\n"
     ]
    }
   ],
   "source": [
    "a.asign_course(\"python\")"
   ]
  },
  {
   "cell_type": "code",
   "execution_count": 43,
   "id": "45d3c7a7",
   "metadata": {},
   "outputs": [],
   "source": [
    "class mentor:\n",
    "    def intro(self):\n",
    "        print(\"my name is anshul\")"
   ]
  },
  {
   "cell_type": "code",
   "execution_count": 44,
   "id": "ad3eaf73",
   "metadata": {},
   "outputs": [],
   "source": [
    "class euronmentor(mentor):\n",
    "    def intro(self):\n",
    "        print(\"this is my new euron mentor\")"
   ]
  },
  {
   "cell_type": "code",
   "execution_count": 45,
   "id": "9a500b40",
   "metadata": {},
   "outputs": [],
   "source": [
    "b = euronmentor()"
   ]
  },
  {
   "cell_type": "code",
   "execution_count": 46,
   "id": "e5e1e535",
   "metadata": {},
   "outputs": [
    {
     "name": "stdout",
     "output_type": "stream",
     "text": [
      "this is my new euron mentor\n"
     ]
    }
   ],
   "source": [
    "b.intro()"
   ]
  },
  {
   "cell_type": "markdown",
   "id": "5733bfd4",
   "metadata": {},
   "source": [
    "Now, we have the same function defined in both parent and the child class. In such a case if we create an object of child class it will always follow and execute the definition of function defined in the child class and not the parent class. This is called \"override\"\n",
    "\n",
    "However, if we also want that the function defined in the parent class also to be executed we can use the super class as shown below"
   ]
  },
  {
   "cell_type": "code",
   "execution_count": 47,
   "id": "dfea3f77",
   "metadata": {},
   "outputs": [],
   "source": [
    "class mentor:\n",
    "    def intro(self):\n",
    "        print(\"my name is anshul\")"
   ]
  },
  {
   "cell_type": "code",
   "execution_count": 48,
   "id": "7c0bbff9",
   "metadata": {},
   "outputs": [],
   "source": [
    "class euronmentor(mentor):\n",
    "    def intro(self):\n",
    "        super().intro()\n",
    "        print(\"this is my new euron mentor\")"
   ]
  },
  {
   "cell_type": "code",
   "execution_count": 51,
   "id": "ead228fd",
   "metadata": {},
   "outputs": [],
   "source": [
    "b = euronmentor()"
   ]
  },
  {
   "cell_type": "code",
   "execution_count": 52,
   "id": "75706190",
   "metadata": {},
   "outputs": [
    {
     "name": "stdout",
     "output_type": "stream",
     "text": [
      "my name is anshul\n",
      "this is my new euron mentor\n"
     ]
    }
   ],
   "source": [
    "b.intro()"
   ]
  },
  {
   "cell_type": "code",
   "execution_count": 53,
   "id": "fb6e213b",
   "metadata": {},
   "outputs": [],
   "source": [
    "class course():\n",
    "\n",
    "    def __init__(self, title):\n",
    "        self.title = title\n",
    "        print(f\"{self.title}\")"
   ]
  },
  {
   "cell_type": "code",
   "execution_count": 64,
   "id": "610e2f74",
   "metadata": {},
   "outputs": [],
   "source": [
    "class euroncourse(course):\n",
    "    def __init__(self, title, mentor):\n",
    "        super().__init__(title=title)\n",
    "        self.mentor = mentor\n",
    "        print(f\"{self.title}, {self.mentor}\")"
   ]
  },
  {
   "cell_type": "code",
   "execution_count": 65,
   "id": "08816237",
   "metadata": {},
   "outputs": [
    {
     "name": "stdout",
     "output_type": "stream",
     "text": [
      "python\n",
      "python, anshul\n"
     ]
    }
   ],
   "source": [
    "a = euroncourse(\"python\", \"anshul\")"
   ]
  },
  {
   "cell_type": "markdown",
   "id": "9e3316dd",
   "metadata": {},
   "source": [
    "The below examole illustrates the multi level inheritance"
   ]
  },
  {
   "cell_type": "code",
   "execution_count": 67,
   "id": "e6f6c576",
   "metadata": {},
   "outputs": [],
   "source": [
    "class platform:\n",
    "    def show(self):\n",
    "        print(\"this is my euron platform\")\n",
    "\n",
    "class course(platform):\n",
    "    def display_course(self):\n",
    "        print(\"this will give you the couse deatils\")\n",
    "\n",
    "\n",
    "class dsa(course):\n",
    "    def intro(self):\n",
    "        print(\"this is my dsa course\")\n"
   ]
  },
  {
   "cell_type": "code",
   "execution_count": 68,
   "id": "a66a8f8a",
   "metadata": {},
   "outputs": [],
   "source": [
    "ds =dsa()"
   ]
  },
  {
   "cell_type": "code",
   "execution_count": 69,
   "id": "7f85ff3c",
   "metadata": {},
   "outputs": [
    {
     "name": "stdout",
     "output_type": "stream",
     "text": [
      "this is my dsa course\n"
     ]
    }
   ],
   "source": [
    "ds.intro()"
   ]
  },
  {
   "cell_type": "code",
   "execution_count": 70,
   "id": "dc1fb43f",
   "metadata": {},
   "outputs": [
    {
     "name": "stdout",
     "output_type": "stream",
     "text": [
      "this is my euron platform\n"
     ]
    }
   ],
   "source": [
    "ds.show()"
   ]
  },
  {
   "cell_type": "code",
   "execution_count": 71,
   "id": "97877b7a",
   "metadata": {},
   "outputs": [
    {
     "name": "stdout",
     "output_type": "stream",
     "text": [
      "this will give you the couse deatils\n"
     ]
    }
   ],
   "source": [
    "ds.display_course()"
   ]
  },
  {
   "cell_type": "markdown",
   "id": "ea9ff172",
   "metadata": {},
   "source": [
    "The below example illustrates the case of \"multiple inheritance\" that is a class can inherit multiple classes"
   ]
  },
  {
   "cell_type": "code",
   "execution_count": 72,
   "id": "21089764",
   "metadata": {},
   "outputs": [],
   "source": [
    "class design:\n",
    "    def ui(self):\n",
    "        print(\"this is my system design\")\n",
    "\n",
    "class curriculum:\n",
    "    def syllabus(self):\n",
    "        print(\"curriculum laoaded\")\n",
    "\n",
    "class euronsystem(design, curriculum):\n",
    "    pass"
   ]
  },
  {
   "cell_type": "code",
   "execution_count": 73,
   "id": "47a2acfa",
   "metadata": {},
   "outputs": [],
   "source": [
    "a = euronsystem()"
   ]
  },
  {
   "cell_type": "code",
   "execution_count": 74,
   "id": "f1d888c3",
   "metadata": {},
   "outputs": [
    {
     "name": "stdout",
     "output_type": "stream",
     "text": [
      "curriculum laoaded\n"
     ]
    }
   ],
   "source": [
    "a.syllabus()"
   ]
  },
  {
   "cell_type": "code",
   "execution_count": 75,
   "id": "b0eb6791",
   "metadata": {},
   "outputs": [
    {
     "name": "stdout",
     "output_type": "stream",
     "text": [
      "this is my system design\n"
     ]
    }
   ],
   "source": [
    "a.ui()"
   ]
  },
  {
   "cell_type": "markdown",
   "id": "79b57ba9",
   "metadata": {},
   "source": [
    "MRO stands for method resolution order which tells that whenever an object is called of a class what will be the priority, which one will be called first?"
   ]
  },
  {
   "cell_type": "code",
   "execution_count": 77,
   "id": "3ca97dfe",
   "metadata": {},
   "outputs": [
    {
     "data": {
      "text/plain": [
       "[__main__.dsa, __main__.course, __main__.platform, object]"
      ]
     },
     "execution_count": 77,
     "metadata": {},
     "output_type": "execute_result"
    }
   ],
   "source": [
    "dsa.mro()"
   ]
  },
  {
   "cell_type": "code",
   "execution_count": 76,
   "id": "8eabc5f1",
   "metadata": {},
   "outputs": [
    {
     "data": {
      "text/plain": [
       "[__main__.euronsystem, __main__.design, __main__.curriculum, object]"
      ]
     },
     "execution_count": 76,
     "metadata": {},
     "output_type": "execute_result"
    }
   ],
   "source": [
    "euronsystem.mro()"
   ]
  }
 ],
 "metadata": {
  "kernelspec": {
   "display_name": "base",
   "language": "python",
   "name": "python3"
  },
  "language_info": {
   "codemirror_mode": {
    "name": "ipython",
    "version": 3
   },
   "file_extension": ".py",
   "mimetype": "text/x-python",
   "name": "python",
   "nbconvert_exporter": "python",
   "pygments_lexer": "ipython3",
   "version": "3.12.7"
  }
 },
 "nbformat": 4,
 "nbformat_minor": 5
}
