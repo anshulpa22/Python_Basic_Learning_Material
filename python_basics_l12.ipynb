{
 "cells": [
  {
   "cell_type": "markdown",
   "id": "a0e166c1",
   "metadata": {},
   "source": [
    "List, Set, Dict Comprehension"
   ]
  },
  {
   "cell_type": "code",
   "execution_count": 1,
   "id": "481cd98d",
   "metadata": {},
   "outputs": [
    {
     "name": "stdout",
     "output_type": "stream",
     "text": [
      "0\n",
      "1\n",
      "4\n",
      "9\n",
      "16\n",
      "25\n",
      "36\n",
      "49\n"
     ]
    }
   ],
   "source": [
    "l = []\n",
    "for i in range(8):\n",
    "    print(i**2)"
   ]
  },
  {
   "cell_type": "markdown",
   "id": "fedee15f",
   "metadata": {},
   "source": [
    "I alos want to store this into list l"
   ]
  },
  {
   "cell_type": "code",
   "execution_count": 2,
   "id": "1646212b",
   "metadata": {},
   "outputs": [
    {
     "name": "stdout",
     "output_type": "stream",
     "text": [
      "0\n",
      "1\n",
      "4\n",
      "9\n",
      "16\n",
      "25\n",
      "36\n",
      "49\n"
     ]
    }
   ],
   "source": [
    "l = []\n",
    "for i in range(8):\n",
    "    print(i**2)\n",
    "    l.append(i**2)"
   ]
  },
  {
   "cell_type": "code",
   "execution_count": 3,
   "id": "aa1de62a",
   "metadata": {},
   "outputs": [
    {
     "data": {
      "text/plain": [
       "[0, 1, 4, 9, 16, 25, 36, 49]"
      ]
     },
     "execution_count": 3,
     "metadata": {},
     "output_type": "execute_result"
    }
   ],
   "source": [
    "l"
   ]
  },
  {
   "cell_type": "markdown",
   "id": "996972a7",
   "metadata": {},
   "source": [
    "The above same operation can be done via Comprehension"
   ]
  },
  {
   "cell_type": "markdown",
   "id": "9cc214d5",
   "metadata": {},
   "source": [
    "The below operation is called list comprehension"
   ]
  },
  {
   "cell_type": "code",
   "execution_count": 4,
   "id": "4a0a5d45",
   "metadata": {},
   "outputs": [
    {
     "data": {
      "text/plain": [
       "[0, 1, 4, 9, 16, 25, 36, 49]"
      ]
     },
     "execution_count": 4,
     "metadata": {},
     "output_type": "execute_result"
    }
   ],
   "source": [
    "[i**2 for i in range(8)]\n"
   ]
  },
  {
   "cell_type": "code",
   "execution_count": 5,
   "id": "a334604e",
   "metadata": {},
   "outputs": [
    {
     "data": {
      "text/plain": [
       "[2, 4, 6, 8, 10, 12, 14, 16, 18, 20]"
      ]
     },
     "execution_count": 5,
     "metadata": {},
     "output_type": "execute_result"
    }
   ],
   "source": [
    "[i for i in range(1, 21) if i % 2 == 0]"
   ]
  },
  {
   "cell_type": "code",
   "execution_count": 6,
   "id": "7f5f15a6",
   "metadata": {},
   "outputs": [
    {
     "data": {
      "text/plain": [
       "['ANSHUL', 'EURON', 'PYTHON']"
      ]
     },
     "execution_count": 6,
     "metadata": {},
     "output_type": "execute_result"
    }
   ],
   "source": [
    "l = [\"anshul\", \"euron\", \"python\"]\n",
    "[i.upper() for i in l]"
   ]
  },
  {
   "cell_type": "code",
   "execution_count": 7,
   "id": "a0a4dea8",
   "metadata": {},
   "outputs": [
    {
     "data": {
      "text/plain": [
       "[[4, 5], [7, 8]]"
      ]
     },
     "execution_count": 7,
     "metadata": {},
     "output_type": "execute_result"
    }
   ],
   "source": [
    "l = [[4,5], [7,8]]\n",
    "l1 = [4,5,7,8]\n",
    "#How to get l1 from l via list comprehension\n",
    "[i for i in l ]"
   ]
  },
  {
   "cell_type": "code",
   "execution_count": 9,
   "id": "d3635468",
   "metadata": {},
   "outputs": [
    {
     "data": {
      "text/plain": [
       "[4, 5, 7, 8]"
      ]
     },
     "execution_count": 9,
     "metadata": {},
     "output_type": "execute_result"
    }
   ],
   "source": [
    "l = [[4,5], [7,8]]\n",
    "l1 = [4,5,7,8]\n",
    "#How to get l1 from l via list comprehension\n",
    "[j for i in l for j in i]"
   ]
  },
  {
   "cell_type": "code",
   "execution_count": null,
   "id": "d803ee58",
   "metadata": {},
   "outputs": [
    {
     "data": {
      "text/plain": [
       "{1, 2, 3, 5, 44}"
      ]
     },
     "execution_count": 10,
     "metadata": {},
     "output_type": "execute_result"
    }
   ],
   "source": [
    "{i for i in [1,2,3,44,3,5]} # Set Comprehension"
   ]
  },
  {
   "cell_type": "code",
   "execution_count": null,
   "id": "a15b08ee",
   "metadata": {},
   "outputs": [
    {
     "name": "stdout",
     "output_type": "stream",
     "text": [
      "anshul\n",
      "euron\n",
      "python\n"
     ]
    }
   ],
   "source": [
    "l = [\"anshul\", \"euron\", \"python\"]\n",
    "for i in l:\n",
    "    print(i)\n",
    "{i[0] for i in l}\n"
   ]
  },
  {
   "cell_type": "code",
   "execution_count": null,
   "id": "da4d804b",
   "metadata": {},
   "outputs": [
    {
     "data": {
      "text/plain": [
       "{0: 0, 1: 1, 2: 4, 3: 9, 4: 16, 5: 25, 6: 36, 7: 49, 8: 64, 9: 81, 10: 100}"
      ]
     },
     "execution_count": 27,
     "metadata": {},
     "output_type": "execute_result"
    }
   ],
   "source": [
    "{i: i**2 for i in range(11)}. # Dict Comprehension"
   ]
  }
 ],
 "metadata": {
  "kernelspec": {
   "display_name": "base",
   "language": "python",
   "name": "python3"
  },
  "language_info": {
   "codemirror_mode": {
    "name": "ipython",
    "version": 3
   },
   "file_extension": ".py",
   "mimetype": "text/x-python",
   "name": "python",
   "nbconvert_exporter": "python",
   "pygments_lexer": "ipython3",
   "version": "3.12.7"
  }
 },
 "nbformat": 4,
 "nbformat_minor": 5
}
