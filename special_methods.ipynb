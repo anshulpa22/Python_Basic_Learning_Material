{
 "cells": [
  {
   "cell_type": "markdown",
   "id": "5807d6fe",
   "metadata": {},
   "source": [
    "This is about the Special Methods\n",
    "\n",
    "Any function inside a class that starts with a double underscore and ends with a double underscore are called special methods like __init__(). \n",
    "\n",
    "These are already inbuilt and we do not have to specifically create it."
   ]
  },
  {
   "cell_type": "code",
   "execution_count": 55,
   "id": "31e47f3e",
   "metadata": {},
   "outputs": [],
   "source": [
    "class course :\n",
    "    def __init__(self, title, mentor):\n",
    "        self.title = title\n",
    "        self.mentor = mentor\n",
    "\n",
    "    def __str__(self):\n",
    "        return f\"my name is anshul {self.mentor}, {self.title}\"\n",
    "    \n",
    "    def __eq__(self, value):\n",
    "        return self.title == value.title\n",
    "    \n",
    "    def __len__(self):\n",
    "        return len(self.title) + len(self.mentor)\n",
    "    \n",
    "    def __del__(self):\n",
    "        print(\"I will delete the object\")\n",
    "\n",
    "    def __call__(self):\n",
    "        return f\"{self.title}, {self.mentor}\""
   ]
  },
  {
   "cell_type": "code",
   "execution_count": 37,
   "id": "179cd39d",
   "metadata": {},
   "outputs": [],
   "source": [
    "c = course(\"python\", \"anshul\")"
   ]
  },
  {
   "cell_type": "markdown",
   "id": "3b0352bb",
   "metadata": {},
   "source": [
    "The __init__() method defined earlier:\n",
    "\n",
    "def __init__(self, title, mentor):\n",
    "        self.title = title\n",
    "        self.mentor = mentor\n",
    "\n",
    "This is called a \"Constructor\". Constructor is a kind of special method which takes a data while creating an object for a class like c earlier"
   ]
  },
  {
   "cell_type": "code",
   "execution_count": 38,
   "id": "9048d318",
   "metadata": {},
   "outputs": [
    {
     "data": {
      "text/plain": [
       "'python'"
      ]
     },
     "execution_count": 38,
     "metadata": {},
     "output_type": "execute_result"
    }
   ],
   "source": [
    "c.title"
   ]
  },
  {
   "cell_type": "code",
   "execution_count": 39,
   "id": "d380cab8",
   "metadata": {},
   "outputs": [
    {
     "data": {
      "text/plain": [
       "'anshul'"
      ]
     },
     "execution_count": 39,
     "metadata": {},
     "output_type": "execute_result"
    }
   ],
   "source": [
    "c.mentor"
   ]
  },
  {
   "cell_type": "code",
   "execution_count": 40,
   "id": "69a4c9f6",
   "metadata": {},
   "outputs": [
    {
     "name": "stdout",
     "output_type": "stream",
     "text": [
      "my name is anshul anshul, python\n"
     ]
    }
   ],
   "source": [
    "print(c)"
   ]
  },
  {
   "cell_type": "markdown",
   "id": "27f26347",
   "metadata": {},
   "source": [
    "Above when we try to print(c), it prints in hexadecimal. If we want to print something meaningful whever we invoke the instant of the class. This can be done with the __str__(self) function"
   ]
  },
  {
   "cell_type": "markdown",
   "id": "83565ab8",
   "metadata": {},
   "source": [
    "There is a special functio to check if the two objects are equal or not. This function is : __eq__(self, value)"
   ]
  },
  {
   "cell_type": "code",
   "execution_count": 41,
   "id": "22992afc",
   "metadata": {},
   "outputs": [],
   "source": [
    "co1 = course(\"python\", \"anshul\")\n",
    "co2 = course(\"python\", \"anshul\")"
   ]
  },
  {
   "cell_type": "code",
   "execution_count": 42,
   "id": "cee6572b",
   "metadata": {},
   "outputs": [
    {
     "data": {
      "text/plain": [
       "True"
      ]
     },
     "execution_count": 42,
     "metadata": {},
     "output_type": "execute_result"
    }
   ],
   "source": [
    "co1==co2"
   ]
  },
  {
   "cell_type": "code",
   "execution_count": 43,
   "id": "42788946",
   "metadata": {},
   "outputs": [
    {
     "data": {
      "text/plain": [
       "False"
      ]
     },
     "execution_count": 43,
     "metadata": {},
     "output_type": "execute_result"
    }
   ],
   "source": [
    "co3 = course(\"python1\", \"anshul\")\n",
    "co1==co3"
   ]
  },
  {
   "cell_type": "markdown",
   "id": "9770937c",
   "metadata": {},
   "source": [
    "__len__(self) is a function which helps to get the length of the arguments or data associated with the object"
   ]
  },
  {
   "cell_type": "code",
   "execution_count": 44,
   "id": "5ec46473",
   "metadata": {},
   "outputs": [],
   "source": [
    "a = course([\"python\", \"data\", \"big data\", \"data science\"], \"anshul\")\n"
   ]
  },
  {
   "cell_type": "code",
   "execution_count": 45,
   "id": "7e21d321",
   "metadata": {},
   "outputs": [
    {
     "data": {
      "text/plain": [
       "4"
      ]
     },
     "execution_count": 45,
     "metadata": {},
     "output_type": "execute_result"
    }
   ],
   "source": [
    "len(a.title)"
   ]
  },
  {
   "cell_type": "code",
   "execution_count": 46,
   "id": "e46dd96a",
   "metadata": {},
   "outputs": [
    {
     "data": {
      "text/plain": [
       "6"
      ]
     },
     "execution_count": 46,
     "metadata": {},
     "output_type": "execute_result"
    }
   ],
   "source": [
    "len(a.mentor)"
   ]
  },
  {
   "cell_type": "code",
   "execution_count": 47,
   "id": "0a532bcc",
   "metadata": {},
   "outputs": [
    {
     "name": "stdout",
     "output_type": "stream",
     "text": [
      "['python', 'data', 'big data', 'data science']\n"
     ]
    }
   ],
   "source": [
    "print(a.title)"
   ]
  },
  {
   "cell_type": "code",
   "execution_count": 48,
   "id": "c8f66724",
   "metadata": {},
   "outputs": [
    {
     "name": "stdout",
     "output_type": "stream",
     "text": [
      "4\n"
     ]
    }
   ],
   "source": [
    "print(len(a.title))"
   ]
  },
  {
   "cell_type": "code",
   "execution_count": 49,
   "id": "588ee902",
   "metadata": {},
   "outputs": [
    {
     "data": {
      "text/plain": [
       "10"
      ]
     },
     "execution_count": 49,
     "metadata": {},
     "output_type": "execute_result"
    }
   ],
   "source": [
    "len(a)"
   ]
  },
  {
   "cell_type": "code",
   "execution_count": 51,
   "id": "a64333e0",
   "metadata": {},
   "outputs": [],
   "source": [
    "a = course(\"python\", \"anshul\")"
   ]
  },
  {
   "cell_type": "code",
   "execution_count": 52,
   "id": "296d36be",
   "metadata": {},
   "outputs": [
    {
     "data": {
      "text/plain": [
       "'python'"
      ]
     },
     "execution_count": 52,
     "metadata": {},
     "output_type": "execute_result"
    }
   ],
   "source": [
    "a.title"
   ]
  },
  {
   "cell_type": "code",
   "execution_count": 53,
   "id": "7b7885b4",
   "metadata": {},
   "outputs": [
    {
     "name": "stdout",
     "output_type": "stream",
     "text": [
      "I will delete the object\n"
     ]
    }
   ],
   "source": [
    "del a"
   ]
  },
  {
   "cell_type": "code",
   "execution_count": 56,
   "id": "53a2adb2",
   "metadata": {},
   "outputs": [],
   "source": [
    "a = course(\"python\", \"anshul\")"
   ]
  },
  {
   "cell_type": "code",
   "execution_count": 57,
   "id": "58fbec51",
   "metadata": {},
   "outputs": [
    {
     "data": {
      "text/plain": [
       "'anshul'"
      ]
     },
     "execution_count": 57,
     "metadata": {},
     "output_type": "execute_result"
    }
   ],
   "source": [
    "a.mentor"
   ]
  },
  {
   "cell_type": "code",
   "execution_count": 58,
   "id": "1ba09f32",
   "metadata": {},
   "outputs": [
    {
     "data": {
      "text/plain": [
       "'python'"
      ]
     },
     "execution_count": 58,
     "metadata": {},
     "output_type": "execute_result"
    }
   ],
   "source": [
    "a.title"
   ]
  },
  {
   "cell_type": "code",
   "execution_count": 59,
   "id": "fa416a1a",
   "metadata": {},
   "outputs": [
    {
     "data": {
      "text/plain": [
       "'python, anshul'"
      ]
     },
     "execution_count": 59,
     "metadata": {},
     "output_type": "execute_result"
    }
   ],
   "source": [
    "a()"
   ]
  },
  {
   "cell_type": "markdown",
   "id": "fe45aa7a",
   "metadata": {},
   "source": [
    "__call__(self) allows an object to be called as a function"
   ]
  }
 ],
 "metadata": {
  "kernelspec": {
   "display_name": "base",
   "language": "python",
   "name": "python3"
  },
  "language_info": {
   "codemirror_mode": {
    "name": "ipython",
    "version": 3
   },
   "file_extension": ".py",
   "mimetype": "text/x-python",
   "name": "python",
   "nbconvert_exporter": "python",
   "pygments_lexer": "ipython3",
   "version": "3.12.7"
  }
 },
 "nbformat": 4,
 "nbformat_minor": 5
}
